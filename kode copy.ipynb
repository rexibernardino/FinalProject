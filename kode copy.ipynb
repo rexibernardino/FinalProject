{
 "cells": [
  {
   "cell_type": "code",
   "execution_count": 282,
   "metadata": {},
   "outputs": [
    {
     "name": "stdout",
     "output_type": "stream",
     "text": [
      "3.6.0\n"
     ]
    }
   ],
   "source": [
    "import numpy as np\n",
    "import matplotlib.pyplot as plt\n",
    "import tensorflow as tf\n",
    "\n",
    "import keras as k\n",
    "print(k.__version__)\n",
    "from keras.callbacks import ModelCheckpoint, EarlyStopping\n",
    "from keras_contrib.layers import CRF"
   ]
  },
  {
   "cell_type": "code",
   "execution_count": 283,
   "metadata": {},
   "outputs": [
    {
     "name": "stdout",
     "output_type": "stream",
     "text": [
      "TensorFlow version: 2.17.0\n",
      "Keras version: 3.6.0\n"
     ]
    }
   ],
   "source": [
    "print(f\"TensorFlow version: {tf.__version__}\")\n",
    "print(f\"Keras version: {k.__version__}\")"
   ]
  },
  {
   "cell_type": "code",
   "execution_count": null,
   "metadata": {},
   "outputs": [
    {
     "name": "stdout",
     "output_type": "stream",
     "text": [
      "<class 'pandas.core.frame.DataFrame'>\n",
      "Index: 4800 entries, 0 to 4993\n",
      "Data columns (total 3 columns):\n",
      " #   Column       Non-Null Count  Dtype \n",
      "---  ------       --------------  ----- \n",
      " 0   Token        4800 non-null   object\n",
      " 1   BIOLabel     4800 non-null   object\n",
      " 2   SentenceIDX  4800 non-null   int32 \n",
      "dtypes: int32(1), object(2)\n",
      "memory usage: 131.2+ KB\n",
      "Vocabulary Size: 1039\n"
     ]
    }
   ],
   "source": [
    "import pandas as pd\n",
    "\n",
    "dframe = pd.read_csv('dataset_idx_Rexi.csv',encoding='latin1', sep=';')\n",
    "dframe['SentenceIDX'] = dframe['SentenceIDX'].fillna(0).astype(int)\n",
    "dframe.dropna(inplace=True)\n",
    "dframe\n",
    "\n",
    "dataset = dframe\n",
    "dataset.info()\n",
    "\n",
    "from tensorflow.keras.preprocessing.text import Tokenizer\n",
    "import tensorflow as tf\n",
    "\n",
    "texts = dataset[\"Token\"].astype(str).values  # Convert the column to string type\n",
    "\n",
    "# Inisialisasi tokenizer\n",
    "tokenizer = Tokenizer()\n",
    "\n",
    "tokenizer.fit_on_texts(texts)\n",
    "\n",
    "# Dapatkan vocab size\n",
    "vocab_size = len(tokenizer.word_index) + 1  # Tambahkan 1 untuk token padding\n",
    "\n",
    "print(f\"Vocabulary Size: {vocab_size}\")"
   ]
  },
  {
   "cell_type": "code",
   "execution_count": 285,
   "metadata": {},
   "outputs": [],
   "source": [
    "class SentenceGetter(object):\n",
    "\n",
    "    def __init__(self, dataset):\n",
    "        self.n_sent = 1\n",
    "        self.dataset = dataset\n",
    "        self.empty = False\n",
    "        agg_func = lambda s: [(w, t) for w,t in zip(s[\"Token\"].values.tolist(),\n",
    "                                                        s[\"BIOLabel\"].values.tolist())]\n",
    "        self.grouped = self.dataset.groupby(\"SentenceIDX\").apply(agg_func)\n",
    "        self.sentences = [s for s in self.grouped]\n",
    "\n",
    "    def get_next(self):\n",
    "        try:\n",
    "            s = self.grouped[\"Sentence: {}\".format(self.n_sent)]\n",
    "            self.n_sent += 1\n",
    "            return s\n",
    "        except:\n",
    "            return None"
   ]
  },
  {
   "cell_type": "code",
   "execution_count": 286,
   "metadata": {},
   "outputs": [
    {
     "name": "stdout",
     "output_type": "stream",
     "text": [
      "[('HUAWEI', 'B-Brand'), ('HP', 'B-Product'), ('40', 'I-Product'), ('Pro', 'I-Product'), ('8/256GB', 'B-Specifications'), ('-', 'O'), ('Helio', 'B-Specifications'), ('G99', 'I-Specifications'), ('-', 'O'), ('6.78', 'B-Specifications'), ('FHD+', 'I-Specifications'), ('-', 'O'), ('108MP', 'B-Specifications'), ('AI', 'I-Specifications'), ('Dual', 'I-Specifications'), ('Camera', 'I-Specifications'), ('-', 'O'), ('5000', 'B-Specifications'), ('mAh', 'I-Specifications'), ('-', 'O'), ('NFC', 'B-Specifications'), ('dengan', 'O'), ('potongan', 'B-Promo'), ('6%!', 'I-Promo'), ('Hanya', 'O'), ('Rp2.059.000.', 'B-Price'), ('Dapatkan', 'O'), ('segera', 'O'), ('di', 'O'), ('Shopee', 'B-OnlineShop'), ('#ShopeeID', 'O')]\n"
     ]
    }
   ],
   "source": [
    "getter = SentenceGetter(dataset)\n",
    "sentences = getter.sentences\n",
    "print(sentences[19])"
   ]
  },
  {
   "cell_type": "code",
   "execution_count": 287,
   "metadata": {},
   "outputs": [
    {
     "name": "stdout",
     "output_type": "stream",
     "text": [
      "Maximum sequence length: 42\n"
     ]
    }
   ],
   "source": [
    "maxlen = max([len(s) for s in sentences])\n",
    "print ('Maximum sequence length:', maxlen)"
   ]
  },
  {
   "cell_type": "code",
   "execution_count": 288,
   "metadata": {},
   "outputs": [
    {
     "data": {
      "text/plain": [
       "'Rp3.223.500.'"
      ]
     },
     "execution_count": 288,
     "metadata": {},
     "output_type": "execute_result"
    }
   ],
   "source": [
    "words = list(set(dataset[\"Token\"].values))\n",
    "words.append(\"ENDPAD\")\n",
    "words[102]"
   ]
  },
  {
   "cell_type": "code",
   "execution_count": 289,
   "metadata": {},
   "outputs": [
    {
     "data": {
      "text/plain": [
       "1229"
      ]
     },
     "execution_count": 289,
     "metadata": {},
     "output_type": "execute_result"
    }
   ],
   "source": [
    "n_words = len(words); n_words"
   ]
  },
  {
   "cell_type": "code",
   "execution_count": 290,
   "metadata": {},
   "outputs": [
    {
     "name": "stdout",
     "output_type": "stream",
     "text": [
      "['I-Specifications', 'B-Promo', 'O', 'B-OnlineShop', 'I-Brand', 'I-Warranty', 'I-Promo', 'I-Product', 'B-Price', 'B-Specifications', 'B-Product', 'B-Warranty', 'B-Brand']\n"
     ]
    }
   ],
   "source": [
    "tags = []\n",
    "for tag in set(dataset[\"BIOLabel\"].values):\n",
    "    if tag is np.nan or isinstance(tag, float):\n",
    "        tags.append('unk')\n",
    "    else:\n",
    "        tags.append(tag)\n",
    "print(tags)"
   ]
  },
  {
   "cell_type": "code",
   "execution_count": 291,
   "metadata": {},
   "outputs": [
    {
     "data": {
      "text/plain": [
       "13"
      ]
     },
     "execution_count": 291,
     "metadata": {},
     "output_type": "execute_result"
    }
   ],
   "source": [
    "n_tags = len(tags); n_tags"
   ]
  },
  {
   "cell_type": "code",
   "execution_count": 292,
   "metadata": {},
   "outputs": [],
   "source": [
    "from future.utils import iteritems\n",
    "word2idx = {w: i for i, w in enumerate(words)}\n",
    "tag2idx = {t: i for i, t in enumerate(tags)}\n",
    "idx2tag = {v: k for k, v in iteritems(tag2idx)}"
   ]
  },
  {
   "cell_type": "code",
   "execution_count": 293,
   "metadata": {},
   "outputs": [
    {
     "data": {
      "text/plain": [
       "803"
      ]
     },
     "execution_count": 293,
     "metadata": {},
     "output_type": "execute_result"
    }
   ],
   "source": [
    "word2idx['HP']"
   ]
  },
  {
   "cell_type": "code",
   "execution_count": 294,
   "metadata": {},
   "outputs": [
    {
     "data": {
      "text/plain": [
       "{'I-Specifications': 0,\n",
       " 'B-Promo': 1,\n",
       " 'O': 2,\n",
       " 'B-OnlineShop': 3,\n",
       " 'I-Brand': 4,\n",
       " 'I-Warranty': 5,\n",
       " 'I-Promo': 6,\n",
       " 'I-Product': 7,\n",
       " 'B-Price': 8,\n",
       " 'B-Specifications': 9,\n",
       " 'B-Product': 10,\n",
       " 'B-Warranty': 11,\n",
       " 'B-Brand': 12}"
      ]
     },
     "execution_count": 294,
     "metadata": {},
     "output_type": "execute_result"
    }
   ],
   "source": [
    "tag2idx\n"
   ]
  },
  {
   "cell_type": "code",
   "execution_count": 295,
   "metadata": {},
   "outputs": [
    {
     "data": {
      "text/plain": [
       "{0: 'I-Specifications',\n",
       " 1: 'B-Promo',\n",
       " 2: 'O',\n",
       " 3: 'B-OnlineShop',\n",
       " 4: 'I-Brand',\n",
       " 5: 'I-Warranty',\n",
       " 6: 'I-Promo',\n",
       " 7: 'I-Product',\n",
       " 8: 'B-Price',\n",
       " 9: 'B-Specifications',\n",
       " 10: 'B-Product',\n",
       " 11: 'B-Warranty',\n",
       " 12: 'B-Brand'}"
      ]
     },
     "execution_count": 295,
     "metadata": {},
     "output_type": "execute_result"
    }
   ],
   "source": [
    "idx2tag"
   ]
  },
  {
   "cell_type": "code",
   "execution_count": 296,
   "metadata": {},
   "outputs": [
    {
     "data": {
      "text/plain": [
       "[('Temukan', 'O'),\n",
       " ('HUAWEI', 'B-Brand'),\n",
       " ('-', 'O'),\n",
       " ('Defect', 'O'),\n",
       " ('Sale', 'O'),\n",
       " ('HP', 'B-Product'),\n",
       " ('LOW', 'O'),\n",
       " ('PRICE', 'O'),\n",
       " ('ALL', 'O'),\n",
       " ('BLACK', 'O'),\n",
       " ('|', 'O'),\n",
       " ('|', 'O'),\n",
       " ('|', 'O'),\n",
       " ('di', 'O'),\n",
       " ('Blibli', 'B-OnlineShop'),\n",
       " ('lagi', 'O'),\n",
       " ('diskon', 'B-Promo'),\n",
       " ('80%', 'I-Promo'),\n",
       " ('harganya', 'O'),\n",
       " ('jadi', 'O'),\n",
       " ('Rp2.556.500!', 'B-Price')]"
      ]
     },
     "execution_count": 296,
     "metadata": {},
     "output_type": "execute_result"
    }
   ],
   "source": [
    "sentences[68]"
   ]
  },
  {
   "cell_type": "code",
   "execution_count": 297,
   "metadata": {},
   "outputs": [],
   "source": [
    "from keras.preprocessing.sequence import pad_sequences\n",
    "X = [[word2idx[w[0]] for w in s] for s in sentences]\n",
    "#X = pad_sequences(X)\n",
    "# np.array(X).shape"
   ]
  },
  {
   "cell_type": "code",
   "execution_count": 298,
   "metadata": {},
   "outputs": [
    {
     "data": {
      "text/plain": [
       "[959,\n",
       " 315,\n",
       " 846,\n",
       " 408,\n",
       " 1003,\n",
       " 112,\n",
       " 126,\n",
       " 1183,\n",
       " 458,\n",
       " 724,\n",
       " 525,\n",
       " 785,\n",
       " 222,\n",
       " 778,\n",
       " 705,\n",
       " 935,\n",
       " 1076,\n",
       " 846,\n",
       " 784,\n",
       " 1184,\n",
       " 933,\n",
       " 699,\n",
       " 357,\n",
       " 146,\n",
       " 804,\n",
       " 319,\n",
       " 867]"
      ]
     },
     "execution_count": 298,
     "metadata": {},
     "output_type": "execute_result"
    }
   ],
   "source": [
    "X[1]"
   ]
  },
  {
   "cell_type": "code",
   "execution_count": 299,
   "metadata": {},
   "outputs": [],
   "source": [
    "X = pad_sequences(maxlen=maxlen, sequences=X, padding=\"post\",value=n_words - 1)"
   ]
  },
  {
   "cell_type": "code",
   "execution_count": 300,
   "metadata": {},
   "outputs": [
    {
     "data": {
      "text/plain": [
       "array([ 959,  315,  846,  408, 1003,  112,  126, 1183,  458,  724,  525,\n",
       "        785,  222,  778,  705,  935, 1076,  846,  784, 1184,  933,  699,\n",
       "        357,  146,  804,  319,  867, 1228, 1228, 1228, 1228, 1228, 1228,\n",
       "       1228, 1228, 1228, 1228, 1228, 1228, 1228, 1228, 1228])"
      ]
     },
     "execution_count": 300,
     "metadata": {},
     "output_type": "execute_result"
    }
   ],
   "source": [
    "X[1]"
   ]
  },
  {
   "cell_type": "code",
   "execution_count": 301,
   "metadata": {},
   "outputs": [
    {
     "name": "stdout",
     "output_type": "stream",
     "text": [
      "[('#ShopeeID', 'O'), ('Saya', 'O'), ('menjual', 'O'), ('Aesthetic', 'O'), ('|', 'O'), ('Laptop', 'B-Product'), ('Asus', 'B-Brand'), ('Baru', 'O'), ('-', 'O'), ('Laptop', 'B-Product'), ('Murah', 'I-Product'), ('dengan', 'O'), ('potongan', 'B-Promo'), ('40%!', 'I-Promo'), ('Hanya', 'O'), ('Rp5.292.400.', 'B-Price'), ('Dapatkan', 'O'), ('segera', 'O'), ('di', 'O'), ('Shopee!', 'B-OnlineShop'), ('#ShopeeID', 'O'), ('#Shopee', 'O')]\n",
      "[2, 2, 2, 2, 2, 10, 12, 2, 2, 10, 7, 2, 1, 6, 2, 8, 2, 2, 2, 3, 2, 2]\n"
     ]
    }
   ],
   "source": [
    "y_idx = [[tag2idx[w[1]] for w in s] for s in sentences]\n",
    "print(sentences[11])\n",
    "print(y_idx[11])"
   ]
  },
  {
   "cell_type": "code",
   "execution_count": 302,
   "metadata": {},
   "outputs": [
    {
     "name": "stdout",
     "output_type": "stream",
     "text": [
      "[2, 2, 2, 10, 12, 2, 2, 10, 12, 2, 2, 10, 12, 2, 2, 1, 6, 2, 8, 2, 2, 2, 3]\n"
     ]
    }
   ],
   "source": [
    "y = pad_sequences(maxlen=49, sequences=y_idx, padding=\"post\", value=tag2idx[\"O\"])\n",
    "print(y_idx[10])"
   ]
  },
  {
   "cell_type": "code",
   "execution_count": 303,
   "metadata": {},
   "outputs": [
    {
     "data": {
      "text/plain": [
       "195"
      ]
     },
     "execution_count": 303,
     "metadata": {},
     "output_type": "execute_result"
    }
   ],
   "source": [
    "from keras.utils import to_categorical\n",
    "y = [to_categorical(i, num_classes=n_tags) for i in y]\n",
    "y[1][48]\n",
    "len(y)"
   ]
  },
  {
   "cell_type": "code",
   "execution_count": 304,
   "metadata": {},
   "outputs": [
    {
     "data": {
      "text/plain": [
       "195"
      ]
     },
     "execution_count": 304,
     "metadata": {},
     "output_type": "execute_result"
    }
   ],
   "source": [
    "len(X)"
   ]
  },
  {
   "cell_type": "code",
   "execution_count": 305,
   "metadata": {},
   "outputs": [],
   "source": [
    "from sklearn.model_selection import train_test_split\n",
    "X_train, X_test, y_train, y_test = train_test_split(X, y, test_size=0.2)"
   ]
  },
  {
   "cell_type": "code",
   "execution_count": 306,
   "metadata": {},
   "outputs": [
    {
     "data": {
      "text/plain": [
       "array([ 959,  227,   29,  479,  428,  395,  889,  191,  816,  177,  278,\n",
       "        257,  297,  704,  327,  784, 1184,  856,  699,  906,  146,  804,\n",
       "        319,  867,  602, 1228, 1228, 1228, 1228, 1228, 1228, 1228, 1228,\n",
       "       1228, 1228, 1228, 1228, 1228, 1228, 1228, 1228, 1228])"
      ]
     },
     "execution_count": 306,
     "metadata": {},
     "output_type": "execute_result"
    }
   ],
   "source": [
    "X_test[30]"
   ]
  },
  {
   "cell_type": "code",
   "execution_count": 307,
   "metadata": {},
   "outputs": [
    {
     "data": {
      "text/plain": [
       "array([[0., 0., 1., 0., 0., 0., 0., 0., 0., 0., 0., 0., 0.],\n",
       "       [0., 0., 0., 0., 0., 0., 0., 0., 0., 0., 0., 0., 1.],\n",
       "       [0., 0., 1., 0., 0., 0., 0., 0., 0., 0., 0., 0., 0.],\n",
       "       [0., 0., 1., 0., 0., 0., 0., 0., 0., 0., 0., 0., 0.],\n",
       "       [0., 0., 0., 0., 0., 0., 0., 0., 0., 0., 1., 0., 0.],\n",
       "       [0., 0., 1., 0., 0., 0., 0., 0., 0., 0., 0., 0., 0.],\n",
       "       [0., 0., 1., 0., 0., 0., 0., 0., 0., 0., 0., 0., 0.],\n",
       "       [0., 0., 1., 0., 0., 0., 0., 0., 0., 0., 0., 0., 0.],\n",
       "       [0., 0., 1., 0., 0., 0., 0., 0., 0., 0., 0., 0., 0.],\n",
       "       [0., 0., 0., 1., 0., 0., 0., 0., 0., 0., 0., 0., 0.],\n",
       "       [0., 0., 1., 0., 0., 0., 0., 0., 0., 0., 0., 0., 0.],\n",
       "       [0., 1., 0., 0., 0., 0., 0., 0., 0., 0., 0., 0., 0.],\n",
       "       [0., 0., 0., 0., 0., 0., 1., 0., 0., 0., 0., 0., 0.],\n",
       "       [0., 0., 1., 0., 0., 0., 0., 0., 0., 0., 0., 0., 0.],\n",
       "       [0., 0., 1., 0., 0., 0., 0., 0., 0., 0., 0., 0., 0.],\n",
       "       [0., 0., 0., 0., 0., 0., 0., 0., 1., 0., 0., 0., 0.],\n",
       "       [0., 0., 1., 0., 0., 0., 0., 0., 0., 0., 0., 0., 0.],\n",
       "       [0., 0., 1., 0., 0., 0., 0., 0., 0., 0., 0., 0., 0.],\n",
       "       [0., 0., 1., 0., 0., 0., 0., 0., 0., 0., 0., 0., 0.],\n",
       "       [0., 0., 1., 0., 0., 0., 0., 0., 0., 0., 0., 0., 0.],\n",
       "       [0., 0., 1., 0., 0., 0., 0., 0., 0., 0., 0., 0., 0.],\n",
       "       [0., 0., 1., 0., 0., 0., 0., 0., 0., 0., 0., 0., 0.],\n",
       "       [0., 0., 1., 0., 0., 0., 0., 0., 0., 0., 0., 0., 0.],\n",
       "       [0., 0., 1., 0., 0., 0., 0., 0., 0., 0., 0., 0., 0.],\n",
       "       [0., 0., 1., 0., 0., 0., 0., 0., 0., 0., 0., 0., 0.],\n",
       "       [0., 0., 1., 0., 0., 0., 0., 0., 0., 0., 0., 0., 0.],\n",
       "       [0., 0., 1., 0., 0., 0., 0., 0., 0., 0., 0., 0., 0.],\n",
       "       [0., 0., 1., 0., 0., 0., 0., 0., 0., 0., 0., 0., 0.],\n",
       "       [0., 0., 1., 0., 0., 0., 0., 0., 0., 0., 0., 0., 0.],\n",
       "       [0., 0., 1., 0., 0., 0., 0., 0., 0., 0., 0., 0., 0.],\n",
       "       [0., 0., 1., 0., 0., 0., 0., 0., 0., 0., 0., 0., 0.],\n",
       "       [0., 0., 1., 0., 0., 0., 0., 0., 0., 0., 0., 0., 0.],\n",
       "       [0., 0., 1., 0., 0., 0., 0., 0., 0., 0., 0., 0., 0.],\n",
       "       [0., 0., 1., 0., 0., 0., 0., 0., 0., 0., 0., 0., 0.],\n",
       "       [0., 0., 1., 0., 0., 0., 0., 0., 0., 0., 0., 0., 0.],\n",
       "       [0., 0., 1., 0., 0., 0., 0., 0., 0., 0., 0., 0., 0.],\n",
       "       [0., 0., 1., 0., 0., 0., 0., 0., 0., 0., 0., 0., 0.],\n",
       "       [0., 0., 1., 0., 0., 0., 0., 0., 0., 0., 0., 0., 0.],\n",
       "       [0., 0., 1., 0., 0., 0., 0., 0., 0., 0., 0., 0., 0.],\n",
       "       [0., 0., 1., 0., 0., 0., 0., 0., 0., 0., 0., 0., 0.],\n",
       "       [0., 0., 1., 0., 0., 0., 0., 0., 0., 0., 0., 0., 0.],\n",
       "       [0., 0., 1., 0., 0., 0., 0., 0., 0., 0., 0., 0., 0.],\n",
       "       [0., 0., 1., 0., 0., 0., 0., 0., 0., 0., 0., 0., 0.],\n",
       "       [0., 0., 1., 0., 0., 0., 0., 0., 0., 0., 0., 0., 0.],\n",
       "       [0., 0., 1., 0., 0., 0., 0., 0., 0., 0., 0., 0., 0.],\n",
       "       [0., 0., 1., 0., 0., 0., 0., 0., 0., 0., 0., 0., 0.],\n",
       "       [0., 0., 1., 0., 0., 0., 0., 0., 0., 0., 0., 0., 0.],\n",
       "       [0., 0., 1., 0., 0., 0., 0., 0., 0., 0., 0., 0., 0.],\n",
       "       [0., 0., 1., 0., 0., 0., 0., 0., 0., 0., 0., 0., 0.]])"
      ]
     },
     "execution_count": 307,
     "metadata": {},
     "output_type": "execute_result"
    }
   ],
   "source": [
    "y_test[1]"
   ]
  },
  {
   "cell_type": "code",
   "execution_count": 308,
   "metadata": {},
   "outputs": [],
   "source": [
    "# pip install torchcrf\n",
    "# pip install torchtext"
   ]
  },
  {
   "cell_type": "code",
   "execution_count": 309,
   "metadata": {},
   "outputs": [],
   "source": [
    "import torch\n",
    "import torch.nn as nn\n",
    "import torch.nn.functional as F\n",
    "from torch.optim import AdamW\n",
    "from torch.optim.lr_scheduler import CosineAnnealingLR\n",
    "import math\n",
    "\n",
    "class Attention(nn.Module):\n",
    "    def __init__(self, hidden_dim):\n",
    "        super(Attention, self).__init__()\n",
    "        self.attention = nn.Sequential(\n",
    "            nn.Linear(hidden_dim, hidden_dim),\n",
    "            nn.Tanh(),\n",
    "            nn.Linear(hidden_dim, 1)\n",
    "        )\n",
    "\n",
    "    def forward(self, encoder_outputs):\n",
    "        # encoder_outputs: (batch_size, seq_len, hidden_dim)\n",
    "        attention_weights = self.attention(encoder_outputs).squeeze(-1)\n",
    "        attention_weights = torch.softmax(attention_weights, dim=1)\n",
    "        context_vector = torch.bmm(attention_weights.unsqueeze(1), encoder_outputs).squeeze(1)\n",
    "        return context_vector\n",
    "\n",
    "class ImprovedBiLSTM_CRF(nn.Module):\n",
    "    def __init__(self, vocab_size, tagset_size, embedding_dim=200, hidden_dim=256, \n",
    "                 num_layers=2, dropout=0.3):\n",
    "        super(ImprovedBiLSTM_CRF, self).__init__()\n",
    "        \n",
    "        self.embedding_dim = embedding_dim\n",
    "        self.hidden_dim = hidden_dim\n",
    "        self.vocab_size = vocab_size\n",
    "        self.tagset_size = tagset_size\n",
    "        \n",
    "        # Embedding layer\n",
    "        self.word_embedding = nn.Embedding(vocab_size, embedding_dim, padding_idx=vocab_size-1)\n",
    "        \n",
    "        # Bidirectional LSTM\n",
    "        self.lstm = nn.LSTM(\n",
    "            input_size=embedding_dim,\n",
    "            hidden_size=hidden_dim // 2,\n",
    "            num_layers=num_layers,\n",
    "            bidirectional=True,\n",
    "            batch_first=True,\n",
    "            dropout=dropout if num_layers > 1 else 0\n",
    "        )\n",
    "        \n",
    "        # Dropout dan LayerNorm\n",
    "        self.dropout = nn.Dropout(dropout)\n",
    "        self.layer_norm = nn.LayerNorm(hidden_dim)\n",
    "        \n",
    "        # Linear layer untuk proyeksi ke tag space\n",
    "        self.hidden2tag = nn.Linear(hidden_dim, tagset_size)\n",
    "        \n",
    "        # CRF transitions\n",
    "        self.transitions = nn.Parameter(torch.zeros(tagset_size, tagset_size))\n",
    "        \n",
    "        # Special transitions\n",
    "        self.start_transitions = nn.Parameter(torch.zeros(tagset_size))\n",
    "        self.end_transitions = nn.Parameter(torch.zeros(tagset_size))\n",
    "        \n",
    "        self.init_weights()\n",
    "    \n",
    "    def init_weights(self):\n",
    "        \"\"\"Initialize weights dengan cara yang aman\"\"\"\n",
    "        # Initialize embedding\n",
    "        nn.init.uniform_(self.word_embedding.weight, -0.1, 0.1)\n",
    "        \n",
    "        # Initialize LSTM\n",
    "        for name, param in self.lstm.named_parameters():\n",
    "            if 'weight' in name:\n",
    "                nn.init.orthogonal_(param.data)\n",
    "            elif 'bias' in name:\n",
    "                nn.init.constant_(param.data, 0)\n",
    "                \n",
    "        # Initialize linear layer\n",
    "        nn.init.xavier_uniform_(self.hidden2tag.weight)\n",
    "        nn.init.constant_(self.hidden2tag.bias, 0)\n",
    "        \n",
    "        # Initialize transitions\n",
    "        nn.init.uniform_(self.transitions, -0.1, 0.1)\n",
    "        nn.init.uniform_(self.start_transitions, -0.1, 0.1)\n",
    "        nn.init.uniform_(self.end_transitions, -0.1, 0.1)\n",
    "\n",
    "    def _get_features(self, x, mask=None):\n",
    "        \"\"\"Get LSTM features dengan proper masking\"\"\"\n",
    "        batch_size, seq_len = x.size()\n",
    "        \n",
    "        # Get embeddings\n",
    "        x = self.word_embedding(x)\n",
    "        \n",
    "        # Pack padded sequence if we have a mask\n",
    "        if mask is not None:\n",
    "            lengths = mask.sum(dim=1).cpu()\n",
    "            x = nn.utils.rnn.pack_padded_sequence(\n",
    "                x, lengths, batch_first=True, enforce_sorted=False\n",
    "            )\n",
    "        \n",
    "        # LSTM forward pass\n",
    "        lstm_out, _ = self.lstm(x)\n",
    "        \n",
    "        # Unpack if we packed\n",
    "        if mask is not None:\n",
    "            lstm_out, _ = nn.utils.rnn.pad_packed_sequence(\n",
    "                lstm_out, batch_first=True, total_length=seq_len\n",
    "            )\n",
    "        \n",
    "        # Apply dropout and layer norm\n",
    "        lstm_out = self.dropout(lstm_out)\n",
    "        lstm_out = self.layer_norm(lstm_out)\n",
    "        \n",
    "        # Project to tag space\n",
    "        feats = self.hidden2tag(lstm_out)\n",
    "        \n",
    "        return feats\n",
    "\n",
    "    def forward(self, x, tags=None):\n",
    "        # Create mask for padding\n",
    "        mask = (x != self.vocab_size - 1)\n",
    "        \n",
    "        # Get features\n",
    "        emissions = self._get_features(x, mask)\n",
    "        \n",
    "        if tags is not None:\n",
    "            # Convert one-hot encoded tags to indices if necessary\n",
    "            if tags.dim() == 3:\n",
    "                tags = tags.argmax(dim=-1)\n",
    "            \n",
    "            # Compute loss\n",
    "            return self._compute_loss(emissions, tags, mask)\n",
    "        else:\n",
    "            # Compute predictions\n",
    "            return self._viterbi_decode(emissions, mask)\n",
    "    \n",
    "    def _compute_loss(self, emissions, tags, mask):\n",
    "        \"\"\"Compute CRF loss with proper masking\"\"\"\n",
    "        # Compute log likelihood\n",
    "        numerator = self._compute_score(emissions, tags, mask)\n",
    "        denominator = self._compute_normalizer(emissions, mask)\n",
    "        llh = numerator - denominator\n",
    "        \n",
    "        # Mean over batch\n",
    "        return -llh.mean()\n",
    "    \n",
    "    def _compute_score(self, emissions, tags, mask):\n",
    "        \"\"\"Compute score for the given sequence of tags\"\"\"\n",
    "        batch_size, seq_length = tags.shape\n",
    "        \n",
    "        # Initialize score with start transitions\n",
    "        score = self.start_transitions[tags[:, 0]]\n",
    "        \n",
    "        # Add emission scores\n",
    "        score += emissions[torch.arange(batch_size), 0, tags[:, 0]]\n",
    "        \n",
    "        # Iterate through the rest of the sequence\n",
    "        for i in range(1, seq_length):\n",
    "            # Transition score from previous to current tag\n",
    "            score += self.transitions[tags[:, i-1], tags[:, i]] * mask[:, i]\n",
    "            \n",
    "            # Emission score for current tag\n",
    "            score += emissions[torch.arange(batch_size), i, tags[:, i]] * mask[:, i]\n",
    "        \n",
    "        # Add end transition score\n",
    "        last_tag_indices = mask.sum(dim=1).long() - 1\n",
    "        last_tags = tags[torch.arange(batch_size), last_tag_indices]\n",
    "        score += self.end_transitions[last_tags]\n",
    "        \n",
    "        return score\n",
    "    \n",
    "    def _compute_normalizer(self, emissions, mask):\n",
    "        \"\"\"Compute the normalization term using the forward algorithm\"\"\"\n",
    "        batch_size, seq_length, num_tags = emissions.shape\n",
    "        \n",
    "        # Initialize forward variables with start transitions\n",
    "        alphas = self.start_transitions.view(1, -1) + emissions[:, 0]\n",
    "        \n",
    "        # Iterate through the sequence\n",
    "        for i in range(1, seq_length):\n",
    "            emission_scores = emissions[:, i].view(batch_size, 1, num_tags)\n",
    "            transition_scores = self.transitions.view(1, num_tags, num_tags)\n",
    "            broadcast_alphas = alphas.view(batch_size, num_tags, 1)\n",
    "            \n",
    "            next_alphas = emission_scores + transition_scores + broadcast_alphas\n",
    "            next_alphas = torch.logsumexp(next_alphas, dim=1)\n",
    "            \n",
    "            # Apply mask\n",
    "            mask_i = mask[:, i].view(batch_size, 1)\n",
    "            alphas = torch.where(mask_i, next_alphas, alphas)\n",
    "        \n",
    "        # Add end transition score\n",
    "        end_scores = alphas + self.end_transitions.view(1, -1)\n",
    "        \n",
    "        # Return log sum exp over all possible tag sequences\n",
    "        return torch.logsumexp(end_scores, dim=1)\n",
    "    \n",
    "    def _viterbi_decode(self, emissions, mask):\n",
    "        \"\"\"Decode the most likely sequence of tags\"\"\"\n",
    "        batch_size, seq_length, num_tags = emissions.shape\n",
    "        \n",
    "        # Initialize viterbi and backpointers\n",
    "        viterbi = self.start_transitions.view(1, -1) + emissions[:, 0]\n",
    "        backpointers = torch.zeros(batch_size, seq_length, num_tags, dtype=torch.long, device=emissions.device)\n",
    "        \n",
    "        # Iterate through the sequence\n",
    "        for i in range(1, seq_length):\n",
    "            broadcast_viterbi = viterbi.view(batch_size, num_tags, 1)\n",
    "            next_score = broadcast_viterbi + self.transitions.view(1, num_tags, num_tags)\n",
    "            \n",
    "            next_score, indices = next_score.max(dim=1)\n",
    "            next_score = next_score + emissions[:, i]\n",
    "            \n",
    "            # Apply mask\n",
    "            mask_i = mask[:, i].view(batch_size, 1)\n",
    "            viterbi = torch.where(mask_i, next_score, viterbi)\n",
    "            backpointers[:, i] = indices\n",
    "        \n",
    "        # Add end transition score\n",
    "        viterbi += self.end_transitions.view(1, -1)\n",
    "        \n",
    "        # Get the best last tag\n",
    "        best_last_tag = viterbi.argmax(dim=1)\n",
    "        \n",
    "        # Follow backpointers to get the best path\n",
    "        best_tags = torch.zeros(batch_size, seq_length, dtype=torch.long, device=emissions.device)\n",
    "        best_tags[:, -1] = best_last_tag\n",
    "        \n",
    "        for i in range(seq_length-2, -1, -1):\n",
    "            best_tags[:, i] = backpointers[torch.arange(batch_size), i + 1, best_tags[:, i + 1]]\n",
    "        \n",
    "        return best_tags\n",
    "\n",
    "class CharacterEncoder(nn.Module):\n",
    "    def __init__(self, n_chars, char_dim, char_hidden_dim):\n",
    "        super(CharacterEncoder, self).__init__()\n",
    "        self.char_embedding = nn.Embedding(n_chars, char_dim)\n",
    "        self.char_lstm = nn.LSTM(char_dim, char_hidden_dim, \n",
    "                               batch_first=True, bidirectional=True)\n",
    "        self.char_hidden_dim = char_hidden_dim * 2\n",
    "\n",
    "    def forward(self, x):\n",
    "        if x is None:\n",
    "            batch_size = 1\n",
    "            seq_len = 1\n",
    "            return torch.zeros(batch_size, seq_len, self.char_hidden_dim)\n",
    "            \n",
    "        batch_size, seq_len, word_len = x.size()\n",
    "        x = x.view(batch_size * seq_len, word_len)\n",
    "        x = self.char_embedding(x)\n",
    "        _, (h, _) = self.char_lstm(x)\n",
    "        return h.transpose(0, 1).contiguous().view(batch_size, seq_len, -1)\n",
    "\n",
    "class BiLSTM(nn.Module):\n",
    "    def __init__(self, vocab_size, tagset_size, embedding_dim=200, hidden_dim=256,\n",
    "                 num_layers=2, dropout=0.3):\n",
    "        super(BiLSTM, self).__init__()\n",
    "        \n",
    "        self.vocab_size = vocab_size\n",
    "        self.tagset_size = tagset_size\n",
    "        self.hidden_dim = hidden_dim\n",
    "        \n",
    "        # Improved embedding with better initialization\n",
    "        self.word_embedding = nn.Embedding(vocab_size, embedding_dim, padding_idx=vocab_size-1)\n",
    "        nn.init.xavier_uniform_(self.word_embedding.weight)\n",
    "        \n",
    "        # Add embedding dropout\n",
    "        self.embed_dropout = nn.Dropout(dropout)\n",
    "        \n",
    "        # Bidirectional LSTM with gradient clipping\n",
    "        self.lstm = nn.LSTM(\n",
    "            input_size=embedding_dim,\n",
    "            hidden_size=hidden_dim // 2,  # Split for bidirectional\n",
    "            num_layers=num_layers,\n",
    "            bidirectional=True,\n",
    "            batch_first=True,\n",
    "            dropout=dropout if num_layers > 1 else 0\n",
    "        )\n",
    "        \n",
    "        # Multiple dropout layers\n",
    "        self.dropout1 = nn.Dropout(dropout)\n",
    "        self.dropout2 = nn.Dropout(dropout/2)  # Lighter dropout before output\n",
    "        \n",
    "        # Batch normalization for better training stability\n",
    "        self.bn1 = nn.BatchNorm1d(hidden_dim)\n",
    "        \n",
    "        # Two linear layers with activation in between\n",
    "        self.hidden2tag1 = nn.Linear(hidden_dim, hidden_dim // 2)\n",
    "        self.hidden2tag2 = nn.Linear(hidden_dim // 2, tagset_size)\n",
    "        \n",
    "    def forward(self, x, char_tensor=None, tags=None):\n",
    "        batch_size, seq_len = x.size()\n",
    "        \n",
    "        # Get embeddings with dropout\n",
    "        embeds = self.word_embedding(x)\n",
    "        embeds = self.embed_dropout(embeds)\n",
    "        \n",
    "        # Pack padded sequence for efficiency\n",
    "        packed_embeds = nn.utils.rnn.pack_padded_sequence(\n",
    "            embeds, \n",
    "            lengths=torch.sum(x != self.vocab_size-1, dim=1).cpu(),\n",
    "            batch_first=True,\n",
    "            enforce_sorted=False\n",
    "        )\n",
    "        \n",
    "        # LSTM forward pass\n",
    "        lstm_out, _ = self.lstm(packed_embeds)\n",
    "        \n",
    "        # Unpack sequence\n",
    "        lstm_out, _ = nn.utils.rnn.pad_packed_sequence(lstm_out, batch_first=True, total_length=seq_len)\n",
    "        \n",
    "        # Apply dropout after LSTM\n",
    "        lstm_out = self.dropout1(lstm_out)\n",
    "        \n",
    "        # Reshape for batch norm\n",
    "        lstm_out = lstm_out.reshape(-1, self.hidden_dim)\n",
    "        lstm_out = self.bn1(lstm_out)\n",
    "        lstm_out = lstm_out.reshape(batch_size, seq_len, self.hidden_dim)\n",
    "        \n",
    "        # Two-layer projection with activation\n",
    "        tag_space = self.hidden2tag1(lstm_out)\n",
    "        tag_space = F.relu(tag_space)\n",
    "        tag_space = self.dropout2(tag_space)\n",
    "        tag_space = self.hidden2tag2(tag_space)\n",
    "        \n",
    "        if tags is not None:\n",
    "            # Calculate loss with label smoothing\n",
    "            if tags.dim() == 3:\n",
    "                tags = tags.argmax(dim=-1)\n",
    "            \n",
    "            loss_fct = nn.CrossEntropyLoss(ignore_index=self.tagset_size-1, label_smoothing=0.1)\n",
    "            tag_space_reshape = tag_space.view(-1, self.tagset_size)\n",
    "            tags_reshape = tags.view(-1)\n",
    "            \n",
    "            return loss_fct(tag_space_reshape, tags_reshape)\n",
    "        \n",
    "        return F.log_softmax(tag_space, dim=-1)\n",
    "\n",
    "class ForwardLSTM(nn.Module):\n",
    "    def __init__(self, vocab_size, tagset_size, embedding_dim=200, hidden_dim=256,\n",
    "                 num_layers=2, dropout=0.3):\n",
    "        super(ForwardLSTM, self).__init__()\n",
    "        \n",
    "        self.vocab_size = vocab_size\n",
    "        self.tagset_size = tagset_size\n",
    "        self.hidden_dim = hidden_dim\n",
    "        \n",
    "        # Improved embedding initialization\n",
    "        self.word_embedding = nn.Embedding(vocab_size, embedding_dim, padding_idx=vocab_size-1)\n",
    "        nn.init.xavier_uniform_(self.word_embedding.weight)\n",
    "        \n",
    "        self.embed_dropout = nn.Dropout(dropout)\n",
    "        \n",
    "        # Deeper LSTM with residual connections\n",
    "        self.lstm_layers = nn.ModuleList([\n",
    "            nn.LSTM(\n",
    "                input_size=embedding_dim if i == 0 else hidden_dim,\n",
    "                hidden_size=hidden_dim,\n",
    "                batch_first=True,\n",
    "                dropout=dropout if i < num_layers-1 else 0\n",
    "            ) for i in range(num_layers)\n",
    "        ])\n",
    "        \n",
    "        self.dropout1 = nn.Dropout(dropout)\n",
    "        self.dropout2 = nn.Dropout(dropout/2)\n",
    "        \n",
    "        self.bn1 = nn.BatchNorm1d(hidden_dim)\n",
    "        \n",
    "        # Additional linear layers\n",
    "        self.hidden2tag1 = nn.Linear(hidden_dim, hidden_dim // 2)\n",
    "        self.hidden2tag2 = nn.Linear(hidden_dim // 2, tagset_size)\n",
    "        \n",
    "    def forward(self, x, char_tensor=None, tags=None):\n",
    "        batch_size, seq_len = x.size()\n",
    "        \n",
    "        # Embedding with dropout\n",
    "        embeds = self.word_embedding(x)\n",
    "        embeds = self.embed_dropout(embeds)\n",
    "        \n",
    "        # Process through LSTM layers with residual connections\n",
    "        lstm_out = embeds\n",
    "        for i, lstm in enumerate(self.lstm_layers):\n",
    "            new_lstm_out, _ = lstm(lstm_out)\n",
    "            if i > 0:  # Add residual connection after first layer\n",
    "                lstm_out = new_lstm_out + lstm_out\n",
    "            else:\n",
    "                lstm_out = new_lstm_out\n",
    "        \n",
    "        lstm_out = self.dropout1(lstm_out)\n",
    "        \n",
    "        # Reshape for batch norm\n",
    "        lstm_out = lstm_out.reshape(-1, self.hidden_dim)\n",
    "        lstm_out = self.bn1(lstm_out)\n",
    "        lstm_out = lstm_out.reshape(batch_size, seq_len, self.hidden_dim)\n",
    "        \n",
    "        # Two-layer projection\n",
    "        tag_space = self.hidden2tag1(lstm_out)\n",
    "        tag_space = F.relu(tag_space)\n",
    "        tag_space = self.dropout2(tag_space)\n",
    "        tag_space = self.hidden2tag2(tag_space)\n",
    "        \n",
    "        if tags is not None:\n",
    "            if tags.dim() == 3:\n",
    "                tags = tags.argmax(dim=-1)\n",
    "            \n",
    "            loss_fct = nn.CrossEntropyLoss(ignore_index=self.tagset_size-1, label_smoothing=0.1)\n",
    "            tag_space_reshape = tag_space.view(-1, self.tagset_size)\n",
    "            tags_reshape = tags.view(-1)\n",
    "            \n",
    "            return loss_fct(tag_space_reshape, tags_reshape)\n",
    "        \n",
    "        return F.log_softmax(tag_space, dim=-1)\n",
    "\n",
    "class BackwardLSTM(nn.Module):\n",
    "    def __init__(self, vocab_size, tagset_size, embedding_dim=200, hidden_dim=256,\n",
    "                 num_layers=2, dropout=0.3):\n",
    "        super(BackwardLSTM, self).__init__()\n",
    "        \n",
    "        self.vocab_size = vocab_size\n",
    "        self.tagset_size = tagset_size\n",
    "        self.hidden_dim = hidden_dim\n",
    "        \n",
    "        # Improved embedding\n",
    "        self.word_embedding = nn.Embedding(vocab_size, embedding_dim, padding_idx=vocab_size-1)\n",
    "        nn.init.xavier_uniform_(self.word_embedding.weight)\n",
    "        \n",
    "        self.embed_dropout = nn.Dropout(dropout)\n",
    "        \n",
    "        # Deeper LSTM with residual connections\n",
    "        self.lstm_layers = nn.ModuleList([\n",
    "            nn.LSTM(\n",
    "                input_size=embedding_dim if i == 0 else hidden_dim,\n",
    "                hidden_size=hidden_dim,\n",
    "                batch_first=True,\n",
    "                dropout=dropout if i < num_layers-1 else 0\n",
    "            ) for i in range(num_layers)\n",
    "        ])\n",
    "        \n",
    "        self.dropout1 = nn.Dropout(dropout)\n",
    "        self.dropout2 = nn.Dropout(dropout/2)\n",
    "        \n",
    "        self.bn1 = nn.BatchNorm1d(hidden_dim)\n",
    "        \n",
    "        # Two linear layers\n",
    "        self.hidden2tag1 = nn.Linear(hidden_dim, hidden_dim // 2)\n",
    "        self.hidden2tag2 = nn.Linear(hidden_dim // 2, tagset_size)\n",
    "        \n",
    "    def forward(self, x, char_tensor=None, tags=None):\n",
    "        batch_size, seq_len = x.size()\n",
    "        \n",
    "        # Embedding with dropout\n",
    "        embeds = self.word_embedding(x)\n",
    "        embeds = self.embed_dropout(embeds)\n",
    "        \n",
    "        # Reverse sequence\n",
    "        embeds = torch.flip(embeds, [1])\n",
    "        \n",
    "        # Process through LSTM layers with residual connections\n",
    "        lstm_out = embeds\n",
    "        for i, lstm in enumerate(self.lstm_layers):\n",
    "            new_lstm_out, _ = lstm(lstm_out)\n",
    "            if i > 0:  # Add residual connection after first layer\n",
    "                lstm_out = new_lstm_out + lstm_out\n",
    "            else:\n",
    "                lstm_out = new_lstm_out\n",
    "        \n",
    "        # Flip back\n",
    "        lstm_out = torch.flip(lstm_out, [1])\n",
    "        \n",
    "        lstm_out = self.dropout1(lstm_out)\n",
    "        \n",
    "        # Reshape for batch norm\n",
    "        lstm_out = lstm_out.reshape(-1, self.hidden_dim)\n",
    "        lstm_out = self.bn1(lstm_out)\n",
    "        lstm_out = lstm_out.reshape(batch_size, seq_len, self.hidden_dim)\n",
    "        \n",
    "        # Two-layer projection\n",
    "        tag_space = self.hidden2tag1(lstm_out)\n",
    "        tag_space = F.relu(tag_space)\n",
    "        tag_space = self.dropout2(tag_space)\n",
    "        tag_space = self.hidden2tag2(tag_space)\n",
    "        \n",
    "        if tags is not None:\n",
    "            if tags.dim() == 3:\n",
    "                tags = tags.argmax(dim=-1)\n",
    "            \n",
    "            loss_fct = nn.CrossEntropyLoss(ignore_index=self.tagset_size-1, label_smoothing=0.1)\n",
    "            tag_space_reshape = tag_space.view(-1, self.tagset_size)\n",
    "            tags_reshape = tags.view(-1)\n",
    "            \n",
    "            return loss_fct(tag_space_reshape, tags_reshape)\n",
    "        \n",
    "        return F.log_softmax(tag_space, dim=-1)\n",
    "\n",
    "class PositionalEncoding(nn.Module):\n",
    "    def __init__(self, d_model, dropout=0.1, max_len=5000):\n",
    "        super(PositionalEncoding, self).__init__()\n",
    "        self.dropout = nn.Dropout(p=dropout)\n",
    "\n",
    "        pe = torch.zeros(max_len, d_model)\n",
    "        position = torch.arange(0, max_len, dtype=torch.float).unsqueeze(1)\n",
    "        div_term = torch.exp(torch.arange(0, d_model, 2).float() * (-math.log(10000.0) / d_model))\n",
    "        pe[:, 0::2] = torch.sin(position * div_term)\n",
    "        pe[:, 1::2] = torch.cos(position * div_term)\n",
    "        pe = pe.unsqueeze(0)\n",
    "        self.register_buffer('pe', pe)\n",
    "\n",
    "    def forward(self, x):\n",
    "        x = x + self.pe[:, :x.size(1)]\n",
    "        return self.dropout(x)\n",
    "    def __init__(self, vocab_size, tagset_size, embedding_dim=200, hidden_dim=256,\n",
    "                 num_layers=2, dropout=0.5):\n",
    "        super(BackwardLSTM, self).__init__()\n",
    "        self.vocab_size = vocab_size\n",
    "        self.tagset_size = tagset_size\n",
    "        \n",
    "        self.word_embedding = nn.Embedding(vocab_size, embedding_dim, padding_idx=vocab_size-1)\n",
    "        self.lstm = nn.LSTM(\n",
    "            input_size=embedding_dim,\n",
    "            hidden_size=hidden_dim,\n",
    "            num_layers=num_layers,\n",
    "            bidirectional=False,\n",
    "            batch_first=True,\n",
    "            dropout=dropout if num_layers > 1 else 0\n",
    "        )\n",
    "        \n",
    "        self.dropout = nn.Dropout(dropout)\n",
    "        self.layer_norm = nn.LayerNorm(hidden_dim)\n",
    "        self.hidden2tag = nn.Linear(hidden_dim, tagset_size)\n",
    "\n",
    "    def forward(self, sentence, char_tensor=None, tags=None):\n",
    "        # Get embeddings and reverse sequence\n",
    "        embeds = self.word_embedding(sentence)\n",
    "        embeds = torch.flip(embeds, [1])\n",
    "        \n",
    "        # Process through LSTM\n",
    "        lstm_out, _ = self.lstm(embeds)\n",
    "        lstm_out = torch.flip(lstm_out, [1])  # Flip back\n",
    "        lstm_out = self.layer_norm(lstm_out)\n",
    "        lstm_out = self.dropout(lstm_out)\n",
    "        tag_space = self.hidden2tag(lstm_out)\n",
    "        \n",
    "        if tags is not None:\n",
    "            # Loss calculation\n",
    "            batch_size, seq_len, _ = tag_space.size()\n",
    "            \n",
    "            # Reshape predictions and targets\n",
    "            tag_space_reshaped = tag_space.reshape(-1, self.tagset_size)\n",
    "            tags_reshaped = tags.reshape(-1, self.tagset_size)\n",
    "            \n",
    "            # Create mask for padding\n",
    "            mask = (sentence != self.vocab_size - 1).float().reshape(-1)\n",
    "            \n",
    "            # Calculate loss\n",
    "            loss = nn.CrossEntropyLoss(reduction='none')(\n",
    "                tag_space_reshaped,\n",
    "                tags_reshaped.argmax(dim=-1)\n",
    "            )\n",
    "            \n",
    "            # Apply mask and average\n",
    "            loss = (loss * mask).sum() / mask.sum()\n",
    "            return loss\n",
    "        else:\n",
    "            # Return predictions\n",
    "            return torch.argmax(tag_space, dim=-1)\n",
    "        \n",
    "    def init_pretrained_embeddings(self, pretrained_embeddings):\n",
    "        self.word_embedding.weight.data.copy_(torch.from_numpy(pretrained_embeddings))\n",
    "        self.word_embedding.weight.requires_grad = False  # Freeze embeddings"
   ]
  },
  {
   "cell_type": "code",
   "execution_count": null,
   "metadata": {},
   "outputs": [
    {
     "name": "stderr",
     "output_type": "stream",
     "text": [
      "c:\\Users\\megar\\AppData\\Local\\Programs\\Python\\Python310\\lib\\site-packages\\torch\\nn\\modules\\rnn.py:88: UserWarning: dropout option adds dropout after all but last recurrent layer, so non-zero dropout expects num_layers greater than 1, but got dropout=0.3 and num_layers=1\n",
      "  warnings.warn(\"dropout option adds dropout after all but last \"\n"
     ]
    },
    {
     "name": "stdout",
     "output_type": "stream",
     "text": [
      "After preprocessing:\n",
      "X_train shape: (156, 42)\n",
      "y_train shape: (156, 49, 13)\n",
      "X_test shape: (39, 42)\n",
      "y_test shape: (39, 49, 13)\n",
      "Original data shapes:\n",
      "X_train: (156, 42)\n",
      "y_train: (156, 49, 13)\n",
      "X_test: (39, 42)\n",
      "y_test: (39, 49, 13)\n",
      "\n",
      "Tensor shapes:\n",
      "X_train_tensor: torch.Size([156, 42])\n",
      "y_train_tensor: torch.Size([156, 49, 13])\n",
      "X_test_tensor: torch.Size([39, 42])\n",
      "y_test_tensor: torch.Size([39, 49, 13])\n",
      "Using device: cpu\n",
      "\n",
      "Model Architectures:\n",
      "\n",
      "BiLSTM-CRF:\n",
      "==================================================\n",
      "ImprovedBiLSTM_CRF(\n",
      "  (word_embedding): Embedding(1229, 200, padding_idx=1228)\n",
      "  (lstm): LSTM(200, 128, num_layers=2, batch_first=True, dropout=0.3, bidirectional=True)\n",
      "  (dropout): Dropout(p=0.3, inplace=False)\n",
      "  (layer_norm): LayerNorm((256,), eps=1e-05, elementwise_affine=True)\n",
      "  (hidden2tag): Linear(in_features=256, out_features=13, bias=True)\n",
      ")\n",
      "Number of parameters: 983032\n",
      "\n",
      "BiLSTM:\n",
      "==================================================\n",
      "BiLSTM(\n",
      "  (word_embedding): Embedding(1229, 200, padding_idx=1228)\n",
      "  (embed_dropout): Dropout(p=0.3, inplace=False)\n",
      "  (lstm): LSTM(200, 128, num_layers=2, batch_first=True, dropout=0.3, bidirectional=True)\n",
      "  (dropout1): Dropout(p=0.3, inplace=False)\n",
      "  (dropout2): Dropout(p=0.15, inplace=False)\n",
      "  (bn1): BatchNorm1d(256, eps=1e-05, momentum=0.1, affine=True, track_running_stats=True)\n",
      "  (hidden2tag1): Linear(in_features=256, out_features=128, bias=True)\n",
      "  (hidden2tag2): Linear(in_features=128, out_features=13, bias=True)\n",
      ")\n",
      "Number of parameters: 1014069\n",
      "\n",
      "ForwardLSTM:\n",
      "==================================================\n",
      "ForwardLSTM(\n",
      "  (word_embedding): Embedding(1229, 200, padding_idx=1228)\n",
      "  (embed_dropout): Dropout(p=0.3, inplace=False)\n",
      "  (lstm_layers): ModuleList(\n",
      "    (0): LSTM(200, 256, batch_first=True, dropout=0.3)\n",
      "    (1): LSTM(256, 256, batch_first=True)\n",
      "  )\n",
      "  (dropout1): Dropout(p=0.3, inplace=False)\n",
      "  (dropout2): Dropout(p=0.15, inplace=False)\n",
      "  (bn1): BatchNorm1d(256, eps=1e-05, momentum=0.1, affine=True, track_running_stats=True)\n",
      "  (hidden2tag1): Linear(in_features=256, out_features=128, bias=True)\n",
      "  (hidden2tag2): Linear(in_features=128, out_features=13, bias=True)\n",
      ")\n",
      "Number of parameters: 1276213\n",
      "\n",
      "BackwardLSTM:\n",
      "==================================================\n",
      "BackwardLSTM(\n",
      "  (word_embedding): Embedding(1229, 200, padding_idx=1228)\n",
      "  (embed_dropout): Dropout(p=0.3, inplace=False)\n",
      "  (lstm_layers): ModuleList(\n",
      "    (0): LSTM(200, 256, batch_first=True, dropout=0.3)\n",
      "    (1): LSTM(256, 256, batch_first=True)\n",
      "  )\n",
      "  (dropout1): Dropout(p=0.3, inplace=False)\n",
      "  (dropout2): Dropout(p=0.15, inplace=False)\n",
      "  (bn1): BatchNorm1d(256, eps=1e-05, momentum=0.1, affine=True, track_running_stats=True)\n",
      "  (hidden2tag1): Linear(in_features=256, out_features=128, bias=True)\n",
      "  (hidden2tag2): Linear(in_features=128, out_features=13, bias=True)\n",
      ")\n",
      "Number of parameters: 1276213\n",
      "\n",
      "Starting training...\n",
      "\n",
      "Epoch 1/20\n",
      "==================================================\n"
     ]
    },
    {
     "name": "stderr",
     "output_type": "stream",
     "text": [
      "Training BiLSTM-CRF - Epoch 1/20: 100%|██████████| 9/9 [00:01<00:00,  5.06it/s, loss=40.8477, acc=0.5281]\n"
     ]
    },
    {
     "name": "stdout",
     "output_type": "stream",
     "text": [
      "\n",
      "Running validation for BiLSTM-CRF...\n"
     ]
    },
    {
     "name": "stderr",
     "output_type": "stream",
     "text": [
      "Validation: 100%|██████████| 2/2 [00:00<00:00, 13.51it/s, loss=22.0436, acc=0.7242]\n"
     ]
    },
    {
     "name": "stdout",
     "output_type": "stream",
     "text": [
      "\n",
      "BiLSTM-CRF Results:\n",
      "Training Loss: 40.8477\n",
      "Validation Loss: 22.0436\n",
      "Training Accuracy: 0.5281\n",
      "Validation Accuracy: 0.7242\n",
      "Learning Rate: 0.001000\n",
      "Saved new best model for BiLSTM-CRF!\n"
     ]
    },
    {
     "name": "stderr",
     "output_type": "stream",
     "text": [
      "Training BiLSTM - Epoch 1/20: 100%|██████████| 9/9 [00:01<00:00,  7.03it/s, loss=2.2197, acc=0.1815]\n"
     ]
    },
    {
     "name": "stdout",
     "output_type": "stream",
     "text": [
      "\n",
      "Running validation for BiLSTM...\n"
     ]
    },
    {
     "name": "stderr",
     "output_type": "stream",
     "text": [
      "Validation: 100%|██████████| 2/2 [00:00<00:00, 11.41it/s, loss=2.1939, acc=0.6108]\n"
     ]
    },
    {
     "name": "stdout",
     "output_type": "stream",
     "text": [
      "\n",
      "BiLSTM Results:\n",
      "Training Loss: 2.2197\n",
      "Validation Loss: 2.1939\n",
      "Training Accuracy: 0.1815\n",
      "Validation Accuracy: 0.6108\n",
      "Learning Rate: 0.001000\n",
      "Saved new best model for BiLSTM!\n"
     ]
    },
    {
     "name": "stderr",
     "output_type": "stream",
     "text": [
      "Training ForwardLSTM - Epoch 1/20: 100%|██████████| 9/9 [00:00<00:00, 15.03it/s, loss=1.7633, acc=0.3598]\n"
     ]
    },
    {
     "name": "stdout",
     "output_type": "stream",
     "text": [
      "\n",
      "Running validation for ForwardLSTM...\n"
     ]
    },
    {
     "name": "stderr",
     "output_type": "stream",
     "text": [
      "Validation: 100%|██████████| 2/2 [00:00<00:00, 37.94it/s, loss=2.1460, acc=0.6108]\n"
     ]
    },
    {
     "name": "stdout",
     "output_type": "stream",
     "text": [
      "\n",
      "ForwardLSTM Results:\n",
      "Training Loss: 1.7633\n",
      "Validation Loss: 2.1460\n",
      "Training Accuracy: 0.3598\n",
      "Validation Accuracy: 0.6108\n",
      "Learning Rate: 0.001000\n",
      "Saved new best model for ForwardLSTM!\n"
     ]
    },
    {
     "name": "stderr",
     "output_type": "stream",
     "text": [
      "Training BackwardLSTM - Epoch 1/20: 100%|██████████| 9/9 [00:00<00:00, 16.47it/s, loss=1.7061, acc=0.3724]\n"
     ]
    },
    {
     "name": "stdout",
     "output_type": "stream",
     "text": [
      "\n",
      "Running validation for BackwardLSTM...\n"
     ]
    },
    {
     "name": "stderr",
     "output_type": "stream",
     "text": [
      "Validation: 100%|██████████| 2/2 [00:00<00:00, 31.26it/s, loss=2.1292, acc=0.6108]\n"
     ]
    },
    {
     "name": "stdout",
     "output_type": "stream",
     "text": [
      "\n",
      "BackwardLSTM Results:\n",
      "Training Loss: 1.7061\n",
      "Validation Loss: 2.1292\n",
      "Training Accuracy: 0.3724\n",
      "Validation Accuracy: 0.6108\n",
      "Learning Rate: 0.001000\n",
      "Saved new best model for BackwardLSTM!\n",
      "\n",
      "Epoch 2/20\n",
      "==================================================\n"
     ]
    },
    {
     "name": "stderr",
     "output_type": "stream",
     "text": [
      "Training BiLSTM-CRF - Epoch 2/20: 100%|██████████| 9/9 [00:01<00:00,  5.81it/s, loss=21.0132, acc=0.7243]\n"
     ]
    },
    {
     "name": "stdout",
     "output_type": "stream",
     "text": [
      "\n",
      "Running validation for BiLSTM-CRF...\n"
     ]
    },
    {
     "name": "stderr",
     "output_type": "stream",
     "text": [
      "Validation: 100%|██████████| 2/2 [00:00<00:00, 13.40it/s, loss=16.6854, acc=0.7923]\n"
     ]
    },
    {
     "name": "stdout",
     "output_type": "stream",
     "text": [
      "\n",
      "BiLSTM-CRF Results:\n",
      "Training Loss: 21.0132\n",
      "Validation Loss: 16.6854\n",
      "Training Accuracy: 0.7243\n",
      "Validation Accuracy: 0.7923\n",
      "Learning Rate: 0.001000\n",
      "Saved new best model for BiLSTM-CRF!\n"
     ]
    },
    {
     "name": "stderr",
     "output_type": "stream",
     "text": [
      "Training BiLSTM - Epoch 2/20: 100%|██████████| 9/9 [00:01<00:00,  7.60it/s, loss=1.3167, acc=0.5506]\n"
     ]
    },
    {
     "name": "stdout",
     "output_type": "stream",
     "text": [
      "\n",
      "Running validation for BiLSTM...\n"
     ]
    },
    {
     "name": "stderr",
     "output_type": "stream",
     "text": [
      "Validation: 100%|██████████| 2/2 [00:00<00:00, 20.90it/s, loss=1.6217, acc=0.6296]\n"
     ]
    },
    {
     "name": "stdout",
     "output_type": "stream",
     "text": [
      "\n",
      "BiLSTM Results:\n",
      "Training Loss: 1.3167\n",
      "Validation Loss: 1.6217\n",
      "Training Accuracy: 0.5506\n",
      "Validation Accuracy: 0.6296\n",
      "Learning Rate: 0.001000\n",
      "Saved new best model for BiLSTM!\n"
     ]
    },
    {
     "name": "stderr",
     "output_type": "stream",
     "text": [
      "Training ForwardLSTM - Epoch 2/20: 100%|██████████| 9/9 [00:00<00:00, 14.98it/s, loss=1.1279, acc=0.6489]\n"
     ]
    },
    {
     "name": "stdout",
     "output_type": "stream",
     "text": [
      "\n",
      "Running validation for ForwardLSTM...\n"
     ]
    },
    {
     "name": "stderr",
     "output_type": "stream",
     "text": [
      "Validation: 100%|██████████| 2/2 [00:00<00:00, 36.18it/s, loss=1.7187, acc=0.6108]\n"
     ]
    },
    {
     "name": "stdout",
     "output_type": "stream",
     "text": [
      "\n",
      "ForwardLSTM Results:\n",
      "Training Loss: 1.1279\n",
      "Validation Loss: 1.7187\n",
      "Training Accuracy: 0.6489\n",
      "Validation Accuracy: 0.6108\n",
      "Learning Rate: 0.001000\n",
      "Saved new best model for ForwardLSTM!\n"
     ]
    },
    {
     "name": "stderr",
     "output_type": "stream",
     "text": [
      "Training BackwardLSTM - Epoch 2/20: 100%|██████████| 9/9 [00:00<00:00, 16.06it/s, loss=1.1369, acc=0.6408]\n"
     ]
    },
    {
     "name": "stdout",
     "output_type": "stream",
     "text": [
      "\n",
      "Running validation for BackwardLSTM...\n"
     ]
    },
    {
     "name": "stderr",
     "output_type": "stream",
     "text": [
      "Validation: 100%|██████████| 2/2 [00:00<00:00, 31.65it/s, loss=1.6332, acc=0.6433]\n"
     ]
    },
    {
     "name": "stdout",
     "output_type": "stream",
     "text": [
      "\n",
      "BackwardLSTM Results:\n",
      "Training Loss: 1.1369\n",
      "Validation Loss: 1.6332\n",
      "Training Accuracy: 0.6408\n",
      "Validation Accuracy: 0.6433\n",
      "Learning Rate: 0.001000\n",
      "Saved new best model for BackwardLSTM!\n",
      "\n",
      "Epoch 3/20\n",
      "==================================================\n"
     ]
    },
    {
     "name": "stderr",
     "output_type": "stream",
     "text": [
      "Training BiLSTM-CRF - Epoch 3/20: 100%|██████████| 9/9 [00:01<00:00,  5.90it/s, loss=12.5191, acc=0.8330]\n"
     ]
    },
    {
     "name": "stdout",
     "output_type": "stream",
     "text": [
      "\n",
      "Running validation for BiLSTM-CRF...\n"
     ]
    },
    {
     "name": "stderr",
     "output_type": "stream",
     "text": [
      "Validation: 100%|██████████| 2/2 [00:00<00:00, 14.42it/s, loss=12.0013, acc=0.8499]\n"
     ]
    },
    {
     "name": "stdout",
     "output_type": "stream",
     "text": [
      "\n",
      "BiLSTM-CRF Results:\n",
      "Training Loss: 12.5191\n",
      "Validation Loss: 12.0013\n",
      "Training Accuracy: 0.8330\n",
      "Validation Accuracy: 0.8499\n",
      "Learning Rate: 0.000800\n",
      "Saved new best model for BiLSTM-CRF!\n"
     ]
    },
    {
     "name": "stderr",
     "output_type": "stream",
     "text": [
      "Training BiLSTM - Epoch 3/20: 100%|██████████| 9/9 [00:01<00:00,  7.52it/s, loss=1.1477, acc=0.5945]\n"
     ]
    },
    {
     "name": "stdout",
     "output_type": "stream",
     "text": [
      "\n",
      "Running validation for BiLSTM...\n"
     ]
    },
    {
     "name": "stderr",
     "output_type": "stream",
     "text": [
      "Validation: 100%|██████████| 2/2 [00:00<00:00, 13.06it/s, loss=1.1136, acc=0.6296]\n"
     ]
    },
    {
     "name": "stdout",
     "output_type": "stream",
     "text": [
      "\n",
      "BiLSTM Results:\n",
      "Training Loss: 1.1477\n",
      "Validation Loss: 1.1136\n",
      "Training Accuracy: 0.5945\n",
      "Validation Accuracy: 0.6296\n",
      "Learning Rate: 0.000800\n",
      "Saved new best model for BiLSTM!\n"
     ]
    },
    {
     "name": "stderr",
     "output_type": "stream",
     "text": [
      "Training ForwardLSTM - Epoch 3/20: 100%|██████████| 9/9 [00:00<00:00, 16.63it/s, loss=0.9691, acc=0.7209]\n"
     ]
    },
    {
     "name": "stdout",
     "output_type": "stream",
     "text": [
      "\n",
      "Running validation for ForwardLSTM...\n"
     ]
    },
    {
     "name": "stderr",
     "output_type": "stream",
     "text": [
      "Validation: 100%|██████████| 2/2 [00:00<00:00, 38.67it/s, loss=1.2172, acc=0.7135]\n"
     ]
    },
    {
     "name": "stdout",
     "output_type": "stream",
     "text": [
      "\n",
      "ForwardLSTM Results:\n",
      "Training Loss: 0.9691\n",
      "Validation Loss: 1.2172\n",
      "Training Accuracy: 0.7209\n",
      "Validation Accuracy: 0.7135\n",
      "Learning Rate: 0.000800\n",
      "Saved new best model for ForwardLSTM!\n"
     ]
    },
    {
     "name": "stderr",
     "output_type": "stream",
     "text": [
      "Training BackwardLSTM - Epoch 3/20: 100%|██████████| 9/9 [00:00<00:00, 16.49it/s, loss=0.9618, acc=0.7317]\n"
     ]
    },
    {
     "name": "stdout",
     "output_type": "stream",
     "text": [
      "\n",
      "Running validation for BackwardLSTM...\n"
     ]
    },
    {
     "name": "stderr",
     "output_type": "stream",
     "text": [
      "Validation: 100%|██████████| 2/2 [00:00<00:00, 15.69it/s, loss=1.1346, acc=0.6865]\n"
     ]
    },
    {
     "name": "stdout",
     "output_type": "stream",
     "text": [
      "\n",
      "BackwardLSTM Results:\n",
      "Training Loss: 0.9618\n",
      "Validation Loss: 1.1346\n",
      "Training Accuracy: 0.7317\n",
      "Validation Accuracy: 0.6865\n",
      "Learning Rate: 0.000800\n",
      "Saved new best model for BackwardLSTM!\n",
      "\n",
      "Epoch 4/20\n",
      "==================================================\n"
     ]
    },
    {
     "name": "stderr",
     "output_type": "stream",
     "text": [
      "Training BiLSTM-CRF - Epoch 4/20: 100%|██████████| 9/9 [00:01<00:00,  6.01it/s, loss=7.9422, acc=0.9007] \n"
     ]
    },
    {
     "name": "stdout",
     "output_type": "stream",
     "text": [
      "\n",
      "Running validation for BiLSTM-CRF...\n"
     ]
    },
    {
     "name": "stderr",
     "output_type": "stream",
     "text": [
      "Validation: 100%|██████████| 2/2 [00:00<00:00, 13.11it/s, loss=11.6448, acc=0.8741]\n"
     ]
    },
    {
     "name": "stdout",
     "output_type": "stream",
     "text": [
      "\n",
      "BiLSTM-CRF Results:\n",
      "Training Loss: 7.9422\n",
      "Validation Loss: 11.6448\n",
      "Training Accuracy: 0.9007\n",
      "Validation Accuracy: 0.8741\n",
      "Learning Rate: 0.000800\n",
      "Saved new best model for BiLSTM-CRF!\n"
     ]
    },
    {
     "name": "stderr",
     "output_type": "stream",
     "text": [
      "Training BiLSTM - Epoch 4/20: 100%|██████████| 9/9 [00:01<00:00,  7.26it/s, loss=1.0559, acc=0.6645]\n"
     ]
    },
    {
     "name": "stdout",
     "output_type": "stream",
     "text": [
      "\n",
      "Running validation for BiLSTM...\n"
     ]
    },
    {
     "name": "stderr",
     "output_type": "stream",
     "text": [
      "Validation: 100%|██████████| 2/2 [00:00<00:00, 21.72it/s, loss=0.9171, acc=0.7067]\n"
     ]
    },
    {
     "name": "stdout",
     "output_type": "stream",
     "text": [
      "\n",
      "BiLSTM Results:\n",
      "Training Loss: 1.0559\n",
      "Validation Loss: 0.9171\n",
      "Training Accuracy: 0.6645\n",
      "Validation Accuracy: 0.7067\n",
      "Learning Rate: 0.000800\n",
      "Saved new best model for BiLSTM!\n"
     ]
    },
    {
     "name": "stderr",
     "output_type": "stream",
     "text": [
      "Training ForwardLSTM - Epoch 4/20: 100%|██████████| 9/9 [00:00<00:00, 15.52it/s, loss=0.8513, acc=0.7907]\n"
     ]
    },
    {
     "name": "stdout",
     "output_type": "stream",
     "text": [
      "\n",
      "Running validation for ForwardLSTM...\n"
     ]
    },
    {
     "name": "stderr",
     "output_type": "stream",
     "text": [
      "Validation: 100%|██████████| 2/2 [00:00<00:00, 38.32it/s, loss=0.8316, acc=0.7932]\n"
     ]
    },
    {
     "name": "stdout",
     "output_type": "stream",
     "text": [
      "\n",
      "ForwardLSTM Results:\n",
      "Training Loss: 0.8513\n",
      "Validation Loss: 0.8316\n",
      "Training Accuracy: 0.7907\n",
      "Validation Accuracy: 0.7932\n",
      "Learning Rate: 0.000800\n",
      "Saved new best model for ForwardLSTM!\n"
     ]
    },
    {
     "name": "stderr",
     "output_type": "stream",
     "text": [
      "Training BackwardLSTM - Epoch 4/20: 100%|██████████| 9/9 [00:00<00:00, 16.16it/s, loss=0.8609, acc=0.7869]\n"
     ]
    },
    {
     "name": "stdout",
     "output_type": "stream",
     "text": [
      "\n",
      "Running validation for BackwardLSTM...\n"
     ]
    },
    {
     "name": "stderr",
     "output_type": "stream",
     "text": [
      "Validation: 100%|██████████| 2/2 [00:00<00:00, 25.63it/s, loss=0.8226, acc=0.7778]\n"
     ]
    },
    {
     "name": "stdout",
     "output_type": "stream",
     "text": [
      "\n",
      "BackwardLSTM Results:\n",
      "Training Loss: 0.8609\n",
      "Validation Loss: 0.8226\n",
      "Training Accuracy: 0.7869\n",
      "Validation Accuracy: 0.7778\n",
      "Learning Rate: 0.000800\n",
      "Saved new best model for BackwardLSTM!\n",
      "\n",
      "Epoch 5/20\n",
      "==================================================\n"
     ]
    },
    {
     "name": "stderr",
     "output_type": "stream",
     "text": [
      "Training BiLSTM-CRF - Epoch 5/20: 100%|██████████| 9/9 [00:01<00:00,  6.57it/s, loss=4.9357, acc=0.9358]\n"
     ]
    },
    {
     "name": "stdout",
     "output_type": "stream",
     "text": [
      "\n",
      "Running validation for BiLSTM-CRF...\n"
     ]
    },
    {
     "name": "stderr",
     "output_type": "stream",
     "text": [
      "Validation: 100%|██████████| 2/2 [00:00<00:00, 10.24it/s, loss=11.2618, acc=0.8879]\n"
     ]
    },
    {
     "name": "stdout",
     "output_type": "stream",
     "text": [
      "\n",
      "BiLSTM-CRF Results:\n",
      "Training Loss: 4.9357\n",
      "Validation Loss: 11.2618\n",
      "Training Accuracy: 0.9358\n",
      "Validation Accuracy: 0.8879\n",
      "Learning Rate: 0.000800\n",
      "Saved new best model for BiLSTM-CRF!\n"
     ]
    },
    {
     "name": "stderr",
     "output_type": "stream",
     "text": [
      "Training BiLSTM - Epoch 5/20: 100%|██████████| 9/9 [00:01<00:00,  6.93it/s, loss=0.9177, acc=0.7277]\n"
     ]
    },
    {
     "name": "stdout",
     "output_type": "stream",
     "text": [
      "\n",
      "Running validation for BiLSTM...\n"
     ]
    },
    {
     "name": "stderr",
     "output_type": "stream",
     "text": [
      "Validation: 100%|██████████| 2/2 [00:00<00:00, 23.46it/s, loss=0.8066, acc=0.7699]\n"
     ]
    },
    {
     "name": "stdout",
     "output_type": "stream",
     "text": [
      "\n",
      "BiLSTM Results:\n",
      "Training Loss: 0.9177\n",
      "Validation Loss: 0.8066\n",
      "Training Accuracy: 0.7277\n",
      "Validation Accuracy: 0.7699\n",
      "Learning Rate: 0.000800\n",
      "Saved new best model for BiLSTM!\n"
     ]
    },
    {
     "name": "stderr",
     "output_type": "stream",
     "text": [
      "Training ForwardLSTM - Epoch 5/20: 100%|██████████| 9/9 [00:00<00:00, 16.30it/s, loss=0.7928, acc=0.8342]\n"
     ]
    },
    {
     "name": "stdout",
     "output_type": "stream",
     "text": [
      "\n",
      "Running validation for ForwardLSTM...\n"
     ]
    },
    {
     "name": "stderr",
     "output_type": "stream",
     "text": [
      "Validation: 100%|██████████| 2/2 [00:00<00:00, 35.91it/s, loss=0.7420, acc=0.8479]\n"
     ]
    },
    {
     "name": "stdout",
     "output_type": "stream",
     "text": [
      "\n",
      "ForwardLSTM Results:\n",
      "Training Loss: 0.7928\n",
      "Validation Loss: 0.7420\n",
      "Training Accuracy: 0.8342\n",
      "Validation Accuracy: 0.8479\n",
      "Learning Rate: 0.000800\n",
      "Saved new best model for ForwardLSTM!\n"
     ]
    },
    {
     "name": "stderr",
     "output_type": "stream",
     "text": [
      "Training BackwardLSTM - Epoch 5/20: 100%|██████████| 9/9 [00:00<00:00, 14.78it/s, loss=0.7974, acc=0.8342]\n"
     ]
    },
    {
     "name": "stdout",
     "output_type": "stream",
     "text": [
      "\n",
      "Running validation for BackwardLSTM...\n"
     ]
    },
    {
     "name": "stderr",
     "output_type": "stream",
     "text": [
      "Validation: 100%|██████████| 2/2 [00:00<00:00, 36.57it/s, loss=0.7522, acc=0.8491]\n"
     ]
    },
    {
     "name": "stdout",
     "output_type": "stream",
     "text": [
      "\n",
      "BackwardLSTM Results:\n",
      "Training Loss: 0.7974\n",
      "Validation Loss: 0.7522\n",
      "Training Accuracy: 0.8342\n",
      "Validation Accuracy: 0.8491\n",
      "Learning Rate: 0.000800\n",
      "Saved new best model for BackwardLSTM!\n",
      "\n",
      "Epoch 6/20\n",
      "==================================================\n"
     ]
    },
    {
     "name": "stderr",
     "output_type": "stream",
     "text": [
      "Training BiLSTM-CRF - Epoch 6/20: 100%|██████████| 9/9 [00:01<00:00,  6.36it/s, loss=3.2976, acc=0.9584]\n"
     ]
    },
    {
     "name": "stdout",
     "output_type": "stream",
     "text": [
      "\n",
      "Running validation for BiLSTM-CRF...\n"
     ]
    },
    {
     "name": "stderr",
     "output_type": "stream",
     "text": [
      "Validation: 100%|██████████| 2/2 [00:00<00:00, 15.43it/s, loss=11.8176, acc=0.8919]\n"
     ]
    },
    {
     "name": "stdout",
     "output_type": "stream",
     "text": [
      "\n",
      "BiLSTM-CRF Results:\n",
      "Training Loss: 3.2976\n",
      "Validation Loss: 11.8176\n",
      "Training Accuracy: 0.9584\n",
      "Validation Accuracy: 0.8919\n",
      "Learning Rate: 0.000640\n"
     ]
    },
    {
     "name": "stderr",
     "output_type": "stream",
     "text": [
      "Training BiLSTM - Epoch 6/20: 100%|██████████| 9/9 [00:01<00:00,  7.81it/s, loss=0.8408, acc=0.7826]\n"
     ]
    },
    {
     "name": "stdout",
     "output_type": "stream",
     "text": [
      "\n",
      "Running validation for BiLSTM...\n"
     ]
    },
    {
     "name": "stderr",
     "output_type": "stream",
     "text": [
      "Validation: 100%|██████████| 2/2 [00:00<00:00,  9.84it/s, loss=0.7582, acc=0.8288]\n"
     ]
    },
    {
     "name": "stdout",
     "output_type": "stream",
     "text": [
      "\n",
      "BiLSTM Results:\n",
      "Training Loss: 0.8408\n",
      "Validation Loss: 0.7582\n",
      "Training Accuracy: 0.7826\n",
      "Validation Accuracy: 0.8288\n",
      "Learning Rate: 0.000640\n",
      "Saved new best model for BiLSTM!\n"
     ]
    },
    {
     "name": "stderr",
     "output_type": "stream",
     "text": [
      "Training ForwardLSTM - Epoch 6/20: 100%|██████████| 9/9 [00:00<00:00, 13.33it/s, loss=0.7352, acc=0.8754]\n"
     ]
    },
    {
     "name": "stdout",
     "output_type": "stream",
     "text": [
      "\n",
      "Running validation for ForwardLSTM...\n"
     ]
    },
    {
     "name": "stderr",
     "output_type": "stream",
     "text": [
      "Validation: 100%|██████████| 2/2 [00:00<00:00, 30.91it/s, loss=0.7264, acc=0.8564]\n"
     ]
    },
    {
     "name": "stdout",
     "output_type": "stream",
     "text": [
      "\n",
      "ForwardLSTM Results:\n",
      "Training Loss: 0.7352\n",
      "Validation Loss: 0.7264\n",
      "Training Accuracy: 0.8754\n",
      "Validation Accuracy: 0.8564\n",
      "Learning Rate: 0.000640\n",
      "Saved new best model for ForwardLSTM!\n"
     ]
    },
    {
     "name": "stderr",
     "output_type": "stream",
     "text": [
      "Training BackwardLSTM - Epoch 6/20: 100%|██████████| 9/9 [00:00<00:00, 15.28it/s, loss=0.7492, acc=0.8594]\n"
     ]
    },
    {
     "name": "stdout",
     "output_type": "stream",
     "text": [
      "\n",
      "Running validation for BackwardLSTM...\n"
     ]
    },
    {
     "name": "stderr",
     "output_type": "stream",
     "text": [
      "Validation: 100%|██████████| 2/2 [00:00<00:00, 41.97it/s, loss=0.7319, acc=0.8591]\n"
     ]
    },
    {
     "name": "stdout",
     "output_type": "stream",
     "text": [
      "\n",
      "BackwardLSTM Results:\n",
      "Training Loss: 0.7492\n",
      "Validation Loss: 0.7319\n",
      "Training Accuracy: 0.8594\n",
      "Validation Accuracy: 0.8591\n",
      "Learning Rate: 0.000640\n",
      "Saved new best model for BackwardLSTM!\n",
      "\n",
      "Epoch 7/20\n",
      "==================================================\n"
     ]
    },
    {
     "name": "stderr",
     "output_type": "stream",
     "text": [
      "Training BiLSTM-CRF - Epoch 7/20: 100%|██████████| 9/9 [00:01<00:00,  5.98it/s, loss=2.3100, acc=0.9719]\n"
     ]
    },
    {
     "name": "stdout",
     "output_type": "stream",
     "text": [
      "\n",
      "Running validation for BiLSTM-CRF...\n"
     ]
    },
    {
     "name": "stderr",
     "output_type": "stream",
     "text": [
      "Validation: 100%|██████████| 2/2 [00:00<00:00, 15.08it/s, loss=13.1405, acc=0.8948]\n"
     ]
    },
    {
     "name": "stdout",
     "output_type": "stream",
     "text": [
      "\n",
      "BiLSTM-CRF Results:\n",
      "Training Loss: 2.3100\n",
      "Validation Loss: 13.1405\n",
      "Training Accuracy: 0.9719\n",
      "Validation Accuracy: 0.8948\n",
      "Learning Rate: 0.000640\n"
     ]
    },
    {
     "name": "stderr",
     "output_type": "stream",
     "text": [
      "Training BiLSTM - Epoch 7/20: 100%|██████████| 9/9 [00:01<00:00,  7.22it/s, loss=0.7940, acc=0.8159]\n"
     ]
    },
    {
     "name": "stdout",
     "output_type": "stream",
     "text": [
      "\n",
      "Running validation for BiLSTM...\n"
     ]
    },
    {
     "name": "stderr",
     "output_type": "stream",
     "text": [
      "Validation: 100%|██████████| 2/2 [00:00<00:00, 14.31it/s, loss=0.7399, acc=0.8521]\n"
     ]
    },
    {
     "name": "stdout",
     "output_type": "stream",
     "text": [
      "\n",
      "BiLSTM Results:\n",
      "Training Loss: 0.7940\n",
      "Validation Loss: 0.7399\n",
      "Training Accuracy: 0.8159\n",
      "Validation Accuracy: 0.8521\n",
      "Learning Rate: 0.000640\n",
      "Saved new best model for BiLSTM!\n"
     ]
    },
    {
     "name": "stderr",
     "output_type": "stream",
     "text": [
      "Training ForwardLSTM - Epoch 7/20: 100%|██████████| 9/9 [00:00<00:00, 11.50it/s, loss=0.7110, acc=0.8916]\n"
     ]
    },
    {
     "name": "stdout",
     "output_type": "stream",
     "text": [
      "\n",
      "Running validation for ForwardLSTM...\n"
     ]
    },
    {
     "name": "stderr",
     "output_type": "stream",
     "text": [
      "Validation: 100%|██████████| 2/2 [00:00<00:00, 18.88it/s, loss=0.7190, acc=0.8708]\n"
     ]
    },
    {
     "name": "stdout",
     "output_type": "stream",
     "text": [
      "\n",
      "ForwardLSTM Results:\n",
      "Training Loss: 0.7110\n",
      "Validation Loss: 0.7190\n",
      "Training Accuracy: 0.8916\n",
      "Validation Accuracy: 0.8708\n",
      "Learning Rate: 0.000640\n",
      "Saved new best model for ForwardLSTM!\n"
     ]
    },
    {
     "name": "stderr",
     "output_type": "stream",
     "text": [
      "Training BackwardLSTM - Epoch 7/20: 100%|██████████| 9/9 [00:01<00:00,  7.26it/s, loss=0.7225, acc=0.8855]\n"
     ]
    },
    {
     "name": "stdout",
     "output_type": "stream",
     "text": [
      "\n",
      "Running validation for BackwardLSTM...\n"
     ]
    },
    {
     "name": "stderr",
     "output_type": "stream",
     "text": [
      "Validation: 100%|██████████| 2/2 [00:00<00:00, 31.24it/s, loss=0.7148, acc=0.8614]\n"
     ]
    },
    {
     "name": "stdout",
     "output_type": "stream",
     "text": [
      "\n",
      "BackwardLSTM Results:\n",
      "Training Loss: 0.7225\n",
      "Validation Loss: 0.7148\n",
      "Training Accuracy: 0.8855\n",
      "Validation Accuracy: 0.8614\n",
      "Learning Rate: 0.000640\n",
      "Saved new best model for BackwardLSTM!\n",
      "\n",
      "Epoch 8/20\n",
      "==================================================\n"
     ]
    },
    {
     "name": "stderr",
     "output_type": "stream",
     "text": [
      "Training BiLSTM-CRF - Epoch 8/20: 100%|██████████| 9/9 [00:01<00:00,  6.02it/s, loss=1.4687, acc=0.9837]\n"
     ]
    },
    {
     "name": "stdout",
     "output_type": "stream",
     "text": [
      "\n",
      "Running validation for BiLSTM-CRF...\n"
     ]
    },
    {
     "name": "stderr",
     "output_type": "stream",
     "text": [
      "Validation: 100%|██████████| 2/2 [00:00<00:00, 14.85it/s, loss=13.1266, acc=0.9006]\n"
     ]
    },
    {
     "name": "stdout",
     "output_type": "stream",
     "text": [
      "\n",
      "BiLSTM-CRF Results:\n",
      "Training Loss: 1.4687\n",
      "Validation Loss: 13.1266\n",
      "Training Accuracy: 0.9837\n",
      "Validation Accuracy: 0.9006\n",
      "Learning Rate: 0.000640\n"
     ]
    },
    {
     "name": "stderr",
     "output_type": "stream",
     "text": [
      "Training BiLSTM - Epoch 8/20: 100%|██████████| 9/9 [00:01<00:00,  8.20it/s, loss=0.7556, acc=0.8576]\n"
     ]
    },
    {
     "name": "stdout",
     "output_type": "stream",
     "text": [
      "\n",
      "Running validation for BiLSTM...\n"
     ]
    },
    {
     "name": "stderr",
     "output_type": "stream",
     "text": [
      "Validation: 100%|██████████| 2/2 [00:00<00:00, 24.76it/s, loss=0.7206, acc=0.8615]\n"
     ]
    },
    {
     "name": "stdout",
     "output_type": "stream",
     "text": [
      "\n",
      "BiLSTM Results:\n",
      "Training Loss: 0.7556\n",
      "Validation Loss: 0.7206\n",
      "Training Accuracy: 0.8576\n",
      "Validation Accuracy: 0.8615\n",
      "Learning Rate: 0.000640\n",
      "Saved new best model for BiLSTM!\n"
     ]
    },
    {
     "name": "stderr",
     "output_type": "stream",
     "text": [
      "Training ForwardLSTM - Epoch 8/20: 100%|██████████| 9/9 [00:00<00:00, 16.41it/s, loss=0.6890, acc=0.9053]\n"
     ]
    },
    {
     "name": "stdout",
     "output_type": "stream",
     "text": [
      "\n",
      "Running validation for ForwardLSTM...\n"
     ]
    },
    {
     "name": "stderr",
     "output_type": "stream",
     "text": [
      "Validation: 100%|██████████| 2/2 [00:00<00:00, 39.49it/s, loss=0.7380, acc=0.8681]\n"
     ]
    },
    {
     "name": "stdout",
     "output_type": "stream",
     "text": [
      "\n",
      "ForwardLSTM Results:\n",
      "Training Loss: 0.6890\n",
      "Validation Loss: 0.7380\n",
      "Training Accuracy: 0.9053\n",
      "Validation Accuracy: 0.8681\n",
      "Learning Rate: 0.000640\n"
     ]
    },
    {
     "name": "stderr",
     "output_type": "stream",
     "text": [
      "Training BackwardLSTM - Epoch 8/20: 100%|██████████| 9/9 [00:00<00:00, 15.28it/s, loss=0.6958, acc=0.8924]\n"
     ]
    },
    {
     "name": "stdout",
     "output_type": "stream",
     "text": [
      "\n",
      "Running validation for BackwardLSTM...\n"
     ]
    },
    {
     "name": "stderr",
     "output_type": "stream",
     "text": [
      "Validation: 100%|██████████| 2/2 [00:00<00:00, 43.90it/s, loss=0.7282, acc=0.8628]\n"
     ]
    },
    {
     "name": "stdout",
     "output_type": "stream",
     "text": [
      "\n",
      "BackwardLSTM Results:\n",
      "Training Loss: 0.6958\n",
      "Validation Loss: 0.7282\n",
      "Training Accuracy: 0.8924\n",
      "Validation Accuracy: 0.8628\n",
      "Learning Rate: 0.000640\n",
      "\n",
      "Epoch 9/20\n",
      "==================================================\n"
     ]
    },
    {
     "name": "stderr",
     "output_type": "stream",
     "text": [
      "Training BiLSTM-CRF - Epoch 9/20: 100%|██████████| 9/9 [00:01<00:00,  6.63it/s, loss=1.0562, acc=0.9863]\n"
     ]
    },
    {
     "name": "stdout",
     "output_type": "stream",
     "text": [
      "\n",
      "Running validation for BiLSTM-CRF...\n"
     ]
    },
    {
     "name": "stderr",
     "output_type": "stream",
     "text": [
      "Validation: 100%|██████████| 2/2 [00:00<00:00, 14.47it/s, loss=14.3725, acc=0.9053]\n"
     ]
    },
    {
     "name": "stdout",
     "output_type": "stream",
     "text": [
      "\n",
      "BiLSTM-CRF Results:\n",
      "Training Loss: 1.0562\n",
      "Validation Loss: 14.3725\n",
      "Training Accuracy: 0.9863\n",
      "Validation Accuracy: 0.9053\n",
      "Learning Rate: 0.000512\n"
     ]
    },
    {
     "name": "stderr",
     "output_type": "stream",
     "text": [
      "Training BiLSTM - Epoch 9/20: 100%|██████████| 9/9 [00:01<00:00,  7.97it/s, loss=0.7297, acc=0.8714]\n"
     ]
    },
    {
     "name": "stdout",
     "output_type": "stream",
     "text": [
      "\n",
      "Running validation for BiLSTM...\n"
     ]
    },
    {
     "name": "stderr",
     "output_type": "stream",
     "text": [
      "Validation: 100%|██████████| 2/2 [00:00<00:00, 26.27it/s, loss=0.7069, acc=0.8697]\n"
     ]
    },
    {
     "name": "stdout",
     "output_type": "stream",
     "text": [
      "\n",
      "BiLSTM Results:\n",
      "Training Loss: 0.7297\n",
      "Validation Loss: 0.7069\n",
      "Training Accuracy: 0.8714\n",
      "Validation Accuracy: 0.8697\n",
      "Learning Rate: 0.000512\n",
      "Saved new best model for BiLSTM!\n"
     ]
    },
    {
     "name": "stderr",
     "output_type": "stream",
     "text": [
      "Training ForwardLSTM - Epoch 9/20: 100%|██████████| 9/9 [00:00<00:00, 17.79it/s, loss=0.6803, acc=0.9100]\n"
     ]
    },
    {
     "name": "stdout",
     "output_type": "stream",
     "text": [
      "\n",
      "Running validation for ForwardLSTM...\n"
     ]
    },
    {
     "name": "stderr",
     "output_type": "stream",
     "text": [
      "Validation: 100%|██████████| 2/2 [00:00<00:00, 42.36it/s, loss=0.7067, acc=0.8734]\n"
     ]
    },
    {
     "name": "stdout",
     "output_type": "stream",
     "text": [
      "\n",
      "ForwardLSTM Results:\n",
      "Training Loss: 0.6803\n",
      "Validation Loss: 0.7067\n",
      "Training Accuracy: 0.9100\n",
      "Validation Accuracy: 0.8734\n",
      "Learning Rate: 0.000512\n",
      "Saved new best model for ForwardLSTM!\n"
     ]
    },
    {
     "name": "stderr",
     "output_type": "stream",
     "text": [
      "Training BackwardLSTM - Epoch 9/20: 100%|██████████| 9/9 [00:00<00:00, 16.99it/s, loss=0.6825, acc=0.8995]\n"
     ]
    },
    {
     "name": "stdout",
     "output_type": "stream",
     "text": [
      "\n",
      "Running validation for BackwardLSTM...\n"
     ]
    },
    {
     "name": "stderr",
     "output_type": "stream",
     "text": [
      "Validation: 100%|██████████| 2/2 [00:00<00:00, 42.35it/s, loss=0.7056, acc=0.8655]\n"
     ]
    },
    {
     "name": "stdout",
     "output_type": "stream",
     "text": [
      "\n",
      "BackwardLSTM Results:\n",
      "Training Loss: 0.6825\n",
      "Validation Loss: 0.7056\n",
      "Training Accuracy: 0.8995\n",
      "Validation Accuracy: 0.8655\n",
      "Learning Rate: 0.000512\n",
      "Saved new best model for BackwardLSTM!\n",
      "\n",
      "Epoch 10/20\n",
      "==================================================\n"
     ]
    },
    {
     "name": "stderr",
     "output_type": "stream",
     "text": [
      "Training BiLSTM-CRF - Epoch 10/20: 100%|██████████| 9/9 [00:01<00:00,  6.27it/s, loss=0.7888, acc=0.9930]\n"
     ]
    },
    {
     "name": "stdout",
     "output_type": "stream",
     "text": [
      "\n",
      "Running validation for BiLSTM-CRF...\n"
     ]
    },
    {
     "name": "stderr",
     "output_type": "stream",
     "text": [
      "Validation: 100%|██████████| 2/2 [00:00<00:00, 14.09it/s, loss=14.8383, acc=0.8970]\n",
      "C:\\Users\\megar\\AppData\\Local\\Temp\\ipykernel_17152\\3915479425.py:351: FutureWarning: You are using `torch.load` with `weights_only=False` (the current default value), which uses the default pickle module implicitly. It is possible to construct malicious pickle data which will execute arbitrary code during unpickling (See https://github.com/pytorch/pytorch/blob/main/SECURITY.md#untrusted-models for more details). In a future release, the default value for `weights_only` will be flipped to `True`. This limits the functions that could be executed during unpickling. Arbitrary objects will no longer be allowed to be loaded via this mode unless they are explicitly allowlisted by the user via `torch.serialization.add_safe_globals`. We recommend you start setting `weights_only=True` for any use case where you don't have full control of the loaded file. Please open an issue on GitHub for any issues related to this experimental feature.\n",
      "  model.load_state_dict(torch.load(\n"
     ]
    },
    {
     "name": "stdout",
     "output_type": "stream",
     "text": [
      "\n",
      "BiLSTM-CRF Results:\n",
      "Training Loss: 0.7888\n",
      "Validation Loss: 14.8383\n",
      "Training Accuracy: 0.9930\n",
      "Validation Accuracy: 0.8970\n",
      "Learning Rate: 0.000512\n",
      "\n",
      "Early stopping triggered for BiLSTM-CRF\n"
     ]
    },
    {
     "name": "stderr",
     "output_type": "stream",
     "text": [
      "Training BiLSTM - Epoch 10/20: 100%|██████████| 9/9 [00:01<00:00,  8.51it/s, loss=0.7100, acc=0.8845]\n"
     ]
    },
    {
     "name": "stdout",
     "output_type": "stream",
     "text": [
      "\n",
      "Running validation for BiLSTM...\n"
     ]
    },
    {
     "name": "stderr",
     "output_type": "stream",
     "text": [
      "Validation: 100%|██████████| 2/2 [00:00<00:00, 22.16it/s, loss=0.7110, acc=0.8794]\n"
     ]
    },
    {
     "name": "stdout",
     "output_type": "stream",
     "text": [
      "\n",
      "BiLSTM Results:\n",
      "Training Loss: 0.7100\n",
      "Validation Loss: 0.7110\n",
      "Training Accuracy: 0.8845\n",
      "Validation Accuracy: 0.8794\n",
      "Learning Rate: 0.000512\n"
     ]
    },
    {
     "name": "stderr",
     "output_type": "stream",
     "text": [
      "Training ForwardLSTM - Epoch 10/20: 100%|██████████| 9/9 [00:00<00:00, 17.80it/s, loss=0.6648, acc=0.9155]\n"
     ]
    },
    {
     "name": "stdout",
     "output_type": "stream",
     "text": [
      "\n",
      "Running validation for ForwardLSTM...\n"
     ]
    },
    {
     "name": "stderr",
     "output_type": "stream",
     "text": [
      "Validation: 100%|██████████| 2/2 [00:00<00:00, 42.09it/s, loss=0.7061, acc=0.8737]\n"
     ]
    },
    {
     "name": "stdout",
     "output_type": "stream",
     "text": [
      "\n",
      "ForwardLSTM Results:\n",
      "Training Loss: 0.6648\n",
      "Validation Loss: 0.7061\n",
      "Training Accuracy: 0.9155\n",
      "Validation Accuracy: 0.8737\n",
      "Learning Rate: 0.000512\n",
      "Saved new best model for ForwardLSTM!\n"
     ]
    },
    {
     "name": "stderr",
     "output_type": "stream",
     "text": [
      "Training BackwardLSTM - Epoch 10/20: 100%|██████████| 9/9 [00:00<00:00, 17.86it/s, loss=0.6683, acc=0.9077]\n"
     ]
    },
    {
     "name": "stdout",
     "output_type": "stream",
     "text": [
      "\n",
      "Running validation for BackwardLSTM...\n"
     ]
    },
    {
     "name": "stderr",
     "output_type": "stream",
     "text": [
      "Validation: 100%|██████████| 2/2 [00:00<00:00, 37.96it/s, loss=0.7050, acc=0.8628]\n"
     ]
    },
    {
     "name": "stdout",
     "output_type": "stream",
     "text": [
      "\n",
      "BackwardLSTM Results:\n",
      "Training Loss: 0.6683\n",
      "Validation Loss: 0.7050\n",
      "Training Accuracy: 0.9077\n",
      "Validation Accuracy: 0.8628\n",
      "Learning Rate: 0.000512\n",
      "Saved new best model for BackwardLSTM!\n",
      "\n",
      "Epoch 11/20\n",
      "==================================================\n"
     ]
    },
    {
     "name": "stderr",
     "output_type": "stream",
     "text": [
      "Training BiLSTM-CRF - Epoch 11/20: 100%|██████████| 9/9 [00:01<00:00,  6.44it/s, loss=3.5687, acc=0.9547]\n"
     ]
    },
    {
     "name": "stdout",
     "output_type": "stream",
     "text": [
      "\n",
      "Running validation for BiLSTM-CRF...\n"
     ]
    },
    {
     "name": "stderr",
     "output_type": "stream",
     "text": [
      "Validation: 100%|██████████| 2/2 [00:00<00:00, 14.92it/s, loss=11.4395, acc=0.8876]\n"
     ]
    },
    {
     "name": "stdout",
     "output_type": "stream",
     "text": [
      "\n",
      "BiLSTM-CRF Results:\n",
      "Training Loss: 3.5687\n",
      "Validation Loss: 11.4395\n",
      "Training Accuracy: 0.9547\n",
      "Validation Accuracy: 0.8876\n",
      "Learning Rate: 0.000512\n",
      "\n",
      "Early stopping triggered for BiLSTM-CRF\n"
     ]
    },
    {
     "name": "stderr",
     "output_type": "stream",
     "text": [
      "Training BiLSTM - Epoch 11/20: 100%|██████████| 9/9 [00:01<00:00,  8.58it/s, loss=0.7042, acc=0.8882]\n"
     ]
    },
    {
     "name": "stdout",
     "output_type": "stream",
     "text": [
      "\n",
      "Running validation for BiLSTM...\n"
     ]
    },
    {
     "name": "stderr",
     "output_type": "stream",
     "text": [
      "Validation: 100%|██████████| 2/2 [00:00<00:00, 25.09it/s, loss=0.6916, acc=0.8768]\n"
     ]
    },
    {
     "name": "stdout",
     "output_type": "stream",
     "text": [
      "\n",
      "BiLSTM Results:\n",
      "Training Loss: 0.7042\n",
      "Validation Loss: 0.6916\n",
      "Training Accuracy: 0.8882\n",
      "Validation Accuracy: 0.8768\n",
      "Learning Rate: 0.000512\n",
      "Saved new best model for BiLSTM!\n"
     ]
    },
    {
     "name": "stderr",
     "output_type": "stream",
     "text": [
      "Training ForwardLSTM - Epoch 11/20: 100%|██████████| 9/9 [00:00<00:00, 17.72it/s, loss=0.6617, acc=0.9161]\n"
     ]
    },
    {
     "name": "stdout",
     "output_type": "stream",
     "text": [
      "\n",
      "Running validation for ForwardLSTM...\n"
     ]
    },
    {
     "name": "stderr",
     "output_type": "stream",
     "text": [
      "Validation: 100%|██████████| 2/2 [00:00<00:00, 42.78it/s, loss=0.7030, acc=0.8709]\n"
     ]
    },
    {
     "name": "stdout",
     "output_type": "stream",
     "text": [
      "\n",
      "ForwardLSTM Results:\n",
      "Training Loss: 0.6617\n",
      "Validation Loss: 0.7030\n",
      "Training Accuracy: 0.9161\n",
      "Validation Accuracy: 0.8709\n",
      "Learning Rate: 0.000512\n",
      "Saved new best model for ForwardLSTM!\n"
     ]
    },
    {
     "name": "stderr",
     "output_type": "stream",
     "text": [
      "Training BackwardLSTM - Epoch 11/20: 100%|██████████| 9/9 [00:00<00:00, 17.96it/s, loss=0.6695, acc=0.9104]\n"
     ]
    },
    {
     "name": "stdout",
     "output_type": "stream",
     "text": [
      "\n",
      "Running validation for BackwardLSTM...\n"
     ]
    },
    {
     "name": "stderr",
     "output_type": "stream",
     "text": [
      "Validation: 100%|██████████| 2/2 [00:00<00:00, 42.01it/s, loss=0.7168, acc=0.8561]\n"
     ]
    },
    {
     "name": "stdout",
     "output_type": "stream",
     "text": [
      "\n",
      "BackwardLSTM Results:\n",
      "Training Loss: 0.6695\n",
      "Validation Loss: 0.7168\n",
      "Training Accuracy: 0.9104\n",
      "Validation Accuracy: 0.8561\n",
      "Learning Rate: 0.000512\n",
      "\n",
      "Epoch 12/20\n",
      "==================================================\n"
     ]
    },
    {
     "name": "stderr",
     "output_type": "stream",
     "text": [
      "Training BiLSTM-CRF - Epoch 12/20: 100%|██████████| 9/9 [00:01<00:00,  6.56it/s, loss=3.2063, acc=0.9612]\n"
     ]
    },
    {
     "name": "stdout",
     "output_type": "stream",
     "text": [
      "\n",
      "Running validation for BiLSTM-CRF...\n"
     ]
    },
    {
     "name": "stderr",
     "output_type": "stream",
     "text": [
      "Validation: 100%|██████████| 2/2 [00:00<00:00, 18.40it/s, loss=11.7937, acc=0.8812]\n"
     ]
    },
    {
     "name": "stdout",
     "output_type": "stream",
     "text": [
      "\n",
      "BiLSTM-CRF Results:\n",
      "Training Loss: 3.2063\n",
      "Validation Loss: 11.7937\n",
      "Training Accuracy: 0.9612\n",
      "Validation Accuracy: 0.8812\n",
      "Learning Rate: 0.000410\n",
      "\n",
      "Early stopping triggered for BiLSTM-CRF\n"
     ]
    },
    {
     "name": "stderr",
     "output_type": "stream",
     "text": [
      "Training BiLSTM - Epoch 12/20: 100%|██████████| 9/9 [00:01<00:00,  7.98it/s, loss=0.6916, acc=0.8909]\n"
     ]
    },
    {
     "name": "stdout",
     "output_type": "stream",
     "text": [
      "\n",
      "Running validation for BiLSTM...\n"
     ]
    },
    {
     "name": "stderr",
     "output_type": "stream",
     "text": [
      "Validation: 100%|██████████| 2/2 [00:00<00:00, 20.59it/s, loss=0.6907, acc=0.8835]\n"
     ]
    },
    {
     "name": "stdout",
     "output_type": "stream",
     "text": [
      "\n",
      "BiLSTM Results:\n",
      "Training Loss: 0.6916\n",
      "Validation Loss: 0.6907\n",
      "Training Accuracy: 0.8909\n",
      "Validation Accuracy: 0.8835\n",
      "Learning Rate: 0.000410\n",
      "Saved new best model for BiLSTM!\n"
     ]
    },
    {
     "name": "stderr",
     "output_type": "stream",
     "text": [
      "Training ForwardLSTM - Epoch 12/20: 100%|██████████| 9/9 [00:00<00:00, 15.96it/s, loss=0.6515, acc=0.9253]\n"
     ]
    },
    {
     "name": "stdout",
     "output_type": "stream",
     "text": [
      "\n",
      "Running validation for ForwardLSTM...\n"
     ]
    },
    {
     "name": "stderr",
     "output_type": "stream",
     "text": [
      "Validation: 100%|██████████| 2/2 [00:00<00:00, 44.48it/s, loss=0.7002, acc=0.8767]\n"
     ]
    },
    {
     "name": "stdout",
     "output_type": "stream",
     "text": [
      "\n",
      "ForwardLSTM Results:\n",
      "Training Loss: 0.6515\n",
      "Validation Loss: 0.7002\n",
      "Training Accuracy: 0.9253\n",
      "Validation Accuracy: 0.8767\n",
      "Learning Rate: 0.000410\n",
      "Saved new best model for ForwardLSTM!\n"
     ]
    },
    {
     "name": "stderr",
     "output_type": "stream",
     "text": [
      "Training BackwardLSTM - Epoch 12/20: 100%|██████████| 9/9 [00:00<00:00, 17.09it/s, loss=0.6529, acc=0.9204]\n"
     ]
    },
    {
     "name": "stdout",
     "output_type": "stream",
     "text": [
      "\n",
      "Running validation for BackwardLSTM...\n"
     ]
    },
    {
     "name": "stderr",
     "output_type": "stream",
     "text": [
      "Validation: 100%|██████████| 2/2 [00:00<00:00, 44.74it/s, loss=0.7034, acc=0.8709]\n"
     ]
    },
    {
     "name": "stdout",
     "output_type": "stream",
     "text": [
      "\n",
      "BackwardLSTM Results:\n",
      "Training Loss: 0.6529\n",
      "Validation Loss: 0.7034\n",
      "Training Accuracy: 0.9204\n",
      "Validation Accuracy: 0.8709\n",
      "Learning Rate: 0.000410\n",
      "Saved new best model for BackwardLSTM!\n",
      "\n",
      "Epoch 13/20\n",
      "==================================================\n"
     ]
    },
    {
     "name": "stderr",
     "output_type": "stream",
     "text": [
      "Training BiLSTM-CRF - Epoch 13/20: 100%|██████████| 9/9 [00:01<00:00,  6.37it/s, loss=3.3291, acc=0.9590]\n"
     ]
    },
    {
     "name": "stdout",
     "output_type": "stream",
     "text": [
      "\n",
      "Running validation for BiLSTM-CRF...\n"
     ]
    },
    {
     "name": "stderr",
     "output_type": "stream",
     "text": [
      "Validation: 100%|██████████| 2/2 [00:00<00:00, 12.03it/s, loss=11.8344, acc=0.8911]\n"
     ]
    },
    {
     "name": "stdout",
     "output_type": "stream",
     "text": [
      "\n",
      "BiLSTM-CRF Results:\n",
      "Training Loss: 3.3291\n",
      "Validation Loss: 11.8344\n",
      "Training Accuracy: 0.9590\n",
      "Validation Accuracy: 0.8911\n",
      "Learning Rate: 0.000410\n",
      "\n",
      "Early stopping triggered for BiLSTM-CRF\n"
     ]
    },
    {
     "name": "stderr",
     "output_type": "stream",
     "text": [
      "Training BiLSTM - Epoch 13/20: 100%|██████████| 9/9 [00:01<00:00,  8.73it/s, loss=0.6837, acc=0.8990]\n"
     ]
    },
    {
     "name": "stdout",
     "output_type": "stream",
     "text": [
      "\n",
      "Running validation for BiLSTM...\n"
     ]
    },
    {
     "name": "stderr",
     "output_type": "stream",
     "text": [
      "Validation: 100%|██████████| 2/2 [00:00<00:00, 26.53it/s, loss=0.6929, acc=0.8821]\n"
     ]
    },
    {
     "name": "stdout",
     "output_type": "stream",
     "text": [
      "\n",
      "BiLSTM Results:\n",
      "Training Loss: 0.6837\n",
      "Validation Loss: 0.6929\n",
      "Training Accuracy: 0.8990\n",
      "Validation Accuracy: 0.8821\n",
      "Learning Rate: 0.000410\n"
     ]
    },
    {
     "name": "stderr",
     "output_type": "stream",
     "text": [
      "Training ForwardLSTM - Epoch 13/20: 100%|██████████| 9/9 [00:00<00:00, 17.85it/s, loss=0.6442, acc=0.9255]\n"
     ]
    },
    {
     "name": "stdout",
     "output_type": "stream",
     "text": [
      "\n",
      "Running validation for ForwardLSTM...\n"
     ]
    },
    {
     "name": "stderr",
     "output_type": "stream",
     "text": [
      "Validation: 100%|██████████| 2/2 [00:00<00:00, 45.58it/s, loss=0.6988, acc=0.8727]\n"
     ]
    },
    {
     "name": "stdout",
     "output_type": "stream",
     "text": [
      "\n",
      "ForwardLSTM Results:\n",
      "Training Loss: 0.6442\n",
      "Validation Loss: 0.6988\n",
      "Training Accuracy: 0.9255\n",
      "Validation Accuracy: 0.8727\n",
      "Learning Rate: 0.000410\n",
      "Saved new best model for ForwardLSTM!\n"
     ]
    },
    {
     "name": "stderr",
     "output_type": "stream",
     "text": [
      "Training BackwardLSTM - Epoch 13/20: 100%|██████████| 9/9 [00:00<00:00, 16.39it/s, loss=0.6486, acc=0.9210]\n"
     ]
    },
    {
     "name": "stdout",
     "output_type": "stream",
     "text": [
      "\n",
      "Running validation for BackwardLSTM...\n"
     ]
    },
    {
     "name": "stderr",
     "output_type": "stream",
     "text": [
      "Validation: 100%|██████████| 2/2 [00:00<00:00, 44.32it/s, loss=0.7038, acc=0.8655]\n"
     ]
    },
    {
     "name": "stdout",
     "output_type": "stream",
     "text": [
      "\n",
      "BackwardLSTM Results:\n",
      "Training Loss: 0.6486\n",
      "Validation Loss: 0.7038\n",
      "Training Accuracy: 0.9210\n",
      "Validation Accuracy: 0.8655\n",
      "Learning Rate: 0.000410\n",
      "\n",
      "Epoch 14/20\n",
      "==================================================\n"
     ]
    },
    {
     "name": "stderr",
     "output_type": "stream",
     "text": [
      "Training BiLSTM-CRF - Epoch 14/20: 100%|██████████| 9/9 [00:01<00:00,  6.25it/s, loss=3.2066, acc=0.9638]\n"
     ]
    },
    {
     "name": "stdout",
     "output_type": "stream",
     "text": [
      "\n",
      "Running validation for BiLSTM-CRF...\n"
     ]
    },
    {
     "name": "stderr",
     "output_type": "stream",
     "text": [
      "Validation: 100%|██████████| 2/2 [00:00<00:00, 17.06it/s, loss=11.4647, acc=0.8909]\n"
     ]
    },
    {
     "name": "stdout",
     "output_type": "stream",
     "text": [
      "\n",
      "BiLSTM-CRF Results:\n",
      "Training Loss: 3.2066\n",
      "Validation Loss: 11.4647\n",
      "Training Accuracy: 0.9638\n",
      "Validation Accuracy: 0.8909\n",
      "Learning Rate: 0.000410\n",
      "\n",
      "Early stopping triggered for BiLSTM-CRF\n"
     ]
    },
    {
     "name": "stderr",
     "output_type": "stream",
     "text": [
      "Training BiLSTM - Epoch 14/20: 100%|██████████| 9/9 [00:01<00:00,  8.37it/s, loss=0.6718, acc=0.9124]\n"
     ]
    },
    {
     "name": "stdout",
     "output_type": "stream",
     "text": [
      "\n",
      "Running validation for BiLSTM...\n"
     ]
    },
    {
     "name": "stderr",
     "output_type": "stream",
     "text": [
      "Validation: 100%|██████████| 2/2 [00:00<00:00, 21.78it/s, loss=0.6932, acc=0.8782]\n"
     ]
    },
    {
     "name": "stdout",
     "output_type": "stream",
     "text": [
      "\n",
      "BiLSTM Results:\n",
      "Training Loss: 0.6718\n",
      "Validation Loss: 0.6932\n",
      "Training Accuracy: 0.9124\n",
      "Validation Accuracy: 0.8782\n",
      "Learning Rate: 0.000410\n"
     ]
    },
    {
     "name": "stderr",
     "output_type": "stream",
     "text": [
      "Training ForwardLSTM - Epoch 14/20: 100%|██████████| 9/9 [00:00<00:00, 17.82it/s, loss=0.6369, acc=0.9269]\n"
     ]
    },
    {
     "name": "stdout",
     "output_type": "stream",
     "text": [
      "\n",
      "Running validation for ForwardLSTM...\n"
     ]
    },
    {
     "name": "stderr",
     "output_type": "stream",
     "text": [
      "Validation: 100%|██████████| 2/2 [00:00<00:00, 40.49it/s, loss=0.7024, acc=0.8684]\n"
     ]
    },
    {
     "name": "stdout",
     "output_type": "stream",
     "text": [
      "\n",
      "ForwardLSTM Results:\n",
      "Training Loss: 0.6369\n",
      "Validation Loss: 0.7024\n",
      "Training Accuracy: 0.9269\n",
      "Validation Accuracy: 0.8684\n",
      "Learning Rate: 0.000410\n"
     ]
    },
    {
     "name": "stderr",
     "output_type": "stream",
     "text": [
      "Training BackwardLSTM - Epoch 14/20: 100%|██████████| 9/9 [00:00<00:00, 17.74it/s, loss=0.6453, acc=0.9212]\n"
     ]
    },
    {
     "name": "stdout",
     "output_type": "stream",
     "text": [
      "\n",
      "Running validation for BackwardLSTM...\n"
     ]
    },
    {
     "name": "stderr",
     "output_type": "stream",
     "text": [
      "Validation: 100%|██████████| 2/2 [00:00<00:00, 46.88it/s, loss=0.6975, acc=0.8708]\n"
     ]
    },
    {
     "name": "stdout",
     "output_type": "stream",
     "text": [
      "\n",
      "BackwardLSTM Results:\n",
      "Training Loss: 0.6453\n",
      "Validation Loss: 0.6975\n",
      "Training Accuracy: 0.9212\n",
      "Validation Accuracy: 0.8708\n",
      "Learning Rate: 0.000410\n",
      "Saved new best model for BackwardLSTM!\n",
      "\n",
      "Epoch 15/20\n",
      "==================================================\n"
     ]
    },
    {
     "name": "stderr",
     "output_type": "stream",
     "text": [
      "Training BiLSTM-CRF - Epoch 15/20: 100%|██████████| 9/9 [00:01<00:00,  6.78it/s, loss=3.0963, acc=0.9610]\n"
     ]
    },
    {
     "name": "stdout",
     "output_type": "stream",
     "text": [
      "\n",
      "Running validation for BiLSTM-CRF...\n"
     ]
    },
    {
     "name": "stderr",
     "output_type": "stream",
     "text": [
      "Validation: 100%|██████████| 2/2 [00:00<00:00, 18.02it/s, loss=11.4367, acc=0.8881]\n"
     ]
    },
    {
     "name": "stdout",
     "output_type": "stream",
     "text": [
      "\n",
      "BiLSTM-CRF Results:\n",
      "Training Loss: 3.0963\n",
      "Validation Loss: 11.4367\n",
      "Training Accuracy: 0.9610\n",
      "Validation Accuracy: 0.8881\n",
      "Learning Rate: 0.000328\n",
      "\n",
      "Early stopping triggered for BiLSTM-CRF\n"
     ]
    },
    {
     "name": "stderr",
     "output_type": "stream",
     "text": [
      "Training BiLSTM - Epoch 15/20: 100%|██████████| 9/9 [00:01<00:00,  8.43it/s, loss=0.6671, acc=0.9105]\n"
     ]
    },
    {
     "name": "stdout",
     "output_type": "stream",
     "text": [
      "\n",
      "Running validation for BiLSTM...\n"
     ]
    },
    {
     "name": "stderr",
     "output_type": "stream",
     "text": [
      "Validation: 100%|██████████| 2/2 [00:00<00:00, 22.39it/s, loss=0.6841, acc=0.8852]\n"
     ]
    },
    {
     "name": "stdout",
     "output_type": "stream",
     "text": [
      "\n",
      "BiLSTM Results:\n",
      "Training Loss: 0.6671\n",
      "Validation Loss: 0.6841\n",
      "Training Accuracy: 0.9105\n",
      "Validation Accuracy: 0.8852\n",
      "Learning Rate: 0.000328\n",
      "Saved new best model for BiLSTM!\n"
     ]
    },
    {
     "name": "stderr",
     "output_type": "stream",
     "text": [
      "Training ForwardLSTM - Epoch 15/20: 100%|██████████| 9/9 [00:00<00:00, 10.33it/s, loss=0.6347, acc=0.9343]\n"
     ]
    },
    {
     "name": "stdout",
     "output_type": "stream",
     "text": [
      "\n",
      "Running validation for ForwardLSTM...\n"
     ]
    },
    {
     "name": "stderr",
     "output_type": "stream",
     "text": [
      "Validation: 100%|██████████| 2/2 [00:00<00:00, 20.55it/s, loss=0.6946, acc=0.8725]\n"
     ]
    },
    {
     "name": "stdout",
     "output_type": "stream",
     "text": [
      "\n",
      "ForwardLSTM Results:\n",
      "Training Loss: 0.6347\n",
      "Validation Loss: 0.6946\n",
      "Training Accuracy: 0.9343\n",
      "Validation Accuracy: 0.8725\n",
      "Learning Rate: 0.000328\n",
      "Saved new best model for ForwardLSTM!\n"
     ]
    },
    {
     "name": "stderr",
     "output_type": "stream",
     "text": [
      "Training BackwardLSTM - Epoch 15/20: 100%|██████████| 9/9 [00:01<00:00,  7.69it/s, loss=0.6415, acc=0.9270]\n"
     ]
    },
    {
     "name": "stdout",
     "output_type": "stream",
     "text": [
      "\n",
      "Running validation for BackwardLSTM...\n"
     ]
    },
    {
     "name": "stderr",
     "output_type": "stream",
     "text": [
      "Validation: 100%|██████████| 2/2 [00:00<00:00, 18.42it/s, loss=0.7016, acc=0.8644]\n"
     ]
    },
    {
     "name": "stdout",
     "output_type": "stream",
     "text": [
      "\n",
      "BackwardLSTM Results:\n",
      "Training Loss: 0.6415\n",
      "Validation Loss: 0.7016\n",
      "Training Accuracy: 0.9270\n",
      "Validation Accuracy: 0.8644\n",
      "Learning Rate: 0.000328\n",
      "\n",
      "Epoch 16/20\n",
      "==================================================\n"
     ]
    },
    {
     "name": "stderr",
     "output_type": "stream",
     "text": [
      "Training BiLSTM-CRF - Epoch 16/20: 100%|██████████| 9/9 [00:01<00:00,  4.82it/s, loss=3.2228, acc=0.9569]\n"
     ]
    },
    {
     "name": "stdout",
     "output_type": "stream",
     "text": [
      "\n",
      "Running validation for BiLSTM-CRF...\n"
     ]
    },
    {
     "name": "stderr",
     "output_type": "stream",
     "text": [
      "Validation: 100%|██████████| 2/2 [00:00<00:00, 14.13it/s, loss=11.3439, acc=0.8825]\n"
     ]
    },
    {
     "name": "stdout",
     "output_type": "stream",
     "text": [
      "\n",
      "BiLSTM-CRF Results:\n",
      "Training Loss: 3.2228\n",
      "Validation Loss: 11.3439\n",
      "Training Accuracy: 0.9569\n",
      "Validation Accuracy: 0.8825\n",
      "Learning Rate: 0.000328\n",
      "\n",
      "Early stopping triggered for BiLSTM-CRF\n"
     ]
    },
    {
     "name": "stderr",
     "output_type": "stream",
     "text": [
      "Training BiLSTM - Epoch 16/20: 100%|██████████| 9/9 [00:01<00:00,  7.33it/s, loss=0.6618, acc=0.9091]\n"
     ]
    },
    {
     "name": "stdout",
     "output_type": "stream",
     "text": [
      "\n",
      "Running validation for BiLSTM...\n"
     ]
    },
    {
     "name": "stderr",
     "output_type": "stream",
     "text": [
      "Validation: 100%|██████████| 2/2 [00:00<00:00, 17.42it/s, loss=0.6833, acc=0.8822]\n"
     ]
    },
    {
     "name": "stdout",
     "output_type": "stream",
     "text": [
      "\n",
      "BiLSTM Results:\n",
      "Training Loss: 0.6618\n",
      "Validation Loss: 0.6833\n",
      "Training Accuracy: 0.9091\n",
      "Validation Accuracy: 0.8822\n",
      "Learning Rate: 0.000328\n",
      "Saved new best model for BiLSTM!\n"
     ]
    },
    {
     "name": "stderr",
     "output_type": "stream",
     "text": [
      "Training ForwardLSTM - Epoch 16/20: 100%|██████████| 9/9 [00:00<00:00, 15.29it/s, loss=0.6279, acc=0.9349]\n"
     ]
    },
    {
     "name": "stdout",
     "output_type": "stream",
     "text": [
      "\n",
      "Running validation for ForwardLSTM...\n"
     ]
    },
    {
     "name": "stderr",
     "output_type": "stream",
     "text": [
      "Validation: 100%|██████████| 2/2 [00:00<00:00, 23.62it/s, loss=0.6930, acc=0.8725]\n"
     ]
    },
    {
     "name": "stdout",
     "output_type": "stream",
     "text": [
      "\n",
      "ForwardLSTM Results:\n",
      "Training Loss: 0.6279\n",
      "Validation Loss: 0.6930\n",
      "Training Accuracy: 0.9349\n",
      "Validation Accuracy: 0.8725\n",
      "Learning Rate: 0.000328\n",
      "Saved new best model for ForwardLSTM!\n"
     ]
    },
    {
     "name": "stderr",
     "output_type": "stream",
     "text": [
      "Training BackwardLSTM - Epoch 16/20: 100%|██████████| 9/9 [00:00<00:00, 13.82it/s, loss=0.6401, acc=0.9262]\n"
     ]
    },
    {
     "name": "stdout",
     "output_type": "stream",
     "text": [
      "\n",
      "Running validation for BackwardLSTM...\n"
     ]
    },
    {
     "name": "stderr",
     "output_type": "stream",
     "text": [
      "Validation: 100%|██████████| 2/2 [00:00<00:00, 37.75it/s, loss=0.6968, acc=0.8682]\n"
     ]
    },
    {
     "name": "stdout",
     "output_type": "stream",
     "text": [
      "\n",
      "BackwardLSTM Results:\n",
      "Training Loss: 0.6401\n",
      "Validation Loss: 0.6968\n",
      "Training Accuracy: 0.9262\n",
      "Validation Accuracy: 0.8682\n",
      "Learning Rate: 0.000328\n",
      "Saved new best model for BackwardLSTM!\n",
      "\n",
      "Epoch 17/20\n",
      "==================================================\n"
     ]
    },
    {
     "name": "stderr",
     "output_type": "stream",
     "text": [
      "Training BiLSTM-CRF - Epoch 17/20: 100%|██████████| 9/9 [00:01<00:00,  5.94it/s, loss=3.1091, acc=0.9577]\n"
     ]
    },
    {
     "name": "stdout",
     "output_type": "stream",
     "text": [
      "\n",
      "Running validation for BiLSTM-CRF...\n"
     ]
    },
    {
     "name": "stderr",
     "output_type": "stream",
     "text": [
      "Validation: 100%|██████████| 2/2 [00:00<00:00, 14.54it/s, loss=11.3995, acc=0.8949]\n"
     ]
    },
    {
     "name": "stdout",
     "output_type": "stream",
     "text": [
      "\n",
      "BiLSTM-CRF Results:\n",
      "Training Loss: 3.1091\n",
      "Validation Loss: 11.3995\n",
      "Training Accuracy: 0.9577\n",
      "Validation Accuracy: 0.8949\n",
      "Learning Rate: 0.000328\n",
      "\n",
      "Early stopping triggered for BiLSTM-CRF\n"
     ]
    },
    {
     "name": "stderr",
     "output_type": "stream",
     "text": [
      "Training BiLSTM - Epoch 17/20: 100%|██████████| 9/9 [00:01<00:00,  7.78it/s, loss=0.6484, acc=0.9184]\n"
     ]
    },
    {
     "name": "stdout",
     "output_type": "stream",
     "text": [
      "\n",
      "Running validation for BiLSTM...\n"
     ]
    },
    {
     "name": "stderr",
     "output_type": "stream",
     "text": [
      "Validation: 100%|██████████| 2/2 [00:00<00:00, 15.51it/s, loss=0.6819, acc=0.8822]\n"
     ]
    },
    {
     "name": "stdout",
     "output_type": "stream",
     "text": [
      "\n",
      "BiLSTM Results:\n",
      "Training Loss: 0.6484\n",
      "Validation Loss: 0.6819\n",
      "Training Accuracy: 0.9184\n",
      "Validation Accuracy: 0.8822\n",
      "Learning Rate: 0.000328\n",
      "Saved new best model for BiLSTM!\n"
     ]
    },
    {
     "name": "stderr",
     "output_type": "stream",
     "text": [
      "Training ForwardLSTM - Epoch 17/20: 100%|██████████| 9/9 [00:00<00:00, 12.84it/s, loss=0.6319, acc=0.9356]\n"
     ]
    },
    {
     "name": "stdout",
     "output_type": "stream",
     "text": [
      "\n",
      "Running validation for ForwardLSTM...\n"
     ]
    },
    {
     "name": "stderr",
     "output_type": "stream",
     "text": [
      "Validation: 100%|██████████| 2/2 [00:00<00:00, 37.62it/s, loss=0.6917, acc=0.8684]\n"
     ]
    },
    {
     "name": "stdout",
     "output_type": "stream",
     "text": [
      "\n",
      "ForwardLSTM Results:\n",
      "Training Loss: 0.6319\n",
      "Validation Loss: 0.6917\n",
      "Training Accuracy: 0.9356\n",
      "Validation Accuracy: 0.8684\n",
      "Learning Rate: 0.000328\n",
      "Saved new best model for ForwardLSTM!\n"
     ]
    },
    {
     "name": "stderr",
     "output_type": "stream",
     "text": [
      "Training BackwardLSTM - Epoch 17/20: 100%|██████████| 9/9 [00:00<00:00, 14.83it/s, loss=0.6392, acc=0.9248]\n"
     ]
    },
    {
     "name": "stdout",
     "output_type": "stream",
     "text": [
      "\n",
      "Running validation for BackwardLSTM...\n"
     ]
    },
    {
     "name": "stderr",
     "output_type": "stream",
     "text": [
      "Validation: 100%|██████████| 2/2 [00:00<00:00, 12.13it/s, loss=0.6934, acc=0.8682]\n"
     ]
    },
    {
     "name": "stdout",
     "output_type": "stream",
     "text": [
      "\n",
      "BackwardLSTM Results:\n",
      "Training Loss: 0.6392\n",
      "Validation Loss: 0.6934\n",
      "Training Accuracy: 0.9248\n",
      "Validation Accuracy: 0.8682\n",
      "Learning Rate: 0.000328\n",
      "Saved new best model for BackwardLSTM!\n",
      "\n",
      "Epoch 18/20\n",
      "==================================================\n"
     ]
    },
    {
     "name": "stderr",
     "output_type": "stream",
     "text": [
      "Training BiLSTM-CRF - Epoch 18/20: 100%|██████████| 9/9 [00:01<00:00,  5.77it/s, loss=3.5032, acc=0.9580]\n"
     ]
    },
    {
     "name": "stdout",
     "output_type": "stream",
     "text": [
      "\n",
      "Running validation for BiLSTM-CRF...\n"
     ]
    },
    {
     "name": "stderr",
     "output_type": "stream",
     "text": [
      "Validation: 100%|██████████| 2/2 [00:00<00:00, 14.76it/s, loss=11.2368, acc=0.8851]\n"
     ]
    },
    {
     "name": "stdout",
     "output_type": "stream",
     "text": [
      "\n",
      "BiLSTM-CRF Results:\n",
      "Training Loss: 3.5032\n",
      "Validation Loss: 11.2368\n",
      "Training Accuracy: 0.9580\n",
      "Validation Accuracy: 0.8851\n",
      "Learning Rate: 0.000262\n",
      "Saved new best model for BiLSTM-CRF!\n"
     ]
    },
    {
     "name": "stderr",
     "output_type": "stream",
     "text": [
      "Training BiLSTM - Epoch 18/20: 100%|██████████| 9/9 [00:01<00:00,  7.39it/s, loss=0.6534, acc=0.9179]\n"
     ]
    },
    {
     "name": "stdout",
     "output_type": "stream",
     "text": [
      "\n",
      "Running validation for BiLSTM...\n"
     ]
    },
    {
     "name": "stderr",
     "output_type": "stream",
     "text": [
      "Validation: 100%|██████████| 2/2 [00:00<00:00, 18.64it/s, loss=0.6754, acc=0.8837]\n"
     ]
    },
    {
     "name": "stdout",
     "output_type": "stream",
     "text": [
      "\n",
      "BiLSTM Results:\n",
      "Training Loss: 0.6534\n",
      "Validation Loss: 0.6754\n",
      "Training Accuracy: 0.9179\n",
      "Validation Accuracy: 0.8837\n",
      "Learning Rate: 0.000262\n",
      "Saved new best model for BiLSTM!\n"
     ]
    },
    {
     "name": "stderr",
     "output_type": "stream",
     "text": [
      "Training ForwardLSTM - Epoch 18/20: 100%|██████████| 9/9 [00:00<00:00, 13.17it/s, loss=0.6253, acc=0.9352]\n"
     ]
    },
    {
     "name": "stdout",
     "output_type": "stream",
     "text": [
      "\n",
      "Running validation for ForwardLSTM...\n"
     ]
    },
    {
     "name": "stderr",
     "output_type": "stream",
     "text": [
      "Validation: 100%|██████████| 2/2 [00:00<00:00, 37.32it/s, loss=0.6897, acc=0.8711]\n"
     ]
    },
    {
     "name": "stdout",
     "output_type": "stream",
     "text": [
      "\n",
      "ForwardLSTM Results:\n",
      "Training Loss: 0.6253\n",
      "Validation Loss: 0.6897\n",
      "Training Accuracy: 0.9352\n",
      "Validation Accuracy: 0.8711\n",
      "Learning Rate: 0.000262\n",
      "Saved new best model for ForwardLSTM!\n"
     ]
    },
    {
     "name": "stderr",
     "output_type": "stream",
     "text": [
      "Training BackwardLSTM - Epoch 18/20: 100%|██████████| 9/9 [00:00<00:00, 12.22it/s, loss=0.6355, acc=0.9310]\n"
     ]
    },
    {
     "name": "stdout",
     "output_type": "stream",
     "text": [
      "\n",
      "Running validation for BackwardLSTM...\n"
     ]
    },
    {
     "name": "stderr",
     "output_type": "stream",
     "text": [
      "Validation: 100%|██████████| 2/2 [00:00<00:00, 34.61it/s, loss=0.6975, acc=0.8682]\n"
     ]
    },
    {
     "name": "stdout",
     "output_type": "stream",
     "text": [
      "\n",
      "BackwardLSTM Results:\n",
      "Training Loss: 0.6355\n",
      "Validation Loss: 0.6975\n",
      "Training Accuracy: 0.9310\n",
      "Validation Accuracy: 0.8682\n",
      "Learning Rate: 0.000262\n",
      "\n",
      "Epoch 19/20\n",
      "==================================================\n"
     ]
    },
    {
     "name": "stderr",
     "output_type": "stream",
     "text": [
      "Training BiLSTM-CRF - Epoch 19/20: 100%|██████████| 9/9 [00:01<00:00,  6.02it/s, loss=2.3510, acc=0.9710]\n"
     ]
    },
    {
     "name": "stdout",
     "output_type": "stream",
     "text": [
      "\n",
      "Running validation for BiLSTM-CRF...\n"
     ]
    },
    {
     "name": "stderr",
     "output_type": "stream",
     "text": [
      "Validation: 100%|██████████| 2/2 [00:00<00:00, 12.00it/s, loss=12.0806, acc=0.8934]\n"
     ]
    },
    {
     "name": "stdout",
     "output_type": "stream",
     "text": [
      "\n",
      "BiLSTM-CRF Results:\n",
      "Training Loss: 2.3510\n",
      "Validation Loss: 12.0806\n",
      "Training Accuracy: 0.9710\n",
      "Validation Accuracy: 0.8934\n",
      "Learning Rate: 0.000262\n"
     ]
    },
    {
     "name": "stderr",
     "output_type": "stream",
     "text": [
      "Training BiLSTM - Epoch 19/20: 100%|██████████| 9/9 [00:01<00:00,  7.33it/s, loss=0.6474, acc=0.9195]\n"
     ]
    },
    {
     "name": "stdout",
     "output_type": "stream",
     "text": [
      "\n",
      "Running validation for BiLSTM...\n"
     ]
    },
    {
     "name": "stderr",
     "output_type": "stream",
     "text": [
      "Validation: 100%|██████████| 2/2 [00:00<00:00, 20.32it/s, loss=0.6786, acc=0.8795]\n"
     ]
    },
    {
     "name": "stdout",
     "output_type": "stream",
     "text": [
      "\n",
      "BiLSTM Results:\n",
      "Training Loss: 0.6474\n",
      "Validation Loss: 0.6786\n",
      "Training Accuracy: 0.9195\n",
      "Validation Accuracy: 0.8795\n",
      "Learning Rate: 0.000262\n"
     ]
    },
    {
     "name": "stderr",
     "output_type": "stream",
     "text": [
      "Training ForwardLSTM - Epoch 19/20: 100%|██████████| 9/9 [00:00<00:00, 14.30it/s, loss=0.6248, acc=0.9362]\n"
     ]
    },
    {
     "name": "stdout",
     "output_type": "stream",
     "text": [
      "\n",
      "Running validation for ForwardLSTM...\n"
     ]
    },
    {
     "name": "stderr",
     "output_type": "stream",
     "text": [
      "Validation: 100%|██████████| 2/2 [00:00<00:00, 31.07it/s, loss=0.6866, acc=0.8764]\n"
     ]
    },
    {
     "name": "stdout",
     "output_type": "stream",
     "text": [
      "\n",
      "ForwardLSTM Results:\n",
      "Training Loss: 0.6248\n",
      "Validation Loss: 0.6866\n",
      "Training Accuracy: 0.9362\n",
      "Validation Accuracy: 0.8764\n",
      "Learning Rate: 0.000262\n",
      "Saved new best model for ForwardLSTM!\n"
     ]
    },
    {
     "name": "stderr",
     "output_type": "stream",
     "text": [
      "Training BackwardLSTM - Epoch 19/20: 100%|██████████| 9/9 [00:00<00:00, 11.74it/s, loss=0.6291, acc=0.9293]\n"
     ]
    },
    {
     "name": "stdout",
     "output_type": "stream",
     "text": [
      "\n",
      "Running validation for BackwardLSTM...\n"
     ]
    },
    {
     "name": "stderr",
     "output_type": "stream",
     "text": [
      "Validation: 100%|██████████| 2/2 [00:00<00:00, 21.66it/s, loss=0.6954, acc=0.8709]\n"
     ]
    },
    {
     "name": "stdout",
     "output_type": "stream",
     "text": [
      "\n",
      "BackwardLSTM Results:\n",
      "Training Loss: 0.6291\n",
      "Validation Loss: 0.6954\n",
      "Training Accuracy: 0.9293\n",
      "Validation Accuracy: 0.8709\n",
      "Learning Rate: 0.000262\n",
      "\n",
      "Epoch 20/20\n",
      "==================================================\n"
     ]
    },
    {
     "name": "stderr",
     "output_type": "stream",
     "text": [
      "Training BiLSTM-CRF - Epoch 20/20: 100%|██████████| 9/9 [00:01<00:00,  5.31it/s, loss=2.0100, acc=0.9761]\n"
     ]
    },
    {
     "name": "stdout",
     "output_type": "stream",
     "text": [
      "\n",
      "Running validation for BiLSTM-CRF...\n"
     ]
    },
    {
     "name": "stderr",
     "output_type": "stream",
     "text": [
      "Validation: 100%|██████████| 2/2 [00:00<00:00, 11.98it/s, loss=12.1396, acc=0.8929]\n"
     ]
    },
    {
     "name": "stdout",
     "output_type": "stream",
     "text": [
      "\n",
      "BiLSTM-CRF Results:\n",
      "Training Loss: 2.0100\n",
      "Validation Loss: 12.1396\n",
      "Training Accuracy: 0.9761\n",
      "Validation Accuracy: 0.8929\n",
      "Learning Rate: 0.000262\n"
     ]
    },
    {
     "name": "stderr",
     "output_type": "stream",
     "text": [
      "Training BiLSTM - Epoch 20/20: 100%|██████████| 9/9 [00:01<00:00,  7.12it/s, loss=0.6467, acc=0.9202]\n"
     ]
    },
    {
     "name": "stdout",
     "output_type": "stream",
     "text": [
      "\n",
      "Running validation for BiLSTM...\n"
     ]
    },
    {
     "name": "stderr",
     "output_type": "stream",
     "text": [
      "Validation: 100%|██████████| 2/2 [00:00<00:00, 20.28it/s, loss=0.6757, acc=0.8849]\n"
     ]
    },
    {
     "name": "stdout",
     "output_type": "stream",
     "text": [
      "\n",
      "BiLSTM Results:\n",
      "Training Loss: 0.6467\n",
      "Validation Loss: 0.6757\n",
      "Training Accuracy: 0.9202\n",
      "Validation Accuracy: 0.8849\n",
      "Learning Rate: 0.000262\n"
     ]
    },
    {
     "name": "stderr",
     "output_type": "stream",
     "text": [
      "Training ForwardLSTM - Epoch 20/20: 100%|██████████| 9/9 [00:00<00:00, 15.82it/s, loss=0.6211, acc=0.9388]\n"
     ]
    },
    {
     "name": "stdout",
     "output_type": "stream",
     "text": [
      "\n",
      "Running validation for ForwardLSTM...\n"
     ]
    },
    {
     "name": "stderr",
     "output_type": "stream",
     "text": [
      "Validation: 100%|██████████| 2/2 [00:00<00:00, 30.66it/s, loss=0.6898, acc=0.8697]\n"
     ]
    },
    {
     "name": "stdout",
     "output_type": "stream",
     "text": [
      "\n",
      "ForwardLSTM Results:\n",
      "Training Loss: 0.6211\n",
      "Validation Loss: 0.6898\n",
      "Training Accuracy: 0.9388\n",
      "Validation Accuracy: 0.8697\n",
      "Learning Rate: 0.000262\n"
     ]
    },
    {
     "name": "stderr",
     "output_type": "stream",
     "text": [
      "Training BackwardLSTM - Epoch 20/20: 100%|██████████| 9/9 [00:00<00:00, 15.50it/s, loss=0.6266, acc=0.9313]\n"
     ]
    },
    {
     "name": "stdout",
     "output_type": "stream",
     "text": [
      "\n",
      "Running validation for BackwardLSTM...\n"
     ]
    },
    {
     "name": "stderr",
     "output_type": "stream",
     "text": [
      "Validation: 100%|██████████| 2/2 [00:00<00:00, 34.14it/s, loss=0.6984, acc=0.8657]\n"
     ]
    },
    {
     "name": "stdout",
     "output_type": "stream",
     "text": [
      "\n",
      "BackwardLSTM Results:\n",
      "Training Loss: 0.6266\n",
      "Validation Loss: 0.6984\n",
      "Training Accuracy: 0.9313\n",
      "Validation Accuracy: 0.8657\n",
      "Learning Rate: 0.000262\n"
     ]
    },
    {
     "data": {
      "image/png": "[encoded data removed]",
      "text/plain": [
       "<Figure size 1500x1000 with 4 Axes>"
      ]
     },
     "metadata": {},
     "output_type": "display_data"
    },
    {
     "data": {
      "image/png": "[encoded data removed]",
      "text/plain": [
       "<Figure size 1200x500 with 2 Axes>"
      ]
     },
     "metadata": {},
     "output_type": "display_data"
    },
    {
     "data": {
      "image/png": "[encoded data removed]",
      "text/plain": [
       "<Figure size 1200x500 with 2 Axes>"
      ]
     },
     "metadata": {},
     "output_type": "display_data"
    }
   ],
   "source": [
    "import torch\n",
    "import torch.nn as nn\n",
    "from torch.optim.lr_scheduler import StepLR\n",
    "from torch.utils.data import TensorDataset, DataLoader\n",
    "from tqdm import tqdm\n",
    "import matplotlib.pyplot as plt\n",
    "import numpy as np\n",
    "\n",
    "def compute_accuracy(pred_tags, true_tags, mask=None):\n",
    "    \"\"\"\n",
    "    Compute accuracy considering the mask for padding and handling different input formats\n",
    "    \n",
    "    Args:\n",
    "        pred_tags: torch.Tensor or numpy array of predictions\n",
    "        true_tags: torch.Tensor or numpy array of true labels\n",
    "        mask: torch.Tensor or numpy array of boolean mask (optional)\n",
    "    \"\"\"\n",
    "    # Convert to numpy arrays\n",
    "    if isinstance(pred_tags, torch.Tensor):\n",
    "        pred_tags = pred_tags.cpu().detach().numpy()\n",
    "    if isinstance(true_tags, torch.Tensor):\n",
    "        true_tags = true_tags.cpu().detach().numpy()\n",
    "    if isinstance(mask, torch.Tensor):\n",
    "        mask = mask.cpu().numpy()\n",
    "\n",
    "    # Handle one-hot encoded true tags\n",
    "    if true_tags.ndim == 3:\n",
    "        true_tags = np.argmax(true_tags, axis=-1)\n",
    "    \n",
    "    # Ensure predictions are 2D\n",
    "    if pred_tags.ndim == 3:\n",
    "        pred_tags = np.argmax(pred_tags, axis=-1)\n",
    "    \n",
    "    # Reshape both arrays to 2D if they're not already\n",
    "    if pred_tags.ndim == 1:\n",
    "        pred_tags = pred_tags.reshape(-1, 1)\n",
    "    if true_tags.ndim == 1:\n",
    "        true_tags = true_tags.reshape(-1, 1)\n",
    "    \n",
    "    # Create mask if not provided\n",
    "    if mask is None:\n",
    "        mask = np.ones_like(true_tags, dtype=bool)\n",
    "    \n",
    "    # Ensure mask has same shape as predictions\n",
    "    if mask.shape != pred_tags.shape:\n",
    "        # Reshape mask to match predictions\n",
    "        mask = mask[:pred_tags.shape[0], :pred_tags.shape[1]]\n",
    "    \n",
    "    # Calculate accuracy only on valid positions\n",
    "    valid_positions = mask.astype(bool)\n",
    "    if valid_positions.sum() > 0:\n",
    "        correct = (pred_tags[valid_positions] == true_tags[valid_positions]).sum()\n",
    "        total = valid_positions.sum()\n",
    "        return correct / total\n",
    "    return 0.0\n",
    "\n",
    "def plot_training_history(histories):\n",
    "    \"\"\"\n",
    "    Plot training and validation metrics\n",
    "    Args:\n",
    "        histories: dictionary containing training history for each model\n",
    "    \"\"\"\n",
    "    # Standardize metric names\n",
    "    metric_mapping = {\n",
    "        'acc': 'accuracy',\n",
    "        'accuracy': 'accuracy',\n",
    "        'loss': 'loss'\n",
    "    }\n",
    "    \n",
    "    # Create figure for all metrics\n",
    "    fig, ((ax1, ax2), (ax3, ax4)) = plt.subplots(2, 2, figsize=(15, 10))\n",
    "    \n",
    "    try:\n",
    "        # Plot training loss\n",
    "        for name, history in histories.items():\n",
    "            if 'train_loss' in history:\n",
    "                ax1.plot(history['train_loss'], label=f'{name}', marker='.')\n",
    "        ax1.set_title('Training Loss')\n",
    "        ax1.set_xlabel('Epoch')\n",
    "        ax1.set_ylabel('Loss')\n",
    "        ax1.legend()\n",
    "        ax1.grid(True, alpha=0.3)\n",
    "        \n",
    "        # Plot validation loss\n",
    "        for name, history in histories.items():\n",
    "            if 'val_loss' in history:\n",
    "                ax2.plot(history['val_loss'], label=f'{name}', marker='.')\n",
    "        ax2.set_title('Validation Loss')\n",
    "        ax2.set_xlabel('Epoch')\n",
    "        ax2.set_ylabel('Loss')\n",
    "        ax2.legend()\n",
    "        ax2.grid(True, alpha=0.3)\n",
    "        \n",
    "        # Plot training accuracy\n",
    "        for name, history in histories.items():\n",
    "            acc_key = next((k for k in history.keys() if 'train_acc' in k or 'train_accuracy' in k), None)\n",
    "            if acc_key:\n",
    "                ax3.plot(history[acc_key], label=f'{name}', marker='.')\n",
    "        ax3.set_title('Training Accuracy')\n",
    "        ax3.set_xlabel('Epoch')\n",
    "        ax3.set_ylabel('Accuracy')\n",
    "        ax3.legend()\n",
    "        ax3.grid(True, alpha=0.3)\n",
    "        \n",
    "        # Plot validation accuracy\n",
    "        for name, history in histories.items():\n",
    "            acc_key = next((k for k in history.keys() if 'val_acc' in k or 'val_accuracy' in k), None)\n",
    "            if acc_key:\n",
    "                ax4.plot(history[acc_key], label=f'{name}', marker='.')\n",
    "        ax4.set_title('Validation Accuracy')\n",
    "        ax4.set_xlabel('Epoch')\n",
    "        ax4.set_ylabel('Accuracy')\n",
    "        ax4.legend()\n",
    "        ax4.grid(True, alpha=0.3)\n",
    "        \n",
    "        plt.tight_layout()\n",
    "        plt.savefig('training_history.png')\n",
    "        plt.show()\n",
    "\n",
    "        # Plot individual metrics for better comparison\n",
    "        metrics = ['Loss', 'Accuracy']\n",
    "        for metric in metrics:\n",
    "            plt.figure(figsize=(12, 5))\n",
    "            \n",
    "            # Training plot\n",
    "            plt.subplot(1, 2, 1)\n",
    "            metric_key = f'train_{metric.lower()}'\n",
    "            acc_key = f'train_acc' if metric.lower() == 'accuracy' else metric_key\n",
    "            \n",
    "            for name, history in histories.items():\n",
    "                if acc_key in history:\n",
    "                    plt.plot(history[acc_key], label=f'{name}', marker='.')\n",
    "                elif metric_key in history:\n",
    "                    plt.plot(history[metric_key], label=f'{name}', marker='.')\n",
    "            \n",
    "            plt.title(f'Training {metric}')\n",
    "            plt.xlabel('Epoch')\n",
    "            plt.ylabel(metric)\n",
    "            plt.legend()\n",
    "            plt.grid(True, alpha=0.3)\n",
    "            \n",
    "            # Validation plot\n",
    "            plt.subplot(1, 2, 2)\n",
    "            metric_key = f'val_{metric.lower()}'\n",
    "            acc_key = f'val_acc' if metric.lower() == 'accuracy' else metric_key\n",
    "            \n",
    "            for name, history in histories.items():\n",
    "                if acc_key in history:\n",
    "                    plt.plot(history[acc_key], label=f'{name}', marker='.')\n",
    "                elif metric_key in history:\n",
    "                    plt.plot(history[metric_key], label=f'{name}', marker='.')\n",
    "            \n",
    "            plt.title(f'Validation {metric}')\n",
    "            plt.xlabel('Epoch')\n",
    "            plt.ylabel(metric)\n",
    "            plt.legend()\n",
    "            plt.grid(True, alpha=0.3)\n",
    "            \n",
    "            plt.tight_layout()\n",
    "            plt.savefig(f'training_{metric.lower()}.png')\n",
    "            plt.show()\n",
    "    \n",
    "    except Exception as e:\n",
    "        print(f\"Error during plotting: {str(e)}\")\n",
    "        import traceback\n",
    "        traceback.print_exc()\n",
    "\n",
    "def train_and_evaluate_models(models, train_loader, test_loader, n_words, config, device):\n",
    "    histories = {name: {'train_loss': [], 'val_loss': [], 'train_acc': [], 'val_acc': []} \n",
    "                for name in models.keys()}\n",
    "    \n",
    "    optimizers = {name: torch.optim.AdamW(model.parameters(), \n",
    "                                       lr=config['learning_rate'], \n",
    "                                       weight_decay=config['weight_decay'])\n",
    "                 for name, model in models.items()}\n",
    "    \n",
    "    schedulers = {name: StepLR(optimizer, \n",
    "                              step_size=config['scheduler_step'], \n",
    "                              gamma=config['scheduler_gamma'])\n",
    "                 for name, optimizer in optimizers.items()}\n",
    "    \n",
    "    best_metrics = {name: {'loss': float('inf'), 'acc': 0, 'epoch': 0} \n",
    "                   for name in models.keys()}\n",
    "    \n",
    "    patience_counters = {name: 0 for name in models.keys()}\n",
    "\n",
    "    try:\n",
    "        for epoch in range(config['num_epochs']):\n",
    "            print(f\"\\nEpoch {epoch+1}/{config['num_epochs']}\")\n",
    "            print(\"=\" * 50)\n",
    "\n",
    "            # Training phase\n",
    "            for name, model in models.items():\n",
    "                model.train()\n",
    "                total_loss = 0\n",
    "                total_acc = 0\n",
    "                total_batches = 0\n",
    "\n",
    "                progress_bar = tqdm(train_loader, \n",
    "                                desc=f'Training {name} - Epoch {epoch+1}/{config[\"num_epochs\"]}')\n",
    "\n",
    "                for batch_X, batch_y in progress_bar:\n",
    "                    try:\n",
    "                        # Move data to device\n",
    "                        batch_X = batch_X.to(device)\n",
    "                        batch_y = batch_y.to(device)\n",
    "                        \n",
    "                        # Get mask for padding\n",
    "                        mask = (batch_X != n_words - 1)\n",
    "                        \n",
    "                        # Truncate sequences to match lengths\n",
    "                        seq_len = min(batch_X.size(1), batch_y.size(1))\n",
    "                        batch_X = batch_X[:, :seq_len]\n",
    "                        batch_y = batch_y[:, :seq_len]\n",
    "                        mask = mask[:, :seq_len]\n",
    "                        \n",
    "                        # Forward pass\n",
    "                        optimizers[name].zero_grad()\n",
    "                        \n",
    "                        if name == 'BiLSTM-CRF':\n",
    "                            loss = model(batch_X, batch_y)\n",
    "                            with torch.no_grad():\n",
    "                                pred_tags = model(batch_X)\n",
    "                        else:\n",
    "                            loss = model(batch_X, None, batch_y)\n",
    "                            with torch.no_grad():\n",
    "                                logits = model(batch_X)\n",
    "                                pred_tags = torch.argmax(logits, dim=-1)\n",
    "                        \n",
    "                        # Backward pass\n",
    "                        loss.backward()\n",
    "                        \n",
    "                        # Gradient clipping\n",
    "                        torch.nn.utils.clip_grad_norm_(model.parameters(), \n",
    "                                                   max_norm=config['clip_grad_norm'])\n",
    "                        \n",
    "                        optimizers[name].step()\n",
    "                        \n",
    "                        # Calculate accuracy\n",
    "                        accuracy = compute_accuracy(pred_tags, batch_y, mask)\n",
    "                        \n",
    "                        total_loss += loss.item()\n",
    "                        total_acc += accuracy\n",
    "                        total_batches += 1\n",
    "                        \n",
    "                        # Update progress bar\n",
    "                        progress_bar.set_postfix({\n",
    "                            'loss': f'{total_loss/total_batches:.4f}',\n",
    "                            'acc': f'{total_acc/total_batches:.4f}'\n",
    "                        })\n",
    "                        \n",
    "                    except Exception as e:\n",
    "                        print(f\"\\nError in batch training for {name}: {str(e)}\")\n",
    "                        continue\n",
    "\n",
    "                if total_batches > 0:\n",
    "                    # Calculate average training metrics\n",
    "                    avg_train_loss = total_loss / total_batches\n",
    "                    avg_train_acc = total_acc / total_batches\n",
    "                    \n",
    "                    # Validation phase\n",
    "                    model.eval()\n",
    "                    val_loss = 0\n",
    "                    val_acc = 0\n",
    "                    val_batches = 0\n",
    "                    \n",
    "                    print(f\"\\nRunning validation for {name}...\")\n",
    "                    val_progress_bar = tqdm(test_loader, desc='Validation')\n",
    "                    \n",
    "                    with torch.no_grad():\n",
    "                        for batch_X, batch_y in val_progress_bar:\n",
    "                            try:\n",
    "                                batch_X = batch_X.to(device)\n",
    "                                batch_y = batch_y.to(device)\n",
    "                                \n",
    "                                # Get mask for padding\n",
    "                                mask = (batch_X != n_words - 1)\n",
    "                                \n",
    "                                # Match sequence lengths\n",
    "                                seq_len = min(batch_X.size(1), batch_y.size(1))\n",
    "                                batch_X = batch_X[:, :seq_len]\n",
    "                                batch_y = batch_y[:, :seq_len]\n",
    "                                mask = mask[:, :seq_len]\n",
    "                                \n",
    "                                if name == 'BiLSTM-CRF':\n",
    "                                    loss = model(batch_X, batch_y)\n",
    "                                    pred_tags = model(batch_X)\n",
    "                                else:\n",
    "                                    loss = model(batch_X, None, batch_y)\n",
    "                                    logits = model(batch_X)\n",
    "                                    pred_tags = torch.argmax(logits, dim=-1)\n",
    "                                \n",
    "                                accuracy = compute_accuracy(pred_tags, batch_y, mask)\n",
    "                                \n",
    "                                val_loss += loss.item()\n",
    "                                val_acc += accuracy\n",
    "                                val_batches += 1\n",
    "                                \n",
    "                                # Update progress bar\n",
    "                                val_progress_bar.set_postfix({\n",
    "                                    'loss': f'{val_loss/val_batches:.4f}',\n",
    "                                    'acc': f'{val_acc/val_batches:.4f}'\n",
    "                                })\n",
    "                                \n",
    "                            except Exception as e:\n",
    "                                print(f\"\\nError in validation batch for {name}: {str(e)}\")\n",
    "                                continue\n",
    "                    \n",
    "                    if val_batches > 0:\n",
    "                        avg_val_loss = val_loss / val_batches\n",
    "                        avg_val_acc = val_acc / val_batches\n",
    "                        \n",
    "                        # Save metrics\n",
    "                        histories[name]['train_loss'].append(avg_train_loss)\n",
    "                        histories[name]['val_loss'].append(avg_val_loss)\n",
    "                        histories[name]['train_acc'].append(avg_train_acc)\n",
    "                        histories[name]['val_acc'].append(avg_val_acc)\n",
    "                        \n",
    "                        # Update learning rate scheduler\n",
    "                        schedulers[name].step()\n",
    "                        \n",
    "                        print(f\"\\n{name} Results:\")\n",
    "                        print(f\"Training Loss: {avg_train_loss:.4f}\")\n",
    "                        print(f\"Validation Loss: {avg_val_loss:.4f}\")\n",
    "                        print(f\"Training Accuracy: {avg_train_acc:.4f}\")\n",
    "                        print(f\"Validation Accuracy: {avg_val_acc:.4f}\")\n",
    "                        print(f\"Learning Rate: {schedulers[name].get_last_lr()[0]:.6f}\")\n",
    "                        \n",
    "                        # Early stopping check\n",
    "                        if avg_val_loss < best_metrics[name]['loss']:\n",
    "                            best_metrics[name]['loss'] = avg_val_loss\n",
    "                            best_metrics[name]['acc'] = avg_val_acc\n",
    "                            best_metrics[name]['epoch'] = epoch\n",
    "                            patience_counters[name] = 0\n",
    "                            \n",
    "                            # Save best model\n",
    "                            torch.save({\n",
    "                                'epoch': epoch,\n",
    "                                'model_state_dict': model.state_dict(),\n",
    "                                'optimizer_state_dict': optimizers[name].state_dict(),\n",
    "                                'loss': avg_val_loss,\n",
    "                                'accuracy': avg_val_acc\n",
    "                            }, f'best_model_{name.lower()}.pth')\n",
    "                            print(f\"Saved new best model for {name}!\")\n",
    "                        else:\n",
    "                            patience_counters[name] += 1\n",
    "                            if patience_counters[name] >= config['patience']:\n",
    "                                print(f\"\\nEarly stopping triggered for {name}\")\n",
    "                                # Load best model\n",
    "                                model.load_state_dict(torch.load(\n",
    "                                    f'best_model_{name.lower()}.pth')['model_state_dict']\n",
    "                                )\n",
    "\n",
    "    except KeyboardInterrupt:\n",
    "        print(\"\\nTraining interrupted by user\")\n",
    "    \n",
    "    return histories, best_metrics\n",
    "\n",
    "def prepare_data_and_models(X_train, y_train, X_test, y_test, config):\n",
    "    \"\"\"\n",
    "    Prepare data loaders and initialize models with proper configuration\n",
    "    \"\"\"\n",
    "    # Convert lists to numpy arrays if needed\n",
    "    if isinstance(X_train, list):\n",
    "        X_train = np.array(X_train)\n",
    "    if isinstance(y_train, list):\n",
    "        y_train = np.array(y_train)\n",
    "    if isinstance(X_test, list):\n",
    "        X_test = np.array(X_test)\n",
    "    if isinstance(y_test, list):\n",
    "        y_test = np.array(y_test)\n",
    "    \n",
    "    # Print original shapes for debugging\n",
    "    print(\"Original data shapes:\")\n",
    "    print(f\"X_train: {X_train.shape}\")\n",
    "    print(f\"y_train: {y_train.shape}\")\n",
    "    print(f\"X_test: {X_test.shape}\")\n",
    "    print(f\"y_test: {y_test.shape}\")\n",
    "\n",
    "    # Convert data to tensors with proper shape\n",
    "    X_train_tensor = torch.LongTensor(X_train)\n",
    "    X_test_tensor = torch.LongTensor(X_test)\n",
    "    \n",
    "    # Handle y data properly - keep original dimensionality for CRF\n",
    "    if len(y_train.shape) == 3:  # if one-hot encoded\n",
    "        y_train_tensor = torch.FloatTensor(y_train)\n",
    "        y_test_tensor = torch.FloatTensor(y_test)\n",
    "    else:\n",
    "        y_train_tensor = torch.LongTensor(y_train)\n",
    "        y_test_tensor = torch.LongTensor(y_test)\n",
    "\n",
    "    # Print tensor shapes for verification\n",
    "    print(\"\\nTensor shapes:\")\n",
    "    print(f\"X_train_tensor: {X_train_tensor.shape}\")\n",
    "    print(f\"y_train_tensor: {y_train_tensor.shape}\")\n",
    "    print(f\"X_test_tensor: {X_test_tensor.shape}\")\n",
    "    print(f\"y_test_tensor: {y_test_tensor.shape}\")\n",
    "    \n",
    "    # Create data loaders\n",
    "    train_dataset = TensorDataset(X_train_tensor, y_train_tensor)\n",
    "    test_dataset = TensorDataset(X_test_tensor, y_test_tensor)\n",
    "    \n",
    "    train_loader = DataLoader(\n",
    "        train_dataset, \n",
    "        batch_size=config['batch_size'], \n",
    "        shuffle=True,\n",
    "        drop_last=True\n",
    "    )\n",
    "    \n",
    "    test_loader = DataLoader(\n",
    "        test_dataset, \n",
    "        batch_size=config['batch_size'],\n",
    "        drop_last=True\n",
    "    )\n",
    "\n",
    "    # Initialize models\n",
    "    device = torch.device('cuda' if torch.cuda.is_available() else 'cpu')\n",
    "    \n",
    "    models = {\n",
    "        'BiLSTM-CRF': ImprovedBiLSTM_CRF(\n",
    "            vocab_size=n_words,\n",
    "            tagset_size=n_tags,\n",
    "            embedding_dim=config['embedding_dim'],\n",
    "            hidden_dim=config['hidden_dim'],\n",
    "            dropout=config['dropout']\n",
    "        ),\n",
    "        'BiLSTM': BiLSTM(\n",
    "            vocab_size=n_words,\n",
    "            tagset_size=n_tags,\n",
    "            embedding_dim=config['embedding_dim'],\n",
    "            hidden_dim=config['hidden_dim'],\n",
    "            num_layers=config['num_layers'],\n",
    "            dropout=config['dropout']\n",
    "        ),\n",
    "        'ForwardLSTM': ForwardLSTM(\n",
    "            vocab_size=n_words,\n",
    "            tagset_size=n_tags,\n",
    "            embedding_dim=config['embedding_dim'],\n",
    "            hidden_dim=config['hidden_dim'],\n",
    "            num_layers=config['num_layers'],\n",
    "            dropout=config['dropout']\n",
    "        ),\n",
    "        'BackwardLSTM': BackwardLSTM(\n",
    "            vocab_size=n_words,\n",
    "            tagset_size=n_tags,\n",
    "            embedding_dim=config['embedding_dim'],\n",
    "            hidden_dim=config['hidden_dim'],\n",
    "            num_layers=config['num_layers'],\n",
    "            dropout=config['dropout']\n",
    "        )\n",
    "    }\n",
    "\n",
    "    # Move models to device\n",
    "    models = {name: model.to(device) for name, model in models.items()}\n",
    "\n",
    "    return train_loader, test_loader, models, device\n",
    "\n",
    "\n",
    "config = {\n",
    "    'embedding_dim': 200,\n",
    "    'hidden_dim': 256,\n",
    "    'num_layers': 2,\n",
    "    'dropout': 0.3,\n",
    "    'batch_size': 16,\n",
    "    'num_epochs': 20,\n",
    "    'learning_rate': 0.001,\n",
    "    'weight_decay': 0.01,\n",
    "    'scheduler_step': 3,\n",
    "    'scheduler_gamma': 0.8,\n",
    "    'patience': 5,\n",
    "    'clip_grad_norm': 1.0,\n",
    "    'max_seq_len': 49\n",
    "}\n",
    "\n",
    "def run_training():\n",
    "    # Get device\n",
    "    device = torch.device('cuda' if torch.cuda.is_available() else 'cpu')\n",
    "    \n",
    "    # Prepare data and models\n",
    "    train_loader, test_loader, models, device = prepare_data_and_models(\n",
    "        X_train, y_train, X_test, y_test, config\n",
    "    )\n",
    "\n",
    "    print(f\"Using device: {device}\")\n",
    "    print(\"\\nModel Architectures:\")\n",
    "    for name, model in models.items():\n",
    "        print(f\"\\n{name}:\")\n",
    "        print(\"=\" * 50)\n",
    "        print(model)\n",
    "        print(f\"Number of parameters: {sum(p.numel() for p in model.parameters())}\")\n",
    "        \n",
    "        # Initialize model weights if not CRF\n",
    "        if name != 'BiLSTM-CRF':\n",
    "            for p in model.parameters():\n",
    "                if p.dim() > 1:\n",
    "                    nn.init.xavier_uniform_(p)\n",
    "\n",
    "    # Train models\n",
    "    print(\"\\nStarting training...\")\n",
    "    histories, best_metrics = train_and_evaluate_models(\n",
    "        models, train_loader, test_loader, n_words, config, device \n",
    "    )\n",
    "\n",
    "    # Plot and save results\n",
    "    plot_training_history(histories)\n",
    "    save_results(histories, best_metrics)\n",
    "\n",
    "    return histories, best_metrics\n",
    "\n",
    "def save_results(histories, best_metrics):\n",
    "    \"\"\"\n",
    "    Save training results and metrics\n",
    "    \"\"\"\n",
    "    try:\n",
    "        # Save histories to file\n",
    "        for name, history in histories.items():\n",
    "            with open(f'history_{name.lower()}.txt', 'w') as f:\n",
    "                for key, values in history.items():\n",
    "                    f.write(f\"{key}:\\n\")\n",
    "                    for v in values:\n",
    "                        f.write(f\"{v:.6f}\\n\")\n",
    "                    f.write(\"\\n\")\n",
    "\n",
    "        # Save best metrics to file\n",
    "        with open('best_metrics.txt', 'w') as f:\n",
    "            f.write(\"Final Results:\\n\")\n",
    "            f.write(\"=\" * 50 + \"\\n\")\n",
    "            for name, metrics in best_metrics.items():\n",
    "                f.write(f\"\\n{name}:\\n\")\n",
    "                f.write(f\"Best Validation Loss: {metrics['loss']:.4f}\\n\")\n",
    "                f.write(f\"Best Validation Accuracy: {metrics['acc']:.4f}\\n\")\n",
    "                f.write(f\"Best Epoch: {metrics['epoch'] + 1}\\n\")\n",
    "    except Exception as e:\n",
    "        print(f\"Error saving results: {str(e)}\")\n",
    "        import traceback\n",
    "        traceback.print_exc()\n",
    "        \n",
    "def preprocess_data(X, y):\n",
    "    \"\"\"\n",
    "    Preprocess data to ensure correct format and shape\n",
    "    \"\"\"\n",
    "    # Convert to numpy arrays\n",
    "    X = np.array(X)\n",
    "    y = np.array(y)\n",
    "    \n",
    "    # Check if y needs to be one-hot encoded\n",
    "    if len(y.shape) == 2:  # If not already one-hot encoded\n",
    "        y_one_hot = np.zeros((y.shape[0], y.shape[1], n_tags))\n",
    "        for i in range(y.shape[0]):\n",
    "            for j in range(y.shape[1]):\n",
    "                if y[i,j] < n_tags:\n",
    "                    y_one_hot[i,j,y[i,j]] = 1\n",
    "        y = y_one_hot\n",
    "    \n",
    "    return X, y\n",
    "\n",
    "# Preprocess the data\n",
    "X_train, y_train = preprocess_data(X_train, y_train)\n",
    "X_test, y_test = preprocess_data(X_test, y_test)\n",
    "\n",
    "print(\"After preprocessing:\")\n",
    "print(f\"X_train shape: {X_train.shape}\")\n",
    "print(f\"y_train shape: {y_train.shape}\")\n",
    "print(f\"X_test shape: {X_test.shape}\")\n",
    "print(f\"y_test shape: {y_test.shape}\")\n",
    "\n",
    "histories, best_metrics = run_training()"
   ]
  },
  {
   "cell_type": "code",
   "execution_count": 313,
   "metadata": {},
   "outputs": [
    {
     "name": "stderr",
     "output_type": "stream",
     "text": [
      "C:\\Users\\megar\\AppData\\Local\\Temp\\ipykernel_17152\\1016159098.py:272: FutureWarning: You are using `torch.load` with `weights_only=False` (the current default value), which uses the default pickle module implicitly. It is possible to construct malicious pickle data which will execute arbitrary code during unpickling (See https://github.com/pytorch/pytorch/blob/main/SECURITY.md#untrusted-models for more details). In a future release, the default value for `weights_only` will be flipped to `True`. This limits the functions that could be executed during unpickling. Arbitrary objects will no longer be allowed to be loaded via this mode unless they are explicitly allowlisted by the user via `torch.serialization.add_safe_globals`. We recommend you start setting `weights_only=True` for any use case where you don't have full control of the loaded file. Please open an issue on GitHub for any issues related to this experimental feature.\n",
      "  checkpoint = torch.load(checkpoint_path, map_location=device)\n"
     ]
    },
    {
     "name": "stdout",
     "output_type": "stream",
     "text": [
      "Starting complete evaluation...\n",
      "\n",
      "Validating input data...\n",
      "X shape: (39, 42)\n",
      "y shape: (39, 49, 13)\n",
      "Input tensor shape: torch.Size([39, 42])\n",
      "Target tensor shape: torch.Size([39, 49])\n",
      "Created DataLoader with 5 batches\n",
      "Using device: cpu\n",
      "\n",
      "Evaluating BiLSTM-CRF...\n"
     ]
    },
    {
     "name": "stderr",
     "output_type": "stream",
     "text": [
      "Testing BiLSTM-CRF: 100%|██████████| 5/5 [00:00<00:00, 40.24it/s]\n",
      "C:\\Users\\megar\\AppData\\Local\\Temp\\ipykernel_17152\\1016159098.py:272: FutureWarning: You are using `torch.load` with `weights_only=False` (the current default value), which uses the default pickle module implicitly. It is possible to construct malicious pickle data which will execute arbitrary code during unpickling (See https://github.com/pytorch/pytorch/blob/main/SECURITY.md#untrusted-models for more details). In a future release, the default value for `weights_only` will be flipped to `True`. This limits the functions that could be executed during unpickling. Arbitrary objects will no longer be allowed to be loaded via this mode unless they are explicitly allowlisted by the user via `torch.serialization.add_safe_globals`. We recommend you start setting `weights_only=True` for any use case where you don't have full control of the loaded file. Please open an issue on GitHub for any issues related to this experimental feature.\n",
      "  checkpoint = torch.load(checkpoint_path, map_location=device)\n"
     ]
    },
    {
     "name": "stdout",
     "output_type": "stream",
     "text": [
      "\n",
      "Results for BiLSTM-CRF:\n",
      "Classification Report:\n",
      "                  precision    recall  f1-score   support\n",
      "\n",
      "         B-Brand       0.79      0.85      0.81        39\n",
      "    B-OnlineShop       1.00      0.97      0.99        40\n",
      "         B-Price       0.90      0.93      0.91        40\n",
      "       B-Product       0.80      0.81      0.80        58\n",
      "         B-Promo       0.93      0.82      0.87        33\n",
      "B-Specifications       0.57      0.51      0.54        39\n",
      "      B-Warranty       1.00      1.00      1.00         5\n",
      "         I-Brand       1.00      0.50      0.67         4\n",
      "       I-Product       0.78      0.67      0.72        21\n",
      "         I-Promo       0.93      0.85      0.89        33\n",
      "I-Specifications       0.73      0.34      0.47        32\n",
      "      I-Warranty       1.00      1.00      1.00        10\n",
      "               O       0.91      0.96      0.93       582\n",
      "\n",
      "        accuracy                           0.89       936\n",
      "       macro avg       0.87      0.78      0.82       936\n",
      "    weighted avg       0.88      0.89      0.88       936\n",
      "\n",
      "\n",
      "Evaluating BiLSTM...\n"
     ]
    },
    {
     "name": "stderr",
     "output_type": "stream",
     "text": [
      "Testing BiLSTM: 100%|██████████| 5/5 [00:00<00:00, 64.46it/s]\n",
      "c:\\Users\\megar\\AppData\\Local\\Programs\\Python\\Python310\\lib\\site-packages\\sklearn\\metrics\\_classification.py:1509: UndefinedMetricWarning: Precision is ill-defined and being set to 0.0 in labels with no predicted samples. Use `zero_division` parameter to control this behavior.\n",
      "  _warn_prf(average, modifier, f\"{metric.capitalize()} is\", len(result))\n",
      "c:\\Users\\megar\\AppData\\Local\\Programs\\Python\\Python310\\lib\\site-packages\\sklearn\\metrics\\_classification.py:1509: UndefinedMetricWarning: Precision is ill-defined and being set to 0.0 in labels with no predicted samples. Use `zero_division` parameter to control this behavior.\n",
      "  _warn_prf(average, modifier, f\"{metric.capitalize()} is\", len(result))\n"
     ]
    },
    {
     "name": "stdout",
     "output_type": "stream",
     "text": [
      "\n",
      "Results for BiLSTM:\n",
      "Classification Report:\n",
      "                  precision    recall  f1-score   support\n",
      "\n",
      "         B-Brand       0.00      0.00      0.00        39\n",
      "    B-OnlineShop       1.00      0.97      0.99        40\n",
      "         B-Price       0.95      0.93      0.94        40\n",
      "       B-Product       0.84      0.79      0.81        58\n",
      "         B-Promo       0.94      0.88      0.91        33\n",
      "B-Specifications       0.76      0.56      0.65        39\n",
      "      B-Warranty       1.00      1.00      1.00         5\n",
      "         I-Brand       1.00      0.50      0.67         4\n",
      "       I-Product       0.71      0.71      0.71        21\n",
      "         I-Promo       0.97      0.85      0.90        33\n",
      "I-Specifications       0.86      0.56      0.68        32\n",
      "      I-Warranty       1.00      1.00      1.00        10\n",
      "               O       0.88      0.99      0.93       582\n",
      "\n",
      "        accuracy                           0.88       936\n",
      "       macro avg       0.84      0.75      0.78       936\n",
      "    weighted avg       0.84      0.88      0.86       936\n",
      "\n",
      "\n",
      "Evaluating ForwardLSTM...\n"
     ]
    },
    {
     "name": "stderr",
     "output_type": "stream",
     "text": [
      "c:\\Users\\megar\\AppData\\Local\\Programs\\Python\\Python310\\lib\\site-packages\\sklearn\\metrics\\_classification.py:1509: UndefinedMetricWarning: Precision is ill-defined and being set to 0.0 in labels with no predicted samples. Use `zero_division` parameter to control this behavior.\n",
      "  _warn_prf(average, modifier, f\"{metric.capitalize()} is\", len(result))\n",
      "c:\\Users\\megar\\AppData\\Local\\Programs\\Python\\Python310\\lib\\site-packages\\torch\\nn\\modules\\rnn.py:88: UserWarning: dropout option adds dropout after all but last recurrent layer, so non-zero dropout expects num_layers greater than 1, but got dropout=0.5 and num_layers=1\n",
      "  warnings.warn(\"dropout option adds dropout after all but last \"\n",
      "C:\\Users\\megar\\AppData\\Local\\Temp\\ipykernel_17152\\1016159098.py:272: FutureWarning: You are using `torch.load` with `weights_only=False` (the current default value), which uses the default pickle module implicitly. It is possible to construct malicious pickle data which will execute arbitrary code during unpickling (See https://github.com/pytorch/pytorch/blob/main/SECURITY.md#untrusted-models for more details). In a future release, the default value for `weights_only` will be flipped to `True`. This limits the functions that could be executed during unpickling. Arbitrary objects will no longer be allowed to be loaded via this mode unless they are explicitly allowlisted by the user via `torch.serialization.add_safe_globals`. We recommend you start setting `weights_only=True` for any use case where you don't have full control of the loaded file. Please open an issue on GitHub for any issues related to this experimental feature.\n",
      "  checkpoint = torch.load(checkpoint_path, map_location=device)\n",
      "Testing ForwardLSTM: 100%|██████████| 5/5 [00:00<00:00, 110.46it/s]\n",
      "c:\\Users\\megar\\AppData\\Local\\Programs\\Python\\Python310\\lib\\site-packages\\sklearn\\metrics\\_classification.py:1509: UndefinedMetricWarning: Precision is ill-defined and being set to 0.0 in labels with no predicted samples. Use `zero_division` parameter to control this behavior.\n",
      "  _warn_prf(average, modifier, f\"{metric.capitalize()} is\", len(result))\n",
      "c:\\Users\\megar\\AppData\\Local\\Programs\\Python\\Python310\\lib\\site-packages\\sklearn\\metrics\\_classification.py:1509: UndefinedMetricWarning: Precision is ill-defined and being set to 0.0 in labels with no predicted samples. Use `zero_division` parameter to control this behavior.\n",
      "  _warn_prf(average, modifier, f\"{metric.capitalize()} is\", len(result))\n",
      "c:\\Users\\megar\\AppData\\Local\\Programs\\Python\\Python310\\lib\\site-packages\\sklearn\\metrics\\_classification.py:1509: UndefinedMetricWarning: Precision is ill-defined and being set to 0.0 in labels with no predicted samples. Use `zero_division` parameter to control this behavior.\n",
      "  _warn_prf(average, modifier, f\"{metric.capitalize()} is\", len(result))\n",
      "c:\\Users\\megar\\AppData\\Local\\Programs\\Python\\Python310\\lib\\site-packages\\torch\\nn\\modules\\rnn.py:88: UserWarning: dropout option adds dropout after all but last recurrent layer, so non-zero dropout expects num_layers greater than 1, but got dropout=0.5 and num_layers=1\n",
      "  warnings.warn(\"dropout option adds dropout after all but last \"\n",
      "C:\\Users\\megar\\AppData\\Local\\Temp\\ipykernel_17152\\1016159098.py:272: FutureWarning: You are using `torch.load` with `weights_only=False` (the current default value), which uses the default pickle module implicitly. It is possible to construct malicious pickle data which will execute arbitrary code during unpickling (See https://github.com/pytorch/pytorch/blob/main/SECURITY.md#untrusted-models for more details). In a future release, the default value for `weights_only` will be flipped to `True`. This limits the functions that could be executed during unpickling. Arbitrary objects will no longer be allowed to be loaded via this mode unless they are explicitly allowlisted by the user via `torch.serialization.add_safe_globals`. We recommend you start setting `weights_only=True` for any use case where you don't have full control of the loaded file. Please open an issue on GitHub for any issues related to this experimental feature.\n",
      "  checkpoint = torch.load(checkpoint_path, map_location=device)\n"
     ]
    },
    {
     "name": "stdout",
     "output_type": "stream",
     "text": [
      "\n",
      "Results for ForwardLSTM:\n",
      "Classification Report:\n",
      "                  precision    recall  f1-score   support\n",
      "\n",
      "         B-Brand       0.00      0.00      0.00        39\n",
      "    B-OnlineShop       1.00      1.00      1.00        40\n",
      "         B-Price       1.00      0.90      0.95        40\n",
      "       B-Product       0.84      0.79      0.81        58\n",
      "         B-Promo       0.94      0.88      0.91        33\n",
      "B-Specifications       0.72      0.54      0.62        39\n",
      "      B-Warranty       1.00      1.00      1.00         5\n",
      "         I-Brand       0.40      0.50      0.44         4\n",
      "       I-Product       0.69      0.86      0.77        21\n",
      "         I-Promo       0.90      0.85      0.88        33\n",
      "I-Specifications       0.68      0.53      0.60        32\n",
      "      I-Warranty       1.00      1.00      1.00        10\n",
      "               O       0.88      0.97      0.92       582\n",
      "\n",
      "        accuracy                           0.87       936\n",
      "       macro avg       0.77      0.76      0.76       936\n",
      "    weighted avg       0.84      0.87      0.85       936\n",
      "\n",
      "\n",
      "Evaluating BackwardLSTM...\n"
     ]
    },
    {
     "name": "stderr",
     "output_type": "stream",
     "text": [
      "Testing BackwardLSTM: 100%|██████████| 5/5 [00:00<00:00, 92.62it/s]\n",
      "c:\\Users\\megar\\AppData\\Local\\Programs\\Python\\Python310\\lib\\site-packages\\sklearn\\metrics\\_classification.py:1509: UndefinedMetricWarning: Precision is ill-defined and being set to 0.0 in labels with no predicted samples. Use `zero_division` parameter to control this behavior.\n",
      "  _warn_prf(average, modifier, f\"{metric.capitalize()} is\", len(result))\n",
      "c:\\Users\\megar\\AppData\\Local\\Programs\\Python\\Python310\\lib\\site-packages\\sklearn\\metrics\\_classification.py:1509: UndefinedMetricWarning: Precision is ill-defined and being set to 0.0 in labels with no predicted samples. Use `zero_division` parameter to control this behavior.\n",
      "  _warn_prf(average, modifier, f\"{metric.capitalize()} is\", len(result))\n",
      "c:\\Users\\megar\\AppData\\Local\\Programs\\Python\\Python310\\lib\\site-packages\\sklearn\\metrics\\_classification.py:1509: UndefinedMetricWarning: Precision is ill-defined and being set to 0.0 in labels with no predicted samples. Use `zero_division` parameter to control this behavior.\n",
      "  _warn_prf(average, modifier, f\"{metric.capitalize()} is\", len(result))\n"
     ]
    },
    {
     "name": "stdout",
     "output_type": "stream",
     "text": [
      "\n",
      "Results for BackwardLSTM:\n",
      "Classification Report:\n",
      "                  precision    recall  f1-score   support\n",
      "\n",
      "         B-Brand       0.00      0.00      0.00        39\n",
      "    B-OnlineShop       1.00      1.00      1.00        40\n",
      "         B-Price       0.97      0.85      0.91        40\n",
      "       B-Product       0.87      0.81      0.84        58\n",
      "         B-Promo       0.85      0.88      0.87        33\n",
      "B-Specifications       0.60      0.62      0.61        39\n",
      "      B-Warranty       1.00      1.00      1.00         5\n",
      "         I-Brand       1.00      0.50      0.67         4\n",
      "       I-Product       0.70      0.76      0.73        21\n",
      "         I-Promo       0.96      0.82      0.89        33\n",
      "I-Specifications       0.74      0.44      0.55        32\n",
      "      I-Warranty       1.00      1.00      1.00        10\n",
      "               O       0.88      0.97      0.92       582\n",
      "\n",
      "        accuracy                           0.87       936\n",
      "       macro avg       0.81      0.74      0.77       936\n",
      "    weighted avg       0.83      0.87      0.85       936\n",
      "\n"
     ]
    },
    {
     "data": {
      "text/plain": [
       "<Figure size 1500x1000 with 0 Axes>"
      ]
     },
     "metadata": {},
     "output_type": "display_data"
    },
    {
     "data": {
      "image/png": "[encoded data removed]",
      "text/plain": [
       "<Figure size 1200x600 with 1 Axes>"
      ]
     },
     "metadata": {},
     "output_type": "display_data"
    },
    {
     "name": "stdout",
     "output_type": "stream",
     "text": [
      "\n",
      "Detailed Model Comparison:\n",
      "================================================================================\n",
      "              Precision  Recall  F1-Score  Accuracy\n",
      "BiLSTM-CRF       0.8693  0.7705    0.8060    0.8868\n",
      "BiLSTM           0.8347  0.7301    0.7712    0.8814\n",
      "ForwardLSTM      0.7643  0.7373    0.7473    0.8739\n",
      "BackwardLSTM     0.8076  0.7227    0.7540    0.8707\n",
      "\n",
      "Per-Class Performance:\n",
      "================================================================================\n",
      "\n",
      "BiLSTM-CRF:\n",
      "----------------------------------------\n",
      "                  precision    recall  f1-score   support\n",
      "\n",
      "         B-Brand       0.79      0.85      0.81        39\n",
      "    B-OnlineShop       1.00      0.97      0.99        40\n",
      "         B-Price       0.90      0.93      0.91        40\n",
      "       B-Product       0.80      0.81      0.80        58\n",
      "         B-Promo       0.93      0.82      0.87        33\n",
      "B-Specifications       0.57      0.51      0.54        39\n",
      "      B-Warranty       1.00      1.00      1.00         5\n",
      "         I-Brand       1.00      0.50      0.67         4\n",
      "       I-Product       0.78      0.67      0.72        21\n",
      "         I-Promo       0.93      0.85      0.89        33\n",
      "I-Specifications       0.73      0.34      0.47        32\n",
      "      I-Warranty       1.00      1.00      1.00        10\n",
      "               O       0.91      0.96      0.93       582\n",
      "\n",
      "        accuracy                           0.89       936\n",
      "       macro avg       0.87      0.78      0.82       936\n",
      "    weighted avg       0.88      0.89      0.88       936\n",
      "\n"
     ]
    },
    {
     "data": {
      "image/png": "[encoded data removed]",
      "text/plain": [
       "<Figure size 1000x800 with 2 Axes>"
      ]
     },
     "metadata": {},
     "output_type": "display_data"
    },
    {
     "name": "stdout",
     "output_type": "stream",
     "text": [
      "\n",
      "BiLSTM:\n",
      "----------------------------------------\n",
      "                  precision    recall  f1-score   support\n",
      "\n",
      "         B-Brand       0.00      0.00      0.00        39\n",
      "    B-OnlineShop       1.00      0.97      0.99        40\n",
      "         B-Price       0.95      0.93      0.94        40\n",
      "       B-Product       0.84      0.79      0.81        58\n",
      "         B-Promo       0.94      0.88      0.91        33\n",
      "B-Specifications       0.76      0.56      0.65        39\n",
      "      B-Warranty       1.00      1.00      1.00         5\n",
      "         I-Brand       1.00      0.50      0.67         4\n",
      "       I-Product       0.71      0.71      0.71        21\n",
      "         I-Promo       0.97      0.85      0.90        33\n",
      "I-Specifications       0.86      0.56      0.68        32\n",
      "      I-Warranty       1.00      1.00      1.00        10\n",
      "               O       0.88      0.99      0.93       582\n",
      "\n",
      "        accuracy                           0.88       936\n",
      "       macro avg       0.84      0.75      0.78       936\n",
      "    weighted avg       0.84      0.88      0.86       936\n",
      "\n"
     ]
    },
    {
     "data": {
      "image/png": "[encoded data removed]",
      "text/plain": [
       "<Figure size 1000x800 with 2 Axes>"
      ]
     },
     "metadata": {},
     "output_type": "display_data"
    },
    {
     "name": "stdout",
     "output_type": "stream",
     "text": [
      "\n",
      "ForwardLSTM:\n",
      "----------------------------------------\n",
      "                  precision    recall  f1-score   support\n",
      "\n",
      "         B-Brand       0.00      0.00      0.00        39\n",
      "    B-OnlineShop       1.00      1.00      1.00        40\n",
      "         B-Price       1.00      0.90      0.95        40\n",
      "       B-Product       0.84      0.79      0.81        58\n",
      "         B-Promo       0.94      0.88      0.91        33\n",
      "B-Specifications       0.72      0.54      0.62        39\n",
      "      B-Warranty       1.00      1.00      1.00         5\n",
      "         I-Brand       0.40      0.50      0.44         4\n",
      "       I-Product       0.69      0.86      0.77        21\n",
      "         I-Promo       0.90      0.85      0.88        33\n",
      "I-Specifications       0.68      0.53      0.60        32\n",
      "      I-Warranty       1.00      1.00      1.00        10\n",
      "               O       0.88      0.97      0.92       582\n",
      "\n",
      "        accuracy                           0.87       936\n",
      "       macro avg       0.77      0.76      0.76       936\n",
      "    weighted avg       0.84      0.87      0.85       936\n",
      "\n"
     ]
    },
    {
     "data": {
      "image/png": "[encoded data removed]",
      "text/plain": [
       "<Figure size 1000x800 with 2 Axes>"
      ]
     },
     "metadata": {},
     "output_type": "display_data"
    },
    {
     "name": "stdout",
     "output_type": "stream",
     "text": [
      "\n",
      "BackwardLSTM:\n",
      "----------------------------------------\n",
      "                  precision    recall  f1-score   support\n",
      "\n",
      "         B-Brand       0.00      0.00      0.00        39\n",
      "    B-OnlineShop       1.00      1.00      1.00        40\n",
      "         B-Price       0.97      0.85      0.91        40\n",
      "       B-Product       0.87      0.81      0.84        58\n",
      "         B-Promo       0.85      0.88      0.87        33\n",
      "B-Specifications       0.60      0.62      0.61        39\n",
      "      B-Warranty       1.00      1.00      1.00         5\n",
      "         I-Brand       1.00      0.50      0.67         4\n",
      "       I-Product       0.70      0.76      0.73        21\n",
      "         I-Promo       0.96      0.82      0.89        33\n",
      "I-Specifications       0.74      0.44      0.55        32\n",
      "      I-Warranty       1.00      1.00      1.00        10\n",
      "               O       0.88      0.97      0.92       582\n",
      "\n",
      "        accuracy                           0.87       936\n",
      "       macro avg       0.81      0.74      0.77       936\n",
      "    weighted avg       0.83      0.87      0.85       936\n",
      "\n"
     ]
    },
    {
     "data": {
      "image/png": "[encoded data removed]",
      "text/plain": [
       "<Figure size 1000x800 with 2 Axes>"
      ]
     },
     "metadata": {},
     "output_type": "display_data"
    }
   ],
   "source": [
    "import os\n",
    "import numpy as np\n",
    "import torch\n",
    "import torch.nn as nn\n",
    "from torch.utils.data import TensorDataset, DataLoader\n",
    "from tqdm import tqdm\n",
    "from sklearn.metrics import (\n",
    "    precision_recall_fscore_support, \n",
    "    classification_report,\n",
    "    confusion_matrix\n",
    ")\n",
    "import pandas as pd\n",
    "import matplotlib.pyplot as plt\n",
    "import seaborn as sns\n",
    "import traceback\n",
    "\n",
    "def validate_data(X_test, y_test):\n",
    "    \"\"\"\n",
    "    Validate input data before evaluation\n",
    "    \"\"\"\n",
    "    print(\"\\nValidating input data...\")\n",
    "    \n",
    "    # Check if data exists\n",
    "    if X_test is None or y_test is None:\n",
    "        raise ValueError(\"Input data cannot be None\")\n",
    "        \n",
    "    # Convert lists to numpy arrays if needed\n",
    "    X = np.array(X_test) if isinstance(X_test, list) else X_test\n",
    "    y = np.array(y_test) if isinstance(y_test, list) else y_test\n",
    "    \n",
    "    print(f\"X shape: {X.shape}\")\n",
    "    print(f\"y shape: {y.shape}\")\n",
    "    \n",
    "    return X, y\n",
    "\n",
    "def prepare_evaluation_data(X_test, y_test, batch_size=8):\n",
    "    \"\"\"\n",
    "    Prepare data loader for evaluation\n",
    "    \"\"\"\n",
    "    try:\n",
    "        # Validate input data\n",
    "        X, y = validate_data(X_test, y_test)\n",
    "        \n",
    "        # Convert to tensors\n",
    "        X_tensor = torch.LongTensor(X)\n",
    "        \n",
    "        # Handle one-hot encoded targets\n",
    "        if len(y.shape) == 3:\n",
    "            y_tensor = torch.LongTensor(np.argmax(y, axis=2))\n",
    "        else:\n",
    "            y_tensor = torch.LongTensor(y)\n",
    "            \n",
    "        print(f\"Input tensor shape: {X_tensor.shape}\")\n",
    "        print(f\"Target tensor shape: {y_tensor.shape}\")\n",
    "        \n",
    "        # Create dataset and loader\n",
    "        dataset = TensorDataset(X_tensor, y_tensor)\n",
    "        loader = DataLoader(\n",
    "            dataset,\n",
    "            batch_size=batch_size,\n",
    "            shuffle=False,\n",
    "            drop_last=False\n",
    "        )\n",
    "        \n",
    "        print(f\"Created DataLoader with {len(loader)} batches\")\n",
    "        return loader\n",
    "        \n",
    "    except Exception as e:\n",
    "        print(f\"Error preparing data: {str(e)}\")\n",
    "        traceback.print_exc()\n",
    "        return None\n",
    "\n",
    "def plot_model_comparisons(results):\n",
    "    \"\"\"\n",
    "    Plot comparison of metrics across models\n",
    "    \"\"\"\n",
    "    # Extract metrics for each model\n",
    "    model_metrics = {\n",
    "        name: {\n",
    "            'Precision': metrics['macro_metrics']['precision'],\n",
    "            'Recall': metrics['macro_metrics']['recall'],\n",
    "            'F1-Score': metrics['macro_metrics']['f1'],\n",
    "            'Accuracy': metrics['accuracy']\n",
    "        }\n",
    "        for name, metrics in results.items()\n",
    "    }\n",
    "    \n",
    "    # Convert to DataFrame for easier plotting\n",
    "    metrics_df = pd.DataFrame.from_dict(model_metrics, orient='index')\n",
    "    \n",
    "    # Create comparison plots\n",
    "    plt.figure(figsize=(15, 10))\n",
    "    \n",
    "    # Bar plot\n",
    "    ax = metrics_df.plot(kind='bar', width=0.8, figsize=(12, 6))\n",
    "    plt.title('Model Performance Comparison')\n",
    "    plt.xlabel('Models')\n",
    "    plt.ylabel('Score')\n",
    "    plt.legend(bbox_to_anchor=(1.05, 1), loc='upper left')\n",
    "    plt.grid(True, alpha=0.3)\n",
    "    \n",
    "    # Add value labels on bars\n",
    "    for container in ax.containers:\n",
    "        ax.bar_label(container, fmt='%.3f', padding=3)\n",
    "    \n",
    "    plt.tight_layout()\n",
    "    plt.savefig('model_comparison.png')\n",
    "    plt.show()\n",
    "    \n",
    "    # Print detailed metrics table\n",
    "    print(\"\\nDetailed Model Comparison:\")\n",
    "    print(\"=\" * 80)\n",
    "    comparison_table = metrics_df.round(4)\n",
    "    print(comparison_table.to_string())\n",
    "    \n",
    "    # Print per-class metrics for each model\n",
    "    print(\"\\nPer-Class Performance:\")\n",
    "    print(\"=\" * 80)\n",
    "    for name, metrics in results.items():\n",
    "        print(f\"\\n{name}:\")\n",
    "        print(\"-\" * 40)\n",
    "        print(metrics['classification_report'])\n",
    "        \n",
    "        # Plot confusion matrix\n",
    "        plt.figure(figsize=(10, 8))\n",
    "        sns.heatmap(metrics['confusion_matrix'], \n",
    "                   annot=True, \n",
    "                   fmt='d',\n",
    "                   cmap='Blues',\n",
    "                   xticklabels=metrics['confusion_matrix'].columns,\n",
    "                   yticklabels=metrics['confusion_matrix'].index)\n",
    "        plt.title(f'Confusion Matrix - {name}')\n",
    "        plt.xlabel('Predicted')\n",
    "        plt.ylabel('True')\n",
    "        plt.tight_layout()\n",
    "        plt.savefig(f'confusion_matrix_{name.lower()}.png')\n",
    "        plt.show()\n",
    "\n",
    "def calculate_metrics(true_tags, pred_tags):\n",
    "    \"\"\"\n",
    "    Calculate detailed metrics for NER evaluation\n",
    "    \"\"\"\n",
    "    # Get unique labels (excluding 'O')\n",
    "    labels = sorted(list(set(true_tags) - {'O'}))\n",
    "    \n",
    "    # Calculate metrics\n",
    "    precision, recall, f1, support = precision_recall_fscore_support(\n",
    "        true_tags, \n",
    "        pred_tags,\n",
    "        labels=labels,\n",
    "        zero_division=0\n",
    "    )\n",
    "    \n",
    "    # Calculate macro averages\n",
    "    macro_precision, macro_recall, macro_f1, _ = precision_recall_fscore_support(\n",
    "        true_tags, \n",
    "        pred_tags,\n",
    "        average='macro',\n",
    "        labels=labels,\n",
    "        zero_division=0\n",
    "    )\n",
    "    \n",
    "    # Calculate accuracy\n",
    "    accuracy = np.mean([p == t for p, t in zip(pred_tags, true_tags)])\n",
    "    \n",
    "    # Get classification report\n",
    "    report = classification_report(true_tags, pred_tags)\n",
    "    \n",
    "    # Create confusion matrix\n",
    "    all_labels = sorted(list(set(true_tags)))\n",
    "    conf_matrix = confusion_matrix(true_tags, pred_tags, labels=all_labels)\n",
    "    \n",
    "    # Convert to DataFrame\n",
    "    conf_df = pd.DataFrame(\n",
    "        conf_matrix,\n",
    "        index=all_labels,\n",
    "        columns=all_labels\n",
    "    )\n",
    "    \n",
    "    # Create metrics DataFrame\n",
    "    metrics_df = pd.DataFrame({\n",
    "        'Label': labels,\n",
    "        'Precision': precision,\n",
    "        'Recall': recall,\n",
    "        'F1-Score': f1,\n",
    "        'Support': support\n",
    "    })\n",
    "    \n",
    "    return {\n",
    "        'metrics_df': metrics_df,\n",
    "        'confusion_matrix': conf_df,\n",
    "        'classification_report': report,\n",
    "        'accuracy': accuracy,\n",
    "        'macro_metrics': {\n",
    "            'precision': macro_precision,\n",
    "            'recall': macro_recall,\n",
    "            'f1': macro_f1\n",
    "        }\n",
    "    }\n",
    "\n",
    "def evaluate_models(test_loader, idx2tag, device='cpu'):\n",
    "    \"\"\"\n",
    "    Evaluate all models with proper error handling and metrics calculation\n",
    "    \"\"\"\n",
    "    model_configs = {\n",
    "        'BiLSTM-CRF': {\n",
    "            'path': 'best_model_bilstm-crf.pth',\n",
    "            'class': ImprovedBiLSTM_CRF,\n",
    "            'params': {\n",
    "                'vocab_size': n_words,\n",
    "                'tagset_size': n_tags,\n",
    "                'embedding_dim': 200,\n",
    "                'hidden_dim': 256,\n",
    "                'num_layers': 2,\n",
    "                'dropout': 0.5\n",
    "            }\n",
    "        },\n",
    "        'BiLSTM': {\n",
    "            'path': 'best_model_bilstm.pth',\n",
    "            'class': BiLSTM,\n",
    "            'params': {\n",
    "                'vocab_size': n_words,\n",
    "                'tagset_size': n_tags,\n",
    "                'embedding_dim': 200,\n",
    "                'hidden_dim': 256,\n",
    "                'num_layers': 2,\n",
    "                'dropout': 0.5\n",
    "            }\n",
    "        },\n",
    "        'ForwardLSTM': {\n",
    "            'path': 'best_model_forwardlstm.pth',\n",
    "            'class': ForwardLSTM,\n",
    "            'params': {\n",
    "                'vocab_size': n_words,\n",
    "                'tagset_size': n_tags,\n",
    "                'embedding_dim': 200,\n",
    "                'hidden_dim': 256,\n",
    "                'num_layers': 2,\n",
    "                'dropout': 0.5\n",
    "            }\n",
    "        },\n",
    "        'BackwardLSTM': {\n",
    "            'path': 'best_model_backwardlstm.pth',\n",
    "            'class': BackwardLSTM,\n",
    "            'params': {\n",
    "                'vocab_size': n_words,\n",
    "                'tagset_size': n_tags,\n",
    "                'embedding_dim': 200,\n",
    "                'hidden_dim': 256,\n",
    "                'num_layers': 2,\n",
    "                'dropout': 0.5\n",
    "            }\n",
    "        }\n",
    "    }\n",
    "    \n",
    "    results = {}\n",
    "    summary_data = []\n",
    "    \n",
    "    for name, config in model_configs.items():\n",
    "        try:\n",
    "            print(f\"\\nEvaluating {name}...\")\n",
    "            \n",
    "            # Initialize model\n",
    "            model = config['class'](**config['params']).to(device)\n",
    "            \n",
    "            # Load checkpoint\n",
    "            checkpoint_path = config['path']\n",
    "            if not os.path.exists(checkpoint_path):\n",
    "                print(f\"No checkpoint found at {checkpoint_path}\")\n",
    "                continue\n",
    "                \n",
    "            checkpoint = torch.load(checkpoint_path, map_location=device)\n",
    "            model.load_state_dict(checkpoint['model_state_dict'])\n",
    "            model.eval()\n",
    "            \n",
    "            # Evaluate model\n",
    "            all_predictions = []\n",
    "            all_true_tags = []\n",
    "            \n",
    "            with torch.no_grad():\n",
    "                for batch_X, batch_y in tqdm(test_loader, desc=f\"Testing {name}\"):\n",
    "                    try:\n",
    "                        batch_X = batch_X.to(device)\n",
    "                        batch_y = batch_y.to(device)\n",
    "                        mask = (batch_X != n_words - 1)\n",
    "                        \n",
    "                        if name == 'BiLSTM-CRF':\n",
    "                            predictions = model(batch_X)\n",
    "                        else:\n",
    "                            # For other models\n",
    "                            logits = model(batch_X, None)  # Add None for char_tensor\n",
    "                            # Ensure logits has shape [batch_size, seq_len, num_tags]\n",
    "                            if logits.dim() == 2:\n",
    "                                logits = logits.unsqueeze(-1)\n",
    "                            predictions = torch.argmax(logits, dim=-1)\n",
    "                        \n",
    "                        # Convert predictions and true labels to tags\n",
    "                        for pred_seq, true_seq, seq_mask in zip(predictions, batch_y, mask):\n",
    "                            valid_len = seq_mask.sum().item()\n",
    "                            \n",
    "                            # Handle predictions\n",
    "                            if isinstance(pred_seq, torch.Tensor):\n",
    "                                pred_tags = [idx2tag[idx.item()] for idx in pred_seq[:valid_len]]\n",
    "                            else:\n",
    "                                pred_tags = [idx2tag[idx] for idx in pred_seq[:valid_len]]\n",
    "                            \n",
    "                            # Handle true labels\n",
    "                            true_tags = [idx2tag[idx.item()] for idx in true_seq[:valid_len]]\n",
    "                            \n",
    "                            all_predictions.extend(pred_tags)\n",
    "                            all_true_tags.extend(true_tags)\n",
    "                            \n",
    "                    except Exception as e:\n",
    "                        print(f\"Error processing batch: {str(e)}\")\n",
    "                        traceback.print_exc()\n",
    "                        continue\n",
    "            \n",
    "            if len(all_predictions) > 0 and len(all_true_tags) > 0:\n",
    "                # Calculate metrics\n",
    "                metrics = calculate_metrics(all_true_tags, all_predictions)\n",
    "                results[name] = metrics\n",
    "                \n",
    "                # Add to summary\n",
    "                summary_data.append({\n",
    "                    'Model': name,\n",
    "                    'Macro Precision': metrics['macro_metrics']['precision'],\n",
    "                    'Macro Recall': metrics['macro_metrics']['recall'],\n",
    "                    'Macro F1': metrics['macro_metrics']['f1'],\n",
    "                    'Accuracy': metrics['accuracy']\n",
    "                })\n",
    "                \n",
    "                print(f\"\\nResults for {name}:\")\n",
    "                print(\"Classification Report:\")\n",
    "                print(metrics['classification_report'])\n",
    "            else:\n",
    "                print(f\"No valid predictions for {name}\")\n",
    "            \n",
    "        except Exception as e:\n",
    "            print(f\"Error evaluating {name}: {str(e)}\")\n",
    "            traceback.print_exc()\n",
    "            continue\n",
    "    \n",
    "    if results:\n",
    "        # Create summary DataFrame\n",
    "        summary = pd.DataFrame(summary_data)\n",
    "        \n",
    "        # Plot comparisons\n",
    "        plot_model_comparisons(results)\n",
    "        \n",
    "        return results, summary\n",
    "    else:\n",
    "        print(\"No results to display.\")\n",
    "        return None, None\n",
    "\n",
    "def run_complete_evaluation():\n",
    "    \"\"\"\n",
    "    Run complete evaluation process including visualization\n",
    "    \"\"\"\n",
    "    try:\n",
    "        # Prepare data\n",
    "        test_loader = prepare_evaluation_data(X_test, y_test)\n",
    "        if test_loader is None:\n",
    "            return None, None\n",
    "            \n",
    "        device = torch.device('cuda' if torch.cuda.is_available() else 'cpu')\n",
    "        print(f\"Using device: {device}\")\n",
    "        \n",
    "        # Run evaluation\n",
    "        results, summary = evaluate_models(test_loader, idx2tag, device)\n",
    "        \n",
    "        # Save results\n",
    "        with open('evaluation_results.txt', 'w') as f:\n",
    "            f.write(\"Model Evaluation Results\\n\")\n",
    "            f.write(\"=\" * 80 + \"\\n\\n\")\n",
    "            \n",
    "            for name, metrics in results.items():\n",
    "                f.write(f\"{name}:\\n\")\n",
    "                f.write(\"-\" * 40 + \"\\n\")\n",
    "                f.write(metrics['classification_report'])\n",
    "                f.write(\"\\n\" + \"=\" * 40 + \"\\n\\n\")\n",
    "            \n",
    "            f.write(\"\\nModel Comparison Summary:\\n\")\n",
    "            f.write(summary.to_string())\n",
    "        \n",
    "        return results, summary\n",
    "        \n",
    "    except Exception as e:\n",
    "        print(f\"Error in evaluation: {str(e)}\")\n",
    "        traceback.print_exc()\n",
    "        return None, None\n",
    "\n",
    "if __name__ == \"__main__\":\n",
    "    print(\"Starting complete evaluation...\")\n",
    "    results, summary = run_complete_evaluation()"
   ]
  }
 ],
 "metadata": {
  "kernelspec": {
   "display_name": "Python 3",
   "language": "python",
   "name": "python3"
  },
  "language_info": {
   "codemirror_mode": {
    "name": "ipython",
    "version": 3
   },
   "file_extension": ".py",
   "mimetype": "text/x-python",
   "name": "python",
   "nbconvert_exporter": "python",
   "pygments_lexer": "ipython3",
   "version": "3.10.11"
  }
 },
 "nbformat": 4,
 "nbformat_minor": 2
}
